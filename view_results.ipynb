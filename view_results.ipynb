{
 "cells": [
  {
   "cell_type": "code",
   "execution_count": null,
   "metadata": {},
   "outputs": [],
   "source": [
    "import pandas as pd\n",
    "import plotly.express as px\n",
    "import os"
   ]
  },
  {
   "cell_type": "code",
   "execution_count": null,
   "metadata": {},
   "outputs": [],
   "source": [
    "save = True"
   ]
  },
  {
   "cell_type": "code",
   "execution_count": null,
   "metadata": {},
   "outputs": [],
   "source": [
    "def make_nice(df):\n",
    "    return df.rename(lambda x: x.replace(\"_\", \" \").title(), axis=1)"
   ]
  },
  {
   "cell_type": "code",
   "execution_count": null,
   "metadata": {},
   "outputs": [],
   "source": [
    "# df = pd.read_pickle(\"results.pkl\")\n",
    "df = pd.concat([pd.read_pickle(\"results - hepph 3.pkl\"), pd.read_pickle(\"results.pkl\")])"
   ]
  },
  {
   "cell_type": "code",
   "execution_count": null,
   "metadata": {},
   "outputs": [],
   "source": [
    "\n",
    "df[\"nodes\"] = df[\"nodes\"].astype(str)\n",
    "df[\"experiment_type\"] = df[\"experiment_type\"].map(lambda x: \"Single Pairs\" if x == \"Single\" else x)\n",
    "df[\"perturber_class\"] = df[\"perturber_class\"].map(lambda x: \"GreedyMin\" if x == \"MinFirst\" else x)\n",
    "df[\"perturber_class\"] = df[\"perturber_class\"].map(lambda x: \"LP\" if x == \"PathAttack\" else x)\n",
    "df[\"graph_name\"] = df[\"graph_name\"].map(lambda x: \"LastFM\" if x == \"LastFM_Asia\" else x)"
   ]
  },
  {
   "cell_type": "code",
   "execution_count": null,
   "metadata": {},
   "outputs": [],
   "source": [
    "print(len(df), sum(df[\"Success\"]), sum(df[\"Success\"])/len(df))\n",
    "for experiment_type in df[\"experiment_type\"].unique():\n",
    "    fig = px.histogram(df[df[\"experiment_type\"] == experiment_type], title=f\"{experiment_type} - Success Rate\", x=\"perturber_class\", color=\"Status\",hover_data=[\"LP Status\"], category_orders={\"perturber_class\": [\"LP\", \"GreedyFirst\", \"GreedyMin\"]})\n",
    "    # fig.update_xaxes(visible=False)\n",
    "    # fig.update_yaxes(visible=False)\n",
    "    fig.show()"
   ]
  },
  {
   "cell_type": "code",
   "execution_count": null,
   "metadata": {},
   "outputs": [],
   "source": [
    "df[\"Average Add Time\"] = df[\"Add Times\"].map(lambda x: sum(x) / len(x) if len(x)>0 else None)\n",
    "df[\"Average Perturb Time\"] = df[\"Perturb Times\"].map(lambda x: sum(x) / len(x) if len(x)>0 else None)\n",
    "df[\"Total Add Time\"] = df[\"Add Times\"].map(sum)\n",
    "df[\"Total Perturb Time\"] = df[\"Perturb Times\"].map(sum)\n",
    "df[\"Overhead Time\"] = df[\"Time Taken\"] - df[\"Total Add Time\"] - df[\"Total Perturb Time\"]"
   ]
  },
  {
   "cell_type": "code",
   "execution_count": null,
   "metadata": {},
   "outputs": [],
   "source": [
    "# df.to_csv(\"results.csv\")"
   ]
  },
  {
   "cell_type": "code",
   "execution_count": null,
   "metadata": {},
   "outputs": [],
   "source": [
    "index_cols = [\"nodes\", \"condition_index\", \"configuration_index\"]\n",
    "global_cols = [\"epsilon\", \"n_nodes_per_experiment\", \"n_experiments\", \"n_trials\", \"min_path_length\", \"use_multithreading\", \"global_budget\"]\n",
    "extra_cols = [\"Status\",\"Add Times\", \"Perturb Times\", \"Perturbation Dict\",\"source\", \"target\", \"LP Status\", \"IIS_paths\", \"IIS_edges\", \"IIS_global_budget\", \"Supporting Paths\", \"Global Budget Slack\"]\n",
    "config_cols = [\"perturber_class\", \"graph_name\", \"k\", \"weights\", \"experiment_type\", \"local_budget\"]\n",
    "data_cols = [\"Time Taken\", \"Iterations\", \"Number of Paths\", \"Number of Edges\", \"Original Distance\", \"Final Distance\", \"Success\", \"Total Perturbations\",\"Total Add Time\", \"Total Perturb Time\", \"Overhead Time\", \"Average Add Time\", \"Average Perturb Time\"]"
   ]
  },
  {
   "cell_type": "code",
   "execution_count": null,
   "metadata": {},
   "outputs": [],
   "source": [
    "# Average Over Trials\n",
    "a = df[index_cols+data_cols].groupby(index_cols).mean()\n",
    "a = a.join(df.set_index(index_cols)[config_cols]) # Add back config information\n",
    "a = a.drop_duplicates()\n",
    "len(a)"
   ]
  },
  {
   "cell_type": "code",
   "execution_count": null,
   "metadata": {},
   "outputs": [],
   "source": [
    "success_nodes = a[(a[\"Success\"]== 1) & (a[\"perturber_class\"] == \"LP\")].reset_index()[\"nodes\"].unique()\n",
    "a = a.loc[success_nodes,:,:]"
   ]
  },
  {
   "cell_type": "code",
   "execution_count": null,
   "metadata": {},
   "outputs": [],
   "source": [
    "## TODO: Instances where the LP is infeasible or runs out of iterations should be removed from the data\n",
    "\n",
    "for y_val in [\"Time Taken\", \"Total Perturbations\"]:\n",
    "    for experiment_type in a[\"experiment_type\"].unique():\n",
    "        for i, weights in enumerate(a[\"weights\"].unique()):\n",
    "            for j, graph_name in enumerate(a[\"graph_name\"].unique()):\n",
    "                s = a[(a[\"experiment_type\"] == experiment_type) & (a[\"k\"].isin([2,5])) & (a[\"graph_name\"] == graph_name) & (a[\"weights\"] == weights)]\n",
    "                fig = px.box(s, \n",
    "                            title=\"\",#f\"{experiment_type}: {y_val}\",\n",
    "                            # x=\"nodes\", \n",
    "                            y=y_val, \n",
    "                            boxmode=\"group\", \n",
    "                            color=\"perturber_class\",\n",
    "                            color_discrete_map={\n",
    "                                \"LP\": '#636EFA', # blue\n",
    "                                \"GreedyFirst\": '#EF553B', # red\n",
    "                                \"GreedyMin\": '#00CC96', # green\n",
    "                            },\n",
    "                            height=400,\n",
    "                            width=400,\n",
    "                            )\n",
    "                fig.update_xaxes(visible=False, matches=None)\n",
    "                fig.update_layout(showlegend=False)\n",
    "                fig.update_layout(yaxis=dict(visible=False))\n",
    "\n",
    "                fig.update_layout(margin=dict(l=10, r=10, t=10, b=10), legend_title_text='')\n",
    "                image_path = f\"Results/Individual Images/{experiment_type}/{graph_name}/\"\n",
    "                if not os.path.exists(os.path.dirname(image_path)):\n",
    "                    os.makedirs(os.path.dirname(image_path))\n",
    "                if save: fig.write_image(image_path+f\"{weights} weights - {y_val}.png\")\n",
    "fig.show()"
   ]
  },
  {
   "cell_type": "code",
   "execution_count": null,
   "metadata": {},
   "outputs": [],
   "source": [
    "for y_val in [\"Time Taken\", \"Total Perturbations\"]:\n",
    "    for experiment_type in a[\"experiment_type\"].unique():\n",
    "        for graph_name in df[\"graph_name\"].unique():\n",
    "            # print(len(a[(a[\"experiment_type\"] == experiment_type) & (a[\"k\"].isin([2,5]) & (a[\"graph_name\"] == graph_name)]))\n",
    "            fig = px.box(a[(a[\"experiment_type\"] == experiment_type) & (a[\"k\"].isin([2,5])) & (a[\"graph_name\"] == graph_name)], \n",
    "                        title=\"\" if save else f\"{graph_name} | {experiment_type}: {y_val}\",\n",
    "                        # x=\"nodes\", \n",
    "                        y=y_val, \n",
    "                        boxmode=\"group\", \n",
    "                        color=\"perturber_class\", \n",
    "                        color_discrete_map={\n",
    "                            \"LP\": '#636EFA', # blue\n",
    "                            \"GreedyFirst\": '#EF553B', # red\n",
    "                            \"GreedyMin\": '#00CC96', # green\n",
    "                        },\n",
    "                        category_orders={\"weights\": [\"Equal\", \"Uniform\", \"Poisson\"]},\n",
    "                        facet_col=\"weights\", \n",
    "                        facet_row=\"graph_name\",  \n",
    "                        height=600,\n",
    "                        width=1000,\n",
    "                        hover_data=data_cols,\n",
    "                        )\n",
    "            fig.update_xaxes(visible=False, matches=None)\n",
    "            fig.for_each_annotation(lambda a: a.update(text=': '.join(a.text.replace(\"_\",\" \").title().split(\"=\"))))\n",
    "            if save: fig.update_layout(margin=dict(l=10, r=10, t=30, b=10))\n",
    "            fig.update_layout( \n",
    "        legend_title_text='Perturber Class',\n",
    "        legend=dict(orientation=\"h\", yanchor=\"bottom\", y=-0.1, xanchor=\"center\",x=0.5, title=\"\"),\n",
    "        font=dict(size=18)\n",
    "        )\n",
    "        \n",
    "            if save: fig.write_image(f\"Results/{experiment_type} - {graph_name} - {y_val}.png\".replace(\"LastFM\", \"LastFM_Asia\"))\n",
    "            else: fig.show()\n",
    "fig.show()"
   ]
  },
  {
   "cell_type": "code",
   "execution_count": null,
   "metadata": {},
   "outputs": [],
   "source": [
    "c = a.reset_index().set_index([\"condition_index\", \"nodes\"]+config_cols[1:]).groupby(\"perturber_class\")\n",
    "optimal = c.get_group(\"LP\").reset_index().set_index([\"condition_index\", \"nodes\"]+config_cols[1:])\n",
    "y_val_dfs = dict()\n",
    "for y_val in [\"Total Perturbations\", \"Time Taken\", \"Iterations\", \"Number of Paths\"]:\n",
    "        y_val_df = pd.DataFrame()\n",
    "        for name, group in c:\n",
    "            y_val_df[name] = group.reset_index().set_index([\"condition_index\", \"nodes\"]+config_cols[1:])[y_val] / optimal[y_val]\n",
    "        mean_df = y_val_df.reset_index().groupby([\"experiment_type\", \"graph_name\", \"weights\", \"k\"]).mean().round(2).astype(str)\n",
    "        std_df = y_val_df.reset_index().groupby([\"experiment_type\", \"graph_name\", \"weights\", \"k\"]).std().round(2).astype(str)\n",
    "        y_val_df = mean_df+\"$\\pm$\"+std_df\n",
    "\n",
    "        y_val_df.index.set_names([name.replace(\"_\", \" \").title() if name != \"k\" else \"k\" for name in y_val_df.index.names], inplace=True)\n",
    "\n",
    "        y_val_df.drop(columns=[\"condition_index\"], inplace=True)\n",
    "        # if y_val_df.reset_index()[\"local_budget\"].unique().size == 1:\n",
    "        #     y_val_df.drop(columns=[\"local_budget\"], inplace=True)\n",
    "        # y_val_df.drop(columns=[\"k\"], inplace=True)\n",
    "        y_val_df = y_val_df.droplevel(\"k\")\n",
    "        y_val_df[\"LP\"] = 1\n",
    "        if save:\n",
    "            for experiment_type in df.experiment_type.unique():\n",
    "                with open(f\"Results/Relative {y_val} Mean Results - {experiment_type}.tex\", \"w\", encoding=\"utf-8\") as f:\n",
    "                    f.write(y_val_df.loc[experiment_type].to_latex(escape=False))\n",
    "        y_val_dfs[y_val] = y_val_df\n",
    "y_val_dfs"
   ]
  },
  {
   "cell_type": "code",
   "execution_count": null,
   "metadata": {},
   "outputs": [],
   "source": [
    "# nodes = a.reset_index()[\"nodes\"].sample(10)\n",
    "# b = a.loc[nodes,:,:].reset_index().set_index([\"configuration_index\", \"condition_index\"])\n",
    "# for experiment_type in a.experiment_type.unique():\n",
    "#     fig = px.bar(b[(b[\"experiment_type\"]==experiment_type) & (b[\"k\"]==5)], \n",
    "#                 title=f\"{experiment_type} Results\",\n",
    "#                 x=\"nodes\", \n",
    "#                 y=\"Time Taken\", \n",
    "#                 barmode=\"group\", \n",
    "#                 color=\"perturber_class\", \n",
    "#                 color_discrete_map={\n",
    "#                     \"LP\": '#636EFA', # blue\n",
    "#                     \"GreedyFirst\": '#EF553B', # red\n",
    "#                     \"GreedyMin\": '#00CC96', # green\n",
    "#                 },\n",
    "#                 facet_col=\"weights\", \n",
    "#                 facet_row=\"graph_name\", \n",
    "#                 pattern_shape=\"Success\", \n",
    "#                 # height=1000,\n",
    "#                 # hover_data=[\"top_k\", \"Average Add Time\", \"Average Perturb Time\", \"Original Distance\", \"Number of Paths\", \"Number of Edges\", \"Iterations\", 'Final Distance',\"Status\", \"LP Status\", \"nodes\"],\n",
    "#                 category_orders={\"experiment_type\": [\"Single\", \"Sets\", \"Multiple Pairs\"], \n",
    "#                                 \"Status\": [\"Success\"]+[s for s in df[\"Status\"].unique() if s != \"Success\"],\n",
    "#                                 \"Success\": [True, False]}\n",
    "#                 )\n",
    "#     fig.update_xaxes(visible=False)\n",
    "#     fig.update_xaxes(matches=None)\n",
    "#     # fig.update_xaxes(visible=True)\n",
    "#     fig.show()"
   ]
  }
 ],
 "metadata": {
  "kernelspec": {
   "display_name": "gurobi",
   "language": "python",
   "name": "python3"
  },
  "language_info": {
   "codemirror_mode": {
    "name": "ipython",
    "version": 3
   },
   "file_extension": ".py",
   "mimetype": "text/x-python",
   "name": "python",
   "nbconvert_exporter": "python",
   "pygments_lexer": "ipython3",
   "version": "3.10.8"
  },
  "orig_nbformat": 4,
  "vscode": {
   "interpreter": {
    "hash": "58767115bfc5442e8a9b964f11fbe5a0a1a5198c790ff96fb7618efb86a4a4a0"
   }
  }
 },
 "nbformat": 4,
 "nbformat_minor": 2
}
