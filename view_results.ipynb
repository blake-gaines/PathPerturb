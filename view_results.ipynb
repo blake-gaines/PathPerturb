{
 "cells": [
  {
   "cell_type": "code",
   "execution_count": 565,
   "metadata": {},
   "outputs": [],
   "source": [
    "import pandas as pd\n",
    "import plotly.express as px"
   ]
  },
  {
   "cell_type": "code",
   "execution_count": 566,
   "metadata": {},
   "outputs": [
    {
     "data": {
      "text/plain": [
       "Index([], dtype='object')"
      ]
     },
     "execution_count": 566,
     "metadata": {},
     "output_type": "execute_result"
    }
   ],
   "source": [
    "pd.read_pickle(\"failed_experiments.pkl\").columns"
   ]
  },
  {
   "cell_type": "code",
   "execution_count": 567,
   "metadata": {},
   "outputs": [],
   "source": [
    "df = pd.read_pickle(\"results.pkl\")"
   ]
  },
  {
   "cell_type": "code",
   "execution_count": 568,
   "metadata": {},
   "outputs": [],
   "source": [
    "# df[[\"LP Status\", \"IIS_paths\", \"IIS_edges\", \"IIS_global_budget\",\"experiment_type\"]]"
   ]
  },
  {
   "cell_type": "code",
   "execution_count": 569,
   "metadata": {},
   "outputs": [
    {
     "data": {
      "text/plain": [
       "(58, 1.0)"
      ]
     },
     "execution_count": 569,
     "metadata": {},
     "output_type": "execute_result"
    }
   ],
   "source": [
    "sum(df[\"Success\"]), sum(df[\"Success\"])/len(df)"
   ]
  },
  {
   "cell_type": "code",
   "execution_count": 570,
   "metadata": {},
   "outputs": [
    {
     "data": {
      "text/plain": [
       "(Index(['Original Distance', 'Time Taken', 'Success', 'Number of Paths',\n",
       "        'Number of Edges', 'Add Times', 'Perturb Times', 'Iterations',\n",
       "        'Final Distance', 'Status', 'Perturbation Dict', 'Total Perturbations',\n",
       "        'Perturbation Failure', 'graph_name', 'weights', 'experiment_type',\n",
       "        'n_nodes_per_experiment', 'n_experiments', 'n_trials',\n",
       "        'min_path_length', 'condition_index', 'use_multithreading', 'nodes',\n",
       "        'source', 'target', 'configuration_index', 'perturber_class',\n",
       "        'global_budget', 'local_budget', 'epsilon', 'k', 'top_k',\n",
       "        'max_iterations', 'LP Status', 'Global Budget Slack',\n",
       "        'Supporting Paths'],\n",
       "       dtype='object'),\n",
       " 58)"
      ]
     },
     "execution_count": 570,
     "metadata": {},
     "output_type": "execute_result"
    }
   ],
   "source": [
    "df.columns, len(df)"
   ]
  },
  {
   "cell_type": "code",
   "execution_count": 571,
   "metadata": {},
   "outputs": [],
   "source": [
    "df[\"Average Add Time\"] = df[\"Add Times\"].map(lambda x: sum(x) / len(x) if len(x)>0 else None)\n",
    "df[\"Average Perturb Time\"] = df[\"Perturb Times\"].map(lambda x: sum(x) / len(x) if len(x)>0 else None)"
   ]
  },
  {
   "cell_type": "code",
   "execution_count": 572,
   "metadata": {},
   "outputs": [],
   "source": [
    "df.to_csv(\"results.csv\")"
   ]
  },
  {
   "cell_type": "code",
   "execution_count": 573,
   "metadata": {},
   "outputs": [
    {
     "data": {
      "text/html": [
       "<div>\n",
       "<style scoped>\n",
       "    .dataframe tbody tr th:only-of-type {\n",
       "        vertical-align: middle;\n",
       "    }\n",
       "\n",
       "    .dataframe tbody tr th {\n",
       "        vertical-align: top;\n",
       "    }\n",
       "\n",
       "    .dataframe thead th {\n",
       "        text-align: right;\n",
       "    }\n",
       "</style>\n",
       "<table border=\"1\" class=\"dataframe\">\n",
       "  <thead>\n",
       "    <tr style=\"text-align: right;\">\n",
       "      <th></th>\n",
       "      <th></th>\n",
       "      <th>Original Distance</th>\n",
       "      <th>Time Taken</th>\n",
       "      <th>Success</th>\n",
       "      <th>Number of Paths</th>\n",
       "      <th>Number of Edges</th>\n",
       "      <th>Iterations</th>\n",
       "      <th>Final Distance</th>\n",
       "      <th>Total Perturbations</th>\n",
       "      <th>Perturbation Failure</th>\n",
       "      <th>n_nodes_per_experiment</th>\n",
       "      <th>...</th>\n",
       "      <th>global_budget</th>\n",
       "      <th>local_budget</th>\n",
       "      <th>epsilon</th>\n",
       "      <th>k</th>\n",
       "      <th>top_k</th>\n",
       "      <th>max_iterations</th>\n",
       "      <th>LP Status</th>\n",
       "      <th>Global Budget Slack</th>\n",
       "      <th>Average Add Time</th>\n",
       "      <th>Average Perturb Time</th>\n",
       "    </tr>\n",
       "    <tr>\n",
       "      <th>condition_index</th>\n",
       "      <th>configuration_index</th>\n",
       "      <th></th>\n",
       "      <th></th>\n",
       "      <th></th>\n",
       "      <th></th>\n",
       "      <th></th>\n",
       "      <th></th>\n",
       "      <th></th>\n",
       "      <th></th>\n",
       "      <th></th>\n",
       "      <th></th>\n",
       "      <th></th>\n",
       "      <th></th>\n",
       "      <th></th>\n",
       "      <th></th>\n",
       "      <th></th>\n",
       "      <th></th>\n",
       "      <th></th>\n",
       "      <th></th>\n",
       "      <th></th>\n",
       "      <th></th>\n",
       "      <th></th>\n",
       "    </tr>\n",
       "  </thead>\n",
       "  <tbody>\n",
       "    <tr>\n",
       "      <th rowspan=\"6\" valign=\"top\">0</th>\n",
       "      <th>0</th>\n",
       "      <td>6.600000</td>\n",
       "      <td>1.406705</td>\n",
       "      <td>1.0</td>\n",
       "      <td>33.300000</td>\n",
       "      <td>70.100000</td>\n",
       "      <td>33.300000</td>\n",
       "      <td>20.800000</td>\n",
       "      <td>53.300000</td>\n",
       "      <td>0.0</td>\n",
       "      <td>10.0</td>\n",
       "      <td>...</td>\n",
       "      <td>1000.0</td>\n",
       "      <td>500.0</td>\n",
       "      <td>0.1</td>\n",
       "      <td>3.0</td>\n",
       "      <td>1.0</td>\n",
       "      <td>200.0</td>\n",
       "      <td>2.0</td>\n",
       "      <td>946.700000</td>\n",
       "      <td>0.009094</td>\n",
       "      <td>0.003605</td>\n",
       "    </tr>\n",
       "    <tr>\n",
       "      <th>1</th>\n",
       "      <td>6.666667</td>\n",
       "      <td>0.736490</td>\n",
       "      <td>1.0</td>\n",
       "      <td>19.888889</td>\n",
       "      <td>51.666667</td>\n",
       "      <td>19.888889</td>\n",
       "      <td>34.333333</td>\n",
       "      <td>91.888889</td>\n",
       "      <td>0.0</td>\n",
       "      <td>10.0</td>\n",
       "      <td>...</td>\n",
       "      <td>1000.0</td>\n",
       "      <td>500.0</td>\n",
       "      <td>0.1</td>\n",
       "      <td>5.0</td>\n",
       "      <td>1.0</td>\n",
       "      <td>200.0</td>\n",
       "      <td>2.0</td>\n",
       "      <td>908.111111</td>\n",
       "      <td>0.008760</td>\n",
       "      <td>0.001476</td>\n",
       "    </tr>\n",
       "    <tr>\n",
       "      <th>2</th>\n",
       "      <td>6.600000</td>\n",
       "      <td>0.531890</td>\n",
       "      <td>1.0</td>\n",
       "      <td>19.900000</td>\n",
       "      <td>45.200000</td>\n",
       "      <td>19.900000</td>\n",
       "      <td>19.900000</td>\n",
       "      <td>236.490000</td>\n",
       "      <td>0.0</td>\n",
       "      <td>10.0</td>\n",
       "      <td>...</td>\n",
       "      <td>1000.0</td>\n",
       "      <td>500.0</td>\n",
       "      <td>0.1</td>\n",
       "      <td>3.0</td>\n",
       "      <td>1.0</td>\n",
       "      <td>200.0</td>\n",
       "      <td>NaN</td>\n",
       "      <td>NaN</td>\n",
       "      <td>0.006382</td>\n",
       "      <td>0.000003</td>\n",
       "    </tr>\n",
       "    <tr>\n",
       "      <th>3</th>\n",
       "      <td>6.600000</td>\n",
       "      <td>0.545652</td>\n",
       "      <td>1.0</td>\n",
       "      <td>19.900000</td>\n",
       "      <td>45.200000</td>\n",
       "      <td>19.900000</td>\n",
       "      <td>33.100000</td>\n",
       "      <td>488.490000</td>\n",
       "      <td>0.0</td>\n",
       "      <td>10.0</td>\n",
       "      <td>...</td>\n",
       "      <td>1000.0</td>\n",
       "      <td>500.0</td>\n",
       "      <td>0.1</td>\n",
       "      <td>5.0</td>\n",
       "      <td>1.0</td>\n",
       "      <td>200.0</td>\n",
       "      <td>NaN</td>\n",
       "      <td>NaN</td>\n",
       "      <td>0.006847</td>\n",
       "      <td>0.000002</td>\n",
       "    </tr>\n",
       "    <tr>\n",
       "      <th>4</th>\n",
       "      <td>6.600000</td>\n",
       "      <td>0.543853</td>\n",
       "      <td>1.0</td>\n",
       "      <td>19.900000</td>\n",
       "      <td>45.200000</td>\n",
       "      <td>19.900000</td>\n",
       "      <td>19.900000</td>\n",
       "      <td>236.490000</td>\n",
       "      <td>0.0</td>\n",
       "      <td>10.0</td>\n",
       "      <td>...</td>\n",
       "      <td>1000.0</td>\n",
       "      <td>500.0</td>\n",
       "      <td>0.1</td>\n",
       "      <td>3.0</td>\n",
       "      <td>1.0</td>\n",
       "      <td>200.0</td>\n",
       "      <td>NaN</td>\n",
       "      <td>NaN</td>\n",
       "      <td>0.006614</td>\n",
       "      <td>0.000009</td>\n",
       "    </tr>\n",
       "    <tr>\n",
       "      <th>5</th>\n",
       "      <td>6.666667</td>\n",
       "      <td>0.594780</td>\n",
       "      <td>1.0</td>\n",
       "      <td>21.666667</td>\n",
       "      <td>48.555556</td>\n",
       "      <td>21.666667</td>\n",
       "      <td>33.433333</td>\n",
       "      <td>532.388889</td>\n",
       "      <td>0.0</td>\n",
       "      <td>10.0</td>\n",
       "      <td>...</td>\n",
       "      <td>1000.0</td>\n",
       "      <td>500.0</td>\n",
       "      <td>0.1</td>\n",
       "      <td>5.0</td>\n",
       "      <td>1.0</td>\n",
       "      <td>200.0</td>\n",
       "      <td>NaN</td>\n",
       "      <td>NaN</td>\n",
       "      <td>0.007808</td>\n",
       "      <td>0.000000</td>\n",
       "    </tr>\n",
       "  </tbody>\n",
       "</table>\n",
       "<p>6 rows × 26 columns</p>\n",
       "</div>"
      ],
      "text/plain": [
       "                                     Original Distance  Time Taken  Success  \\\n",
       "condition_index configuration_index                                           \n",
       "0               0                             6.600000    1.406705      1.0   \n",
       "                1                             6.666667    0.736490      1.0   \n",
       "                2                             6.600000    0.531890      1.0   \n",
       "                3                             6.600000    0.545652      1.0   \n",
       "                4                             6.600000    0.543853      1.0   \n",
       "                5                             6.666667    0.594780      1.0   \n",
       "\n",
       "                                     Number of Paths  Number of Edges  \\\n",
       "condition_index configuration_index                                     \n",
       "0               0                          33.300000        70.100000   \n",
       "                1                          19.888889        51.666667   \n",
       "                2                          19.900000        45.200000   \n",
       "                3                          19.900000        45.200000   \n",
       "                4                          19.900000        45.200000   \n",
       "                5                          21.666667        48.555556   \n",
       "\n",
       "                                     Iterations  Final Distance  \\\n",
       "condition_index configuration_index                               \n",
       "0               0                     33.300000       20.800000   \n",
       "                1                     19.888889       34.333333   \n",
       "                2                     19.900000       19.900000   \n",
       "                3                     19.900000       33.100000   \n",
       "                4                     19.900000       19.900000   \n",
       "                5                     21.666667       33.433333   \n",
       "\n",
       "                                     Total Perturbations  \\\n",
       "condition_index configuration_index                        \n",
       "0               0                              53.300000   \n",
       "                1                              91.888889   \n",
       "                2                             236.490000   \n",
       "                3                             488.490000   \n",
       "                4                             236.490000   \n",
       "                5                             532.388889   \n",
       "\n",
       "                                     Perturbation Failure  \\\n",
       "condition_index configuration_index                         \n",
       "0               0                                     0.0   \n",
       "                1                                     0.0   \n",
       "                2                                     0.0   \n",
       "                3                                     0.0   \n",
       "                4                                     0.0   \n",
       "                5                                     0.0   \n",
       "\n",
       "                                     n_nodes_per_experiment  ...  \\\n",
       "condition_index configuration_index                          ...   \n",
       "0               0                                      10.0  ...   \n",
       "                1                                      10.0  ...   \n",
       "                2                                      10.0  ...   \n",
       "                3                                      10.0  ...   \n",
       "                4                                      10.0  ...   \n",
       "                5                                      10.0  ...   \n",
       "\n",
       "                                     global_budget  local_budget  epsilon  \\\n",
       "condition_index configuration_index                                         \n",
       "0               0                           1000.0         500.0      0.1   \n",
       "                1                           1000.0         500.0      0.1   \n",
       "                2                           1000.0         500.0      0.1   \n",
       "                3                           1000.0         500.0      0.1   \n",
       "                4                           1000.0         500.0      0.1   \n",
       "                5                           1000.0         500.0      0.1   \n",
       "\n",
       "                                       k  top_k  max_iterations  LP Status  \\\n",
       "condition_index configuration_index                                          \n",
       "0               0                    3.0    1.0           200.0        2.0   \n",
       "                1                    5.0    1.0           200.0        2.0   \n",
       "                2                    3.0    1.0           200.0        NaN   \n",
       "                3                    5.0    1.0           200.0        NaN   \n",
       "                4                    3.0    1.0           200.0        NaN   \n",
       "                5                    5.0    1.0           200.0        NaN   \n",
       "\n",
       "                                     Global Budget Slack  Average Add Time  \\\n",
       "condition_index configuration_index                                          \n",
       "0               0                             946.700000          0.009094   \n",
       "                1                             908.111111          0.008760   \n",
       "                2                                    NaN          0.006382   \n",
       "                3                                    NaN          0.006847   \n",
       "                4                                    NaN          0.006614   \n",
       "                5                                    NaN          0.007808   \n",
       "\n",
       "                                     Average Perturb Time  \n",
       "condition_index configuration_index                        \n",
       "0               0                                0.003605  \n",
       "                1                                0.001476  \n",
       "                2                                0.000003  \n",
       "                3                                0.000002  \n",
       "                4                                0.000009  \n",
       "                5                                0.000000  \n",
       "\n",
       "[6 rows x 26 columns]"
      ]
     },
     "execution_count": 573,
     "metadata": {},
     "output_type": "execute_result"
    }
   ],
   "source": [
    "# df.set_index([\"condition_index\", \"configuration_index\"]).sort_index()\n",
    "df.groupby([\"condition_index\", \"configuration_index\"]).mean()"
   ]
  },
  {
   "cell_type": "code",
   "execution_count": 574,
   "metadata": {},
   "outputs": [
    {
     "data": {
      "text/plain": [
       "(1      12\n",
       " 4       7\n",
       " 2       6\n",
       " 53      5\n",
       " 73      4\n",
       " 13      4\n",
       " 30      4\n",
       " 18      4\n",
       " 8       2\n",
       " 3       2\n",
       " 15      2\n",
       " 16      2\n",
       " 80      1\n",
       " 96      1\n",
       " 49      1\n",
       " 142     1\n",
       " Name: Number of Paths, dtype: int64,\n",
       " 1      12\n",
       " 4       7\n",
       " 2       6\n",
       " 53      5\n",
       " 73      4\n",
       " 13      4\n",
       " 30      4\n",
       " 18      4\n",
       " 8       2\n",
       " 3       2\n",
       " 15      2\n",
       " 16      2\n",
       " 80      1\n",
       " 96      1\n",
       " 49      1\n",
       " 142     1\n",
       " Name: Iterations, dtype: int64)"
      ]
     },
     "execution_count": 574,
     "metadata": {},
     "output_type": "execute_result"
    }
   ],
   "source": [
    "df[\"Number of Paths\"].value_counts(), df[\"Iterations\"].value_counts()"
   ]
  },
  {
   "cell_type": "code",
   "execution_count": 575,
   "metadata": {},
   "outputs": [
    {
     "data": {
      "application/vnd.plotly.v1+json": {
       "config": {
        "plotlyServerURL": "https://plot.ly"
       },
       "data": [
        {
         "alignmentgroup": "True",
         "customdata": [
          [
           1,
           0.004003763198852539,
           0,
           8,
           2,
           10,
           2,
           40.1,
           "Success",
           null
          ],
          [
           1,
           0.003689068668293503,
           0.000018484187576006043,
           7,
           53,
           111,
           53,
           35.1,
           "Success",
           null
          ],
          [
           1,
           0.00799478243475091,
           0,
           6,
           73,
           150,
           73,
           30.1,
           "Success",
           null
          ],
          [
           1,
           0.0023851578052227315,
           0,
           6,
           13,
           30,
           13,
           30.1,
           "Success",
           null
          ],
          [
           1,
           0.008850685755411784,
           0,
           6,
           30,
           69,
           30,
           30.1,
           "Success",
           null
          ],
          [
           1,
           0.0048770904541015625,
           0,
           8,
           4,
           14,
           4,
           40.1,
           "Success",
           null
          ],
          [
           1,
           0.004006862640380859,
           0,
           6,
           1,
           6,
           1,
           30.1,
           "Success",
           null
          ],
          [
           1,
           0.012997627258300781,
           0,
           7,
           1,
           7,
           1,
           35.1,
           "Success",
           null
          ],
          [
           1,
           0.01291746563381619,
           0,
           6,
           18,
           40,
           18,
           30.1,
           "Success",
           null
          ],
          [
           1,
           0.006752371788024902,
           0,
           6,
           4,
           15,
           4,
           30.1,
           "Success",
           null
          ]
         ],
         "hovertemplate": "perturber_class=GreedyFirst<br>Success=True<br>k=5<br>weights=Equal<br>nodes=%{x}<br>Time Taken=%{y}<br>top_k=%{customdata[0]}<br>Average Add Time=%{customdata[1]}<br>Average Perturb Time=%{customdata[2]}<br>Original Distance=%{customdata[3]}<br>Number of Paths=%{customdata[4]}<br>Number of Edges=%{customdata[5]}<br>Iterations=%{customdata[6]}<br>Final Distance=%{customdata[7]}<br>Status=%{customdata[8]}<br>LP Status=%{customdata[9]}<extra></extra>",
         "legendgroup": "GreedyFirst, True",
         "marker": {
          "color": "#636efa",
          "pattern": {
           "shape": ""
          }
         },
         "name": "GreedyFirst, True",
         "offsetgroup": "GreedyFirst, True",
         "orientation": "v",
         "showlegend": true,
         "textposition": "auto",
         "type": "bar",
         "x": [
          [
           2998,
           603
          ],
          [
           3056,
           1169
          ],
          [
           3078,
           403
          ],
          [
           1615,
           695
          ],
          [
           3331,
           949
          ],
          [
           2947,
           1167
          ],
          [
           2671,
           964
          ],
          [
           2341,
           2077
          ],
          [
           2577,
           902
          ],
          [
           2790,
           924
          ]
         ],
         "xaxis": "x2",
         "y": [
          0.23621177673339844,
          0.7880682945251465,
          1.3312056064605713,
          0.2926595211029053,
          0.8313734531402588,
          0.275559663772583,
          0.25619053840637207,
          0.2791154384613037,
          0.7552335262298584,
          0.41089916229248047
         ],
         "yaxis": "y2"
        },
        {
         "alignmentgroup": "True",
         "customdata": [
          [
           1,
           0.004000186920166016,
           0,
           8,
           2,
           10,
           2,
           24.1,
           "Success",
           null
          ],
          [
           1,
           0.00364192026966023,
           0,
           7,
           53,
           111,
           53,
           21.1,
           "Success",
           null
          ],
          [
           1,
           0.008539480705783791,
           0.00002737894450148491,
           6,
           73,
           150,
           73,
           18.1,
           "Success",
           null
          ],
          [
           1,
           0.0022732844719519983,
           0,
           6,
           13,
           30,
           13,
           18.1,
           "Success",
           null
          ],
          [
           1,
           0.006884129842122396,
           0,
           6,
           30,
           69,
           30,
           18.1,
           "Success",
           null
          ],
          [
           1,
           0.003887653350830078,
           0,
           8,
           4,
           14,
           4,
           24.1,
           "Success",
           null
          ],
          [
           1,
           0.00402069091796875,
           0,
           6,
           1,
           6,
           1,
           18.1,
           "Success",
           null
          ],
          [
           1,
           0.011007070541381836,
           0,
           7,
           1,
           7,
           1,
           21.1,
           "Success",
           null
          ],
          [
           1,
           0.012565427356296115,
           0,
           6,
           18,
           40,
           18,
           18.1,
           "Success",
           null
          ],
          [
           1,
           0.007000923156738281,
           0,
           6,
           4,
           15,
           4,
           18.1,
           "Success",
           null
          ]
         ],
         "hovertemplate": "perturber_class=GreedyFirst<br>Success=True<br>k=3<br>weights=Equal<br>nodes=%{x}<br>Time Taken=%{y}<br>top_k=%{customdata[0]}<br>Average Add Time=%{customdata[1]}<br>Average Perturb Time=%{customdata[2]}<br>Original Distance=%{customdata[3]}<br>Number of Paths=%{customdata[4]}<br>Number of Edges=%{customdata[5]}<br>Iterations=%{customdata[6]}<br>Final Distance=%{customdata[7]}<br>Status=%{customdata[8]}<br>LP Status=%{customdata[9]}<extra></extra>",
         "legendgroup": "GreedyFirst, True",
         "marker": {
          "color": "#636efa",
          "pattern": {
           "shape": ""
          }
         },
         "name": "GreedyFirst, True",
         "offsetgroup": "GreedyFirst, True",
         "orientation": "v",
         "showlegend": false,
         "textposition": "auto",
         "type": "bar",
         "x": [
          [
           2998,
           603
          ],
          [
           3056,
           1169
          ],
          [
           3078,
           403
          ],
          [
           1615,
           695
          ],
          [
           3331,
           949
          ],
          [
           2947,
           1167
          ],
          [
           2671,
           964
          ],
          [
           2341,
           2077
          ],
          [
           2577,
           902
          ],
          [
           2790,
           924
          ]
         ],
         "xaxis": "x",
         "y": [
          0.24753236770629883,
          0.7630751132965088,
          1.36368989944458,
          0.3076663017272949,
          0.7194709777832031,
          0.2626621723175049,
          0.24460196495056152,
          0.2678952217102051,
          0.7328407764434814,
          0.40946340560913086
         ],
         "yaxis": "y"
        },
        {
         "alignmentgroup": "True",
         "customdata": [
          [
           1,
           0.003997683525085449,
           0,
           8,
           2,
           10,
           2,
           40.1,
           "Success",
           null
          ],
          [
           1,
           0.005057978180219543,
           0,
           7,
           53,
           111,
           53,
           35.1,
           "Success",
           null
          ],
          [
           1,
           0.006928953405928939,
           0,
           6,
           73,
           150,
           73,
           30.1,
           "Success",
           null
          ],
          [
           1,
           0.0029244789710411658,
           0,
           6,
           13,
           30,
           13,
           30.1,
           "Success",
           null
          ],
          [
           1,
           0.008654308319091798,
           0,
           6,
           30,
           69,
           30,
           30.1,
           "Success",
           null
          ],
          [
           1,
           0.004380404949188232,
           0,
           8,
           4,
           14,
           4,
           40.1,
           "Success",
           null
          ],
          [
           1,
           0.003992795944213867,
           0,
           6,
           1,
           6,
           1,
           30.1,
           "Success",
           null
          ],
          [
           1,
           0.01800251007080078,
           0,
           7,
           1,
           7,
           1,
           35.1,
           "Success",
           null
          ],
          [
           1,
           0.016336970859103732,
           0,
           6,
           18,
           40,
           18,
           30.1,
           "Success",
           null
          ]
         ],
         "hovertemplate": "perturber_class=MinFirst<br>Success=True<br>k=5<br>weights=Equal<br>nodes=%{x}<br>Time Taken=%{y}<br>top_k=%{customdata[0]}<br>Average Add Time=%{customdata[1]}<br>Average Perturb Time=%{customdata[2]}<br>Original Distance=%{customdata[3]}<br>Number of Paths=%{customdata[4]}<br>Number of Edges=%{customdata[5]}<br>Iterations=%{customdata[6]}<br>Final Distance=%{customdata[7]}<br>Status=%{customdata[8]}<br>LP Status=%{customdata[9]}<extra></extra>",
         "legendgroup": "MinFirst, True",
         "marker": {
          "color": "#EF553B",
          "pattern": {
           "shape": ""
          }
         },
         "name": "MinFirst, True",
         "offsetgroup": "MinFirst, True",
         "orientation": "v",
         "showlegend": true,
         "textposition": "auto",
         "type": "bar",
         "x": [
          [
           2998,
           603
          ],
          [
           3056,
           1169
          ],
          [
           3078,
           403
          ],
          [
           1615,
           695
          ],
          [
           3331,
           949
          ],
          [
           2947,
           1167
          ],
          [
           2671,
           964
          ],
          [
           2341,
           2077
          ],
          [
           2577,
           902
          ]
         ],
         "xaxis": "x2",
         "y": [
          0.2453010082244873,
          0.9832828044891357,
          1.1630957126617432,
          0.40111541748046875,
          0.8344252109527588,
          0.29351234436035156,
          0.2425546646118164,
          0.31856322288513184,
          0.8711678981781006
         ],
         "yaxis": "y2"
        },
        {
         "alignmentgroup": "True",
         "customdata": [
          [
           1,
           0.0040007829666137695,
           0,
           8,
           2,
           10,
           2,
           24.1,
           "Success",
           null
          ],
          [
           1,
           0.00394260658408111,
           0,
           7,
           53,
           111,
           53,
           21.1,
           "Success",
           null
          ],
          [
           1,
           0.008715567523485993,
           0.00001371396731023919,
           6,
           73,
           150,
           73,
           18.1,
           "Success",
           null
          ],
          [
           1,
           0.002231597900390625,
           0.00007689916170560397,
           6,
           13,
           30,
           13,
           18.1,
           "Success",
           null
          ],
          [
           1,
           0.007970253626505533,
           0,
           6,
           30,
           69,
           30,
           18.1,
           "Success",
           null
          ],
          [
           1,
           0.004499852657318115,
           0,
           8,
           4,
           14,
           4,
           24.1,
           "Success",
           null
          ],
          [
           1,
           0.003000020980834961,
           0,
           6,
           1,
           6,
           1,
           18.1,
           "Success",
           null
          ],
          [
           1,
           0.013000249862670898,
           0,
           7,
           1,
           7,
           1,
           21.1,
           "Success",
           null
          ],
          [
           1,
           0.014278080728318956,
           0,
           6,
           18,
           40,
           18,
           18.1,
           "Success",
           null
          ],
          [
           1,
           0.004503488540649414,
           0,
           6,
           4,
           15,
           4,
           18.1,
           "Success",
           null
          ]
         ],
         "hovertemplate": "perturber_class=MinFirst<br>Success=True<br>k=3<br>weights=Equal<br>nodes=%{x}<br>Time Taken=%{y}<br>top_k=%{customdata[0]}<br>Average Add Time=%{customdata[1]}<br>Average Perturb Time=%{customdata[2]}<br>Original Distance=%{customdata[3]}<br>Number of Paths=%{customdata[4]}<br>Number of Edges=%{customdata[5]}<br>Iterations=%{customdata[6]}<br>Final Distance=%{customdata[7]}<br>Status=%{customdata[8]}<br>LP Status=%{customdata[9]}<extra></extra>",
         "legendgroup": "MinFirst, True",
         "marker": {
          "color": "#EF553B",
          "pattern": {
           "shape": ""
          }
         },
         "name": "MinFirst, True",
         "offsetgroup": "MinFirst, True",
         "orientation": "v",
         "showlegend": false,
         "textposition": "auto",
         "type": "bar",
         "x": [
          [
           2998,
           603
          ],
          [
           3056,
           1169
          ],
          [
           3078,
           403
          ],
          [
           1615,
           695
          ],
          [
           3331,
           949
          ],
          [
           2947,
           1167
          ],
          [
           2671,
           964
          ],
          [
           2341,
           2077
          ],
          [
           2577,
           902
          ],
          [
           2790,
           924
          ]
         ],
         "xaxis": "x",
         "y": [
          0.24506306648254395,
          0.7839994430541992,
          1.3981261253356934,
          0.29763317108154297,
          0.7965519428253174,
          0.281588077545166,
          0.233079195022583,
          0.2650184631347656,
          0.8222200870513916,
          0.31525135040283203
         ],
         "yaxis": "y"
        },
        {
         "alignmentgroup": "True",
         "customdata": [
          [
           1,
           0.0037642717361450195,
           0,
           8,
           2,
           11,
           2,
           41,
           "Success",
           2
          ],
          [
           1,
           0.007749199867248535,
           0.0011205971240997314,
           7,
           8,
           27,
           8,
           36,
           "Success",
           2
          ],
          [
           1,
           0.016771951317787172,
           0.00430881381034851,
           6,
           80,
           193,
           80,
           31,
           "Success",
           2
          ],
          [
           1,
           0.003999471664428711,
           0.0003333091735839844,
           6,
           3,
           10,
           3,
           31,
           "Success",
           2
          ],
          [
           1,
           0.01188502221737268,
           0.0023835695014809664,
           6,
           53,
           119,
           53,
           31,
           "Success",
           2
          ],
          [
           1,
           0.0066343943277994795,
           0.0011061032613118489,
           8,
           15,
           46,
           15,
           41,
           "Success",
           2
          ],
          [
           1,
           0.002995014190673828,
           0.0009996891021728516,
           6,
           1,
           6,
           1,
           31,
           "Success",
           2
          ],
          [
           1,
           0.01500248908996582,
           0.001001119613647461,
           7,
           1,
           7,
           1,
           36,
           "Success",
           2
          ],
          [
           1,
           0.010038048028945923,
           0.0020314157009124756,
           6,
           16,
           46,
           16,
           31,
           "Success",
           2
          ]
         ],
         "hovertemplate": "perturber_class=PathAttack<br>Success=True<br>k=5<br>weights=Equal<br>nodes=%{x}<br>Time Taken=%{y}<br>top_k=%{customdata[0]}<br>Average Add Time=%{customdata[1]}<br>Average Perturb Time=%{customdata[2]}<br>Original Distance=%{customdata[3]}<br>Number of Paths=%{customdata[4]}<br>Number of Edges=%{customdata[5]}<br>Iterations=%{customdata[6]}<br>Final Distance=%{customdata[7]}<br>Status=%{customdata[8]}<br>LP Status=%{customdata[9]}<extra></extra>",
         "legendgroup": "PathAttack, True",
         "marker": {
          "color": "#00cc96",
          "pattern": {
           "shape": ""
          }
         },
         "name": "PathAttack, True",
         "offsetgroup": "PathAttack, True",
         "orientation": "v",
         "showlegend": true,
         "textposition": "auto",
         "type": "bar",
         "x": [
          [
           2998,
           603
          ],
          [
           3056,
           1169
          ],
          [
           3078,
           403
          ],
          [
           1615,
           695
          ],
          [
           3331,
           949
          ],
          [
           2947,
           1167
          ],
          [
           2671,
           964
          ],
          [
           2341,
           2077
          ],
          [
           2790,
           924
          ]
         ],
         "xaxis": "x2",
         "y": [
          0.22809171676635742,
          0.3839879035949707,
          2.6085195541381836,
          0.23659849166870117,
          1.5901570320129395,
          0.4247288703918457,
          0.21807122230529785,
          0.25604963302612305,
          0.6822066307067871
         ],
         "yaxis": "y2"
        },
        {
         "alignmentgroup": "True",
         "customdata": [
          [
           1,
           0.0035022497177124023,
           0.0005010366439819336,
           8,
           2,
           11,
           2,
           25,
           "Success",
           2
          ],
          [
           1,
           0.008998662233352661,
           0.0011262595653533936,
           7,
           8,
           27,
           8,
           22,
           "Success",
           2
          ],
          [
           1,
           0.01779406766096751,
           0.00460275262594223,
           6,
           96,
           191,
           96,
           19,
           "Success",
           2
          ],
          [
           1,
           0.0045057932535807295,
           0.0003331502278645833,
           6,
           3,
           10,
           3,
           19,
           "Success",
           2
          ],
          [
           1,
           0.01040361365493463,
           0.0020498013009830397,
           6,
           49,
           116,
           49,
           19,
           "Success",
           2
          ],
          [
           1,
           0.005902242660522461,
           0.0011690934499104819,
           8,
           15,
           46,
           15,
           25,
           "Success",
           2
          ],
          [
           1,
           0.00500035285949707,
           0.001001119613647461,
           6,
           1,
           6,
           1,
           19,
           "Success",
           2
          ],
          [
           1,
           0.012455224990844727,
           0.0009999275207519531,
           7,
           1,
           7,
           1,
           22,
           "Success",
           2
          ],
          [
           1,
           0.009989455342292786,
           0.0025779902935028076,
           6,
           16,
           46,
           16,
           19,
           "Success",
           2
          ],
          [
           1,
           0.012388311641317018,
           0.02169163294241462,
           6,
           142,
           241,
           142,
           19,
           "Success",
           2
          ]
         ],
         "hovertemplate": "perturber_class=PathAttack<br>Success=True<br>k=3<br>weights=Equal<br>nodes=%{x}<br>Time Taken=%{y}<br>top_k=%{customdata[0]}<br>Average Add Time=%{customdata[1]}<br>Average Perturb Time=%{customdata[2]}<br>Original Distance=%{customdata[3]}<br>Number of Paths=%{customdata[4]}<br>Number of Edges=%{customdata[5]}<br>Iterations=%{customdata[6]}<br>Final Distance=%{customdata[7]}<br>Status=%{customdata[8]}<br>LP Status=%{customdata[9]}<extra></extra>",
         "legendgroup": "PathAttack, True",
         "marker": {
          "color": "#00cc96",
          "pattern": {
           "shape": ""
          }
         },
         "name": "PathAttack, True",
         "offsetgroup": "PathAttack, True",
         "orientation": "v",
         "showlegend": false,
         "textposition": "auto",
         "type": "bar",
         "x": [
          [
           2998,
           603
          ],
          [
           3056,
           1169
          ],
          [
           3078,
           403
          ],
          [
           1615,
           695
          ],
          [
           3331,
           949
          ],
          [
           2947,
           1167
          ],
          [
           2671,
           964
          ],
          [
           2341,
           2077
          ],
          [
           2790,
           924
          ],
          [
           2577,
           902
          ]
         ],
         "xaxis": "x",
         "y": [
          0.23355603218078613,
          0.41457533836364746,
          3.2282371520996094,
          0.23258423805236816,
          1.4072141647338867,
          0.42109227180480957,
          0.2430408000946045,
          0.24850034713745117,
          0.7018399238586426,
          6.936412572860718
         ],
         "yaxis": "y"
        }
       ],
       "layout": {
        "annotations": [
         {
          "font": {},
          "showarrow": false,
          "text": "weights=Equal",
          "x": 0.49,
          "xanchor": "center",
          "xref": "paper",
          "y": 1,
          "yanchor": "bottom",
          "yref": "paper"
         },
         {
          "font": {},
          "showarrow": false,
          "text": "k=3",
          "textangle": 90,
          "x": 0.98,
          "xanchor": "left",
          "xref": "paper",
          "y": 0.2425,
          "yanchor": "middle",
          "yref": "paper"
         },
         {
          "font": {},
          "showarrow": false,
          "text": "k=5",
          "textangle": 90,
          "x": 0.98,
          "xanchor": "left",
          "xref": "paper",
          "y": 0.7575000000000001,
          "yanchor": "middle",
          "yref": "paper"
         }
        ],
        "barmode": "group",
        "legend": {
         "title": {
          "text": "perturber_class, Success"
         },
         "tracegroupgap": 0
        },
        "template": {
         "data": {
          "bar": [
           {
            "error_x": {
             "color": "#2a3f5f"
            },
            "error_y": {
             "color": "#2a3f5f"
            },
            "marker": {
             "line": {
              "color": "#E5ECF6",
              "width": 0.5
             },
             "pattern": {
              "fillmode": "overlay",
              "size": 10,
              "solidity": 0.2
             }
            },
            "type": "bar"
           }
          ],
          "barpolar": [
           {
            "marker": {
             "line": {
              "color": "#E5ECF6",
              "width": 0.5
             },
             "pattern": {
              "fillmode": "overlay",
              "size": 10,
              "solidity": 0.2
             }
            },
            "type": "barpolar"
           }
          ],
          "carpet": [
           {
            "aaxis": {
             "endlinecolor": "#2a3f5f",
             "gridcolor": "white",
             "linecolor": "white",
             "minorgridcolor": "white",
             "startlinecolor": "#2a3f5f"
            },
            "baxis": {
             "endlinecolor": "#2a3f5f",
             "gridcolor": "white",
             "linecolor": "white",
             "minorgridcolor": "white",
             "startlinecolor": "#2a3f5f"
            },
            "type": "carpet"
           }
          ],
          "choropleth": [
           {
            "colorbar": {
             "outlinewidth": 0,
             "ticks": ""
            },
            "type": "choropleth"
           }
          ],
          "contour": [
           {
            "colorbar": {
             "outlinewidth": 0,
             "ticks": ""
            },
            "colorscale": [
             [
              0,
              "#0d0887"
             ],
             [
              0.1111111111111111,
              "#46039f"
             ],
             [
              0.2222222222222222,
              "#7201a8"
             ],
             [
              0.3333333333333333,
              "#9c179e"
             ],
             [
              0.4444444444444444,
              "#bd3786"
             ],
             [
              0.5555555555555556,
              "#d8576b"
             ],
             [
              0.6666666666666666,
              "#ed7953"
             ],
             [
              0.7777777777777778,
              "#fb9f3a"
             ],
             [
              0.8888888888888888,
              "#fdca26"
             ],
             [
              1,
              "#f0f921"
             ]
            ],
            "type": "contour"
           }
          ],
          "contourcarpet": [
           {
            "colorbar": {
             "outlinewidth": 0,
             "ticks": ""
            },
            "type": "contourcarpet"
           }
          ],
          "heatmap": [
           {
            "colorbar": {
             "outlinewidth": 0,
             "ticks": ""
            },
            "colorscale": [
             [
              0,
              "#0d0887"
             ],
             [
              0.1111111111111111,
              "#46039f"
             ],
             [
              0.2222222222222222,
              "#7201a8"
             ],
             [
              0.3333333333333333,
              "#9c179e"
             ],
             [
              0.4444444444444444,
              "#bd3786"
             ],
             [
              0.5555555555555556,
              "#d8576b"
             ],
             [
              0.6666666666666666,
              "#ed7953"
             ],
             [
              0.7777777777777778,
              "#fb9f3a"
             ],
             [
              0.8888888888888888,
              "#fdca26"
             ],
             [
              1,
              "#f0f921"
             ]
            ],
            "type": "heatmap"
           }
          ],
          "heatmapgl": [
           {
            "colorbar": {
             "outlinewidth": 0,
             "ticks": ""
            },
            "colorscale": [
             [
              0,
              "#0d0887"
             ],
             [
              0.1111111111111111,
              "#46039f"
             ],
             [
              0.2222222222222222,
              "#7201a8"
             ],
             [
              0.3333333333333333,
              "#9c179e"
             ],
             [
              0.4444444444444444,
              "#bd3786"
             ],
             [
              0.5555555555555556,
              "#d8576b"
             ],
             [
              0.6666666666666666,
              "#ed7953"
             ],
             [
              0.7777777777777778,
              "#fb9f3a"
             ],
             [
              0.8888888888888888,
              "#fdca26"
             ],
             [
              1,
              "#f0f921"
             ]
            ],
            "type": "heatmapgl"
           }
          ],
          "histogram": [
           {
            "marker": {
             "pattern": {
              "fillmode": "overlay",
              "size": 10,
              "solidity": 0.2
             }
            },
            "type": "histogram"
           }
          ],
          "histogram2d": [
           {
            "colorbar": {
             "outlinewidth": 0,
             "ticks": ""
            },
            "colorscale": [
             [
              0,
              "#0d0887"
             ],
             [
              0.1111111111111111,
              "#46039f"
             ],
             [
              0.2222222222222222,
              "#7201a8"
             ],
             [
              0.3333333333333333,
              "#9c179e"
             ],
             [
              0.4444444444444444,
              "#bd3786"
             ],
             [
              0.5555555555555556,
              "#d8576b"
             ],
             [
              0.6666666666666666,
              "#ed7953"
             ],
             [
              0.7777777777777778,
              "#fb9f3a"
             ],
             [
              0.8888888888888888,
              "#fdca26"
             ],
             [
              1,
              "#f0f921"
             ]
            ],
            "type": "histogram2d"
           }
          ],
          "histogram2dcontour": [
           {
            "colorbar": {
             "outlinewidth": 0,
             "ticks": ""
            },
            "colorscale": [
             [
              0,
              "#0d0887"
             ],
             [
              0.1111111111111111,
              "#46039f"
             ],
             [
              0.2222222222222222,
              "#7201a8"
             ],
             [
              0.3333333333333333,
              "#9c179e"
             ],
             [
              0.4444444444444444,
              "#bd3786"
             ],
             [
              0.5555555555555556,
              "#d8576b"
             ],
             [
              0.6666666666666666,
              "#ed7953"
             ],
             [
              0.7777777777777778,
              "#fb9f3a"
             ],
             [
              0.8888888888888888,
              "#fdca26"
             ],
             [
              1,
              "#f0f921"
             ]
            ],
            "type": "histogram2dcontour"
           }
          ],
          "mesh3d": [
           {
            "colorbar": {
             "outlinewidth": 0,
             "ticks": ""
            },
            "type": "mesh3d"
           }
          ],
          "parcoords": [
           {
            "line": {
             "colorbar": {
              "outlinewidth": 0,
              "ticks": ""
             }
            },
            "type": "parcoords"
           }
          ],
          "pie": [
           {
            "automargin": true,
            "type": "pie"
           }
          ],
          "scatter": [
           {
            "fillpattern": {
             "fillmode": "overlay",
             "size": 10,
             "solidity": 0.2
            },
            "type": "scatter"
           }
          ],
          "scatter3d": [
           {
            "line": {
             "colorbar": {
              "outlinewidth": 0,
              "ticks": ""
             }
            },
            "marker": {
             "colorbar": {
              "outlinewidth": 0,
              "ticks": ""
             }
            },
            "type": "scatter3d"
           }
          ],
          "scattercarpet": [
           {
            "marker": {
             "colorbar": {
              "outlinewidth": 0,
              "ticks": ""
             }
            },
            "type": "scattercarpet"
           }
          ],
          "scattergeo": [
           {
            "marker": {
             "colorbar": {
              "outlinewidth": 0,
              "ticks": ""
             }
            },
            "type": "scattergeo"
           }
          ],
          "scattergl": [
           {
            "marker": {
             "colorbar": {
              "outlinewidth": 0,
              "ticks": ""
             }
            },
            "type": "scattergl"
           }
          ],
          "scattermapbox": [
           {
            "marker": {
             "colorbar": {
              "outlinewidth": 0,
              "ticks": ""
             }
            },
            "type": "scattermapbox"
           }
          ],
          "scatterpolar": [
           {
            "marker": {
             "colorbar": {
              "outlinewidth": 0,
              "ticks": ""
             }
            },
            "type": "scatterpolar"
           }
          ],
          "scatterpolargl": [
           {
            "marker": {
             "colorbar": {
              "outlinewidth": 0,
              "ticks": ""
             }
            },
            "type": "scatterpolargl"
           }
          ],
          "scatterternary": [
           {
            "marker": {
             "colorbar": {
              "outlinewidth": 0,
              "ticks": ""
             }
            },
            "type": "scatterternary"
           }
          ],
          "surface": [
           {
            "colorbar": {
             "outlinewidth": 0,
             "ticks": ""
            },
            "colorscale": [
             [
              0,
              "#0d0887"
             ],
             [
              0.1111111111111111,
              "#46039f"
             ],
             [
              0.2222222222222222,
              "#7201a8"
             ],
             [
              0.3333333333333333,
              "#9c179e"
             ],
             [
              0.4444444444444444,
              "#bd3786"
             ],
             [
              0.5555555555555556,
              "#d8576b"
             ],
             [
              0.6666666666666666,
              "#ed7953"
             ],
             [
              0.7777777777777778,
              "#fb9f3a"
             ],
             [
              0.8888888888888888,
              "#fdca26"
             ],
             [
              1,
              "#f0f921"
             ]
            ],
            "type": "surface"
           }
          ],
          "table": [
           {
            "cells": {
             "fill": {
              "color": "#EBF0F8"
             },
             "line": {
              "color": "white"
             }
            },
            "header": {
             "fill": {
              "color": "#C8D4E3"
             },
             "line": {
              "color": "white"
             }
            },
            "type": "table"
           }
          ]
         },
         "layout": {
          "annotationdefaults": {
           "arrowcolor": "#2a3f5f",
           "arrowhead": 0,
           "arrowwidth": 1
          },
          "autotypenumbers": "strict",
          "coloraxis": {
           "colorbar": {
            "outlinewidth": 0,
            "ticks": ""
           }
          },
          "colorscale": {
           "diverging": [
            [
             0,
             "#8e0152"
            ],
            [
             0.1,
             "#c51b7d"
            ],
            [
             0.2,
             "#de77ae"
            ],
            [
             0.3,
             "#f1b6da"
            ],
            [
             0.4,
             "#fde0ef"
            ],
            [
             0.5,
             "#f7f7f7"
            ],
            [
             0.6,
             "#e6f5d0"
            ],
            [
             0.7,
             "#b8e186"
            ],
            [
             0.8,
             "#7fbc41"
            ],
            [
             0.9,
             "#4d9221"
            ],
            [
             1,
             "#276419"
            ]
           ],
           "sequential": [
            [
             0,
             "#0d0887"
            ],
            [
             0.1111111111111111,
             "#46039f"
            ],
            [
             0.2222222222222222,
             "#7201a8"
            ],
            [
             0.3333333333333333,
             "#9c179e"
            ],
            [
             0.4444444444444444,
             "#bd3786"
            ],
            [
             0.5555555555555556,
             "#d8576b"
            ],
            [
             0.6666666666666666,
             "#ed7953"
            ],
            [
             0.7777777777777778,
             "#fb9f3a"
            ],
            [
             0.8888888888888888,
             "#fdca26"
            ],
            [
             1,
             "#f0f921"
            ]
           ],
           "sequentialminus": [
            [
             0,
             "#0d0887"
            ],
            [
             0.1111111111111111,
             "#46039f"
            ],
            [
             0.2222222222222222,
             "#7201a8"
            ],
            [
             0.3333333333333333,
             "#9c179e"
            ],
            [
             0.4444444444444444,
             "#bd3786"
            ],
            [
             0.5555555555555556,
             "#d8576b"
            ],
            [
             0.6666666666666666,
             "#ed7953"
            ],
            [
             0.7777777777777778,
             "#fb9f3a"
            ],
            [
             0.8888888888888888,
             "#fdca26"
            ],
            [
             1,
             "#f0f921"
            ]
           ]
          },
          "colorway": [
           "#636efa",
           "#EF553B",
           "#00cc96",
           "#ab63fa",
           "#FFA15A",
           "#19d3f3",
           "#FF6692",
           "#B6E880",
           "#FF97FF",
           "#FECB52"
          ],
          "font": {
           "color": "#2a3f5f"
          },
          "geo": {
           "bgcolor": "white",
           "lakecolor": "white",
           "landcolor": "#E5ECF6",
           "showlakes": true,
           "showland": true,
           "subunitcolor": "white"
          },
          "hoverlabel": {
           "align": "left"
          },
          "hovermode": "closest",
          "mapbox": {
           "style": "light"
          },
          "paper_bgcolor": "white",
          "plot_bgcolor": "#E5ECF6",
          "polar": {
           "angularaxis": {
            "gridcolor": "white",
            "linecolor": "white",
            "ticks": ""
           },
           "bgcolor": "#E5ECF6",
           "radialaxis": {
            "gridcolor": "white",
            "linecolor": "white",
            "ticks": ""
           }
          },
          "scene": {
           "xaxis": {
            "backgroundcolor": "#E5ECF6",
            "gridcolor": "white",
            "gridwidth": 2,
            "linecolor": "white",
            "showbackground": true,
            "ticks": "",
            "zerolinecolor": "white"
           },
           "yaxis": {
            "backgroundcolor": "#E5ECF6",
            "gridcolor": "white",
            "gridwidth": 2,
            "linecolor": "white",
            "showbackground": true,
            "ticks": "",
            "zerolinecolor": "white"
           },
           "zaxis": {
            "backgroundcolor": "#E5ECF6",
            "gridcolor": "white",
            "gridwidth": 2,
            "linecolor": "white",
            "showbackground": true,
            "ticks": "",
            "zerolinecolor": "white"
           }
          },
          "shapedefaults": {
           "line": {
            "color": "#2a3f5f"
           }
          },
          "ternary": {
           "aaxis": {
            "gridcolor": "white",
            "linecolor": "white",
            "ticks": ""
           },
           "baxis": {
            "gridcolor": "white",
            "linecolor": "white",
            "ticks": ""
           },
           "bgcolor": "#E5ECF6",
           "caxis": {
            "gridcolor": "white",
            "linecolor": "white",
            "ticks": ""
           }
          },
          "title": {
           "x": 0.05
          },
          "xaxis": {
           "automargin": true,
           "gridcolor": "white",
           "linecolor": "white",
           "ticks": "",
           "title": {
            "standoff": 15
           },
           "zerolinecolor": "white",
           "zerolinewidth": 2
          },
          "yaxis": {
           "automargin": true,
           "gridcolor": "white",
           "linecolor": "white",
           "ticks": "",
           "title": {
            "standoff": 15
           },
           "zerolinecolor": "white",
           "zerolinewidth": 2
          }
         }
        },
        "title": {
         "text": "Single Results"
        },
        "xaxis": {
         "anchor": "y",
         "domain": [
          0,
          0.98
         ],
         "title": {
          "text": "nodes"
         },
         "visible": false
        },
        "xaxis2": {
         "anchor": "y2",
         "domain": [
          0,
          0.98
         ],
         "showticklabels": false,
         "visible": false
        },
        "yaxis": {
         "anchor": "x",
         "domain": [
          0,
          0.485
         ],
         "title": {
          "text": "Time Taken"
         }
        },
        "yaxis2": {
         "anchor": "x2",
         "domain": [
          0.515,
          1
         ],
         "matches": "y",
         "title": {
          "text": "Time Taken"
         }
        }
       }
      }
     },
     "metadata": {},
     "output_type": "display_data"
    }
   ],
   "source": [
    "\n",
    "for experiment_type in [\"Single\", \"Sets\", \"Multiple Pairs\"]:\n",
    "    a = df[df[\"experiment_type\"] == experiment_type]\n",
    "    if a.empty: continue\n",
    "    # a=pd.melt(df,id_vars=['race'],var_name='gender', value_name='value')\n",
    "    fig = px.bar(a, \n",
    "                title=f\"{experiment_type} Results\",\n",
    "                x=\"nodes\", \n",
    "                y=\"Time Taken\", \n",
    "                barmode=\"group\", \n",
    "                color=\"perturber_class\", \n",
    "                facet_col=\"weights\", \n",
    "                facet_row=\"k\", \n",
    "                pattern_shape=\"Success\", \n",
    "                # height=1000,\n",
    "                hover_data=[\"top_k\", \"Average Add Time\", \"Average Perturb Time\", \"Original Distance\", \"Number of Paths\", \"Number of Edges\", \"Iterations\", 'Final Distance',\"Status\", \"LP Status\"],\n",
    "                category_orders={\"experiment_type\": [\"Single\", \"Sets\", \"Multiple Pairs\"], \n",
    "                                \"Status\": [\"Success\"]+[s for s in df[\"Status\"].unique() if s != \"Success\"],\n",
    "                                \"Success\": [True, False]}\n",
    "                )\n",
    "    fig.update_xaxes(visible=False, matches=None)\n",
    "    # fig.update_xaxes(visible=True)\n",
    "    fig.show()"
   ]
  },
  {
   "cell_type": "code",
   "execution_count": 576,
   "metadata": {},
   "outputs": [
    {
     "data": {
      "application/vnd.plotly.v1+json": {
       "config": {
        "plotlyServerURL": "https://plot.ly"
       },
       "data": [
        {
         "alignmentgroup": "True",
         "customdata": [
          [
           1,
           0.004003763198852539,
           0,
           8,
           2,
           10,
           2,
           40.1,
           "Success"
          ],
          [
           1,
           0.004000186920166016,
           0,
           8,
           2,
           10,
           2,
           24.1,
           "Success"
          ],
          [
           1,
           0.00364192026966023,
           0,
           7,
           53,
           111,
           53,
           21.1,
           "Success"
          ],
          [
           1,
           0.003689068668293503,
           0.000018484187576006043,
           7,
           53,
           111,
           53,
           35.1,
           "Success"
          ],
          [
           1,
           0.008539480705783791,
           0.00002737894450148491,
           6,
           73,
           150,
           73,
           18.1,
           "Success"
          ],
          [
           1,
           0.00799478243475091,
           0,
           6,
           73,
           150,
           73,
           30.1,
           "Success"
          ],
          [
           1,
           0.0022732844719519983,
           0,
           6,
           13,
           30,
           13,
           18.1,
           "Success"
          ],
          [
           1,
           0.0023851578052227315,
           0,
           6,
           13,
           30,
           13,
           30.1,
           "Success"
          ],
          [
           1,
           0.008850685755411784,
           0,
           6,
           30,
           69,
           30,
           30.1,
           "Success"
          ],
          [
           1,
           0.006884129842122396,
           0,
           6,
           30,
           69,
           30,
           18.1,
           "Success"
          ],
          [
           1,
           0.003887653350830078,
           0,
           8,
           4,
           14,
           4,
           24.1,
           "Success"
          ],
          [
           1,
           0.0048770904541015625,
           0,
           8,
           4,
           14,
           4,
           40.1,
           "Success"
          ],
          [
           1,
           0.00402069091796875,
           0,
           6,
           1,
           6,
           1,
           18.1,
           "Success"
          ],
          [
           1,
           0.004006862640380859,
           0,
           6,
           1,
           6,
           1,
           30.1,
           "Success"
          ],
          [
           1,
           0.012997627258300781,
           0,
           7,
           1,
           7,
           1,
           35.1,
           "Success"
          ],
          [
           1,
           0.011007070541381836,
           0,
           7,
           1,
           7,
           1,
           21.1,
           "Success"
          ],
          [
           1,
           0.01291746563381619,
           0,
           6,
           18,
           40,
           18,
           30.1,
           "Success"
          ],
          [
           1,
           0.012565427356296115,
           0,
           6,
           18,
           40,
           18,
           18.1,
           "Success"
          ],
          [
           1,
           0.007000923156738281,
           0,
           6,
           4,
           15,
           4,
           18.1,
           "Success"
          ],
          [
           1,
           0.006752371788024902,
           0,
           6,
           4,
           15,
           4,
           30.1,
           "Success"
          ]
         ],
         "hovertemplate": "perturber_class=GreedyFirst<br>Success=True<br>weights=Equal<br>nodes=%{x}<br>Total Perturbations=%{y}<br>top_k=%{customdata[0]}<br>Average Add Time=%{customdata[1]}<br>Average Perturb Time=%{customdata[2]}<br>Original Distance=%{customdata[3]}<br>Number of Paths=%{customdata[4]}<br>Number of Edges=%{customdata[5]}<br>Iterations=%{customdata[6]}<br>Final Distance=%{customdata[7]}<br>Status=%{customdata[8]}<extra></extra>",
         "legendgroup": "GreedyFirst, True",
         "marker": {
          "color": "#636efa",
          "pattern": {
           "shape": ""
          }
         },
         "name": "GreedyFirst, True",
         "offsetgroup": "GreedyFirst, True",
         "orientation": "v",
         "showlegend": true,
         "textposition": "auto",
         "type": "bar",
         "x": [
          [
           2998,
           603
          ],
          [
           2998,
           603
          ],
          [
           3056,
           1169
          ],
          [
           3056,
           1169
          ],
          [
           3078,
           403
          ],
          [
           3078,
           403
          ],
          [
           1615,
           695
          ],
          [
           1615,
           695
          ],
          [
           3331,
           949
          ],
          [
           3331,
           949
          ],
          [
           2947,
           1167
          ],
          [
           2947,
           1167
          ],
          [
           2671,
           964
          ],
          [
           2671,
           964
          ],
          [
           2341,
           2077
          ],
          [
           2341,
           2077
          ],
          [
           2577,
           902
          ],
          [
           2577,
           902
          ],
          [
           2790,
           924
          ],
          [
           2790,
           924
          ]
         ],
         "xaxis": "x",
         "y": [
          63.2,
          31.200000000000003,
          695.3000000000006,
          1437.2999999999993,
          811.3000000000011,
          1687.2999999999981,
          155.29999999999998,
          311.3,
          696.0000000000003,
          336.0000000000001,
          63.400000000000006,
          127.4,
          12.100000000000001,
          24.1,
          28.1,
          14.100000000000001,
          416.8000000000001,
          200.79999999999995,
          45.400000000000006,
          93.4
         ],
         "yaxis": "y"
        },
        {
         "alignmentgroup": "True",
         "customdata": [
          [
           1,
           0.0040007829666137695,
           0,
           8,
           2,
           10,
           2,
           24.1,
           "Success"
          ],
          [
           1,
           0.003997683525085449,
           0,
           8,
           2,
           10,
           2,
           40.1,
           "Success"
          ],
          [
           1,
           0.00394260658408111,
           0,
           7,
           53,
           111,
           53,
           21.1,
           "Success"
          ],
          [
           1,
           0.005057978180219543,
           0,
           7,
           53,
           111,
           53,
           35.1,
           "Success"
          ],
          [
           1,
           0.008715567523485993,
           0.00001371396731023919,
           6,
           73,
           150,
           73,
           18.1,
           "Success"
          ],
          [
           1,
           0.006928953405928939,
           0,
           6,
           73,
           150,
           73,
           30.1,
           "Success"
          ],
          [
           1,
           0.002231597900390625,
           0.00007689916170560397,
           6,
           13,
           30,
           13,
           18.1,
           "Success"
          ],
          [
           1,
           0.0029244789710411658,
           0,
           6,
           13,
           30,
           13,
           30.1,
           "Success"
          ],
          [
           1,
           0.007970253626505533,
           0,
           6,
           30,
           69,
           30,
           18.1,
           "Success"
          ],
          [
           1,
           0.008654308319091798,
           0,
           6,
           30,
           69,
           30,
           30.1,
           "Success"
          ],
          [
           1,
           0.004499852657318115,
           0,
           8,
           4,
           14,
           4,
           24.1,
           "Success"
          ],
          [
           1,
           0.004380404949188232,
           0,
           8,
           4,
           14,
           4,
           40.1,
           "Success"
          ],
          [
           1,
           0.003000020980834961,
           0,
           6,
           1,
           6,
           1,
           18.1,
           "Success"
          ],
          [
           1,
           0.003992795944213867,
           0,
           6,
           1,
           6,
           1,
           30.1,
           "Success"
          ],
          [
           1,
           0.013000249862670898,
           0,
           7,
           1,
           7,
           1,
           21.1,
           "Success"
          ],
          [
           1,
           0.01800251007080078,
           0,
           7,
           1,
           7,
           1,
           35.1,
           "Success"
          ],
          [
           1,
           0.014278080728318956,
           0,
           6,
           18,
           40,
           18,
           18.1,
           "Success"
          ],
          [
           1,
           0.016336970859103732,
           0,
           6,
           18,
           40,
           18,
           30.1,
           "Success"
          ],
          [
           1,
           0.004503488540649414,
           0,
           6,
           4,
           15,
           4,
           18.1,
           "Success"
          ]
         ],
         "hovertemplate": "perturber_class=MinFirst<br>Success=True<br>weights=Equal<br>nodes=%{x}<br>Total Perturbations=%{y}<br>top_k=%{customdata[0]}<br>Average Add Time=%{customdata[1]}<br>Average Perturb Time=%{customdata[2]}<br>Original Distance=%{customdata[3]}<br>Number of Paths=%{customdata[4]}<br>Number of Edges=%{customdata[5]}<br>Iterations=%{customdata[6]}<br>Final Distance=%{customdata[7]}<br>Status=%{customdata[8]}<extra></extra>",
         "legendgroup": "MinFirst, True",
         "marker": {
          "color": "#EF553B",
          "pattern": {
           "shape": ""
          }
         },
         "name": "MinFirst, True",
         "offsetgroup": "MinFirst, True",
         "orientation": "v",
         "showlegend": true,
         "textposition": "auto",
         "type": "bar",
         "x": [
          [
           2998,
           603
          ],
          [
           2998,
           603
          ],
          [
           3056,
           1169
          ],
          [
           3056,
           1169
          ],
          [
           3078,
           403
          ],
          [
           3078,
           403
          ],
          [
           1615,
           695
          ],
          [
           1615,
           695
          ],
          [
           3331,
           949
          ],
          [
           3331,
           949
          ],
          [
           2947,
           1167
          ],
          [
           2947,
           1167
          ],
          [
           2671,
           964
          ],
          [
           2671,
           964
          ],
          [
           2341,
           2077
          ],
          [
           2341,
           2077
          ],
          [
           2577,
           902
          ],
          [
           2577,
           902
          ],
          [
           2790,
           924
          ]
         ],
         "xaxis": "x",
         "y": [
          31.200000000000003,
          63.2,
          695.3000000000006,
          1437.2999999999993,
          811.3000000000011,
          1687.2999999999981,
          155.29999999999998,
          311.3,
          336.0000000000001,
          696.0000000000003,
          63.400000000000006,
          127.4,
          12.100000000000001,
          24.1,
          14.100000000000001,
          28.1,
          200.79999999999995,
          416.8000000000001,
          45.400000000000006
         ],
         "yaxis": "y"
        },
        {
         "alignmentgroup": "True",
         "customdata": [
          [
           1,
           0.0037642717361450195,
           0,
           8,
           2,
           11,
           2,
           41,
           "Success"
          ],
          [
           1,
           0.0035022497177124023,
           0.0005010366439819336,
           8,
           2,
           11,
           2,
           25,
           "Success"
          ],
          [
           1,
           0.008998662233352661,
           0.0011262595653533936,
           7,
           8,
           27,
           8,
           22,
           "Success"
          ],
          [
           1,
           0.007749199867248535,
           0.0011205971240997314,
           7,
           8,
           27,
           8,
           36,
           "Success"
          ],
          [
           1,
           0.016771951317787172,
           0.00430881381034851,
           6,
           80,
           193,
           80,
           31,
           "Success"
          ],
          [
           1,
           0.01779406766096751,
           0.00460275262594223,
           6,
           96,
           191,
           96,
           19,
           "Success"
          ],
          [
           1,
           0.003999471664428711,
           0.0003333091735839844,
           6,
           3,
           10,
           3,
           31,
           "Success"
          ],
          [
           1,
           0.0045057932535807295,
           0.0003331502278645833,
           6,
           3,
           10,
           3,
           19,
           "Success"
          ],
          [
           1,
           0.01188502221737268,
           0.0023835695014809664,
           6,
           53,
           119,
           53,
           31,
           "Success"
          ],
          [
           1,
           0.01040361365493463,
           0.0020498013009830397,
           6,
           49,
           116,
           49,
           19,
           "Success"
          ],
          [
           1,
           0.005902242660522461,
           0.0011690934499104819,
           8,
           15,
           46,
           15,
           25,
           "Success"
          ],
          [
           1,
           0.0066343943277994795,
           0.0011061032613118489,
           8,
           15,
           46,
           15,
           41,
           "Success"
          ],
          [
           1,
           0.00500035285949707,
           0.001001119613647461,
           6,
           1,
           6,
           1,
           19,
           "Success"
          ],
          [
           1,
           0.002995014190673828,
           0.0009996891021728516,
           6,
           1,
           6,
           1,
           31,
           "Success"
          ],
          [
           1,
           0.012455224990844727,
           0.0009999275207519531,
           7,
           1,
           7,
           1,
           22,
           "Success"
          ],
          [
           1,
           0.01500248908996582,
           0.001001119613647461,
           7,
           1,
           7,
           1,
           36,
           "Success"
          ],
          [
           1,
           0.009989455342292786,
           0.0025779902935028076,
           6,
           16,
           46,
           16,
           19,
           "Success"
          ],
          [
           1,
           0.012388311641317018,
           0.02169163294241462,
           6,
           142,
           241,
           142,
           19,
           "Success"
          ],
          [
           1,
           0.010038048028945923,
           0.0020314157009124756,
           6,
           16,
           46,
           16,
           31,
           "Success"
          ]
         ],
         "hovertemplate": "perturber_class=PathAttack<br>Success=True<br>weights=Equal<br>nodes=%{x}<br>Total Perturbations=%{y}<br>top_k=%{customdata[0]}<br>Average Add Time=%{customdata[1]}<br>Average Perturb Time=%{customdata[2]}<br>Original Distance=%{customdata[3]}<br>Number of Paths=%{customdata[4]}<br>Number of Edges=%{customdata[5]}<br>Iterations=%{customdata[6]}<br>Final Distance=%{customdata[7]}<br>Status=%{customdata[8]}<extra></extra>",
         "legendgroup": "PathAttack, True",
         "marker": {
          "color": "#00cc96",
          "pattern": {
           "shape": ""
          }
         },
         "name": "PathAttack, True",
         "offsetgroup": "PathAttack, True",
         "orientation": "v",
         "showlegend": true,
         "textposition": "auto",
         "type": "bar",
         "x": [
          [
           2998,
           603
          ],
          [
           2998,
           603
          ],
          [
           3056,
           1169
          ],
          [
           3056,
           1169
          ],
          [
           3078,
           403
          ],
          [
           3078,
           403
          ],
          [
           1615,
           695
          ],
          [
           1615,
           695
          ],
          [
           3331,
           949
          ],
          [
           3331,
           949
          ],
          [
           2947,
           1167
          ],
          [
           2947,
           1167
          ],
          [
           2671,
           964
          ],
          [
           2671,
           964
          ],
          [
           2341,
           2077
          ],
          [
           2341,
           2077
          ],
          [
           2790,
           924
          ],
          [
           2577,
           902
          ],
          [
           2790,
           924
          ]
         ],
         "xaxis": "x",
         "y": [
          33,
          17,
          27,
          55,
          264,
          120,
          25,
          13,
          204,
          96,
          49,
          97,
          13,
          25,
          15,
          29,
          47,
          136,
          95
         ],
         "yaxis": "y"
        }
       ],
       "layout": {
        "annotations": [
         {
          "font": {},
          "showarrow": false,
          "text": "weights=Equal",
          "x": 0.5,
          "xanchor": "center",
          "xref": "paper",
          "y": 1,
          "yanchor": "bottom",
          "yref": "paper"
         }
        ],
        "barmode": "group",
        "legend": {
         "title": {
          "text": "perturber_class, Success"
         },
         "tracegroupgap": 0
        },
        "template": {
         "data": {
          "bar": [
           {
            "error_x": {
             "color": "#2a3f5f"
            },
            "error_y": {
             "color": "#2a3f5f"
            },
            "marker": {
             "line": {
              "color": "#E5ECF6",
              "width": 0.5
             },
             "pattern": {
              "fillmode": "overlay",
              "size": 10,
              "solidity": 0.2
             }
            },
            "type": "bar"
           }
          ],
          "barpolar": [
           {
            "marker": {
             "line": {
              "color": "#E5ECF6",
              "width": 0.5
             },
             "pattern": {
              "fillmode": "overlay",
              "size": 10,
              "solidity": 0.2
             }
            },
            "type": "barpolar"
           }
          ],
          "carpet": [
           {
            "aaxis": {
             "endlinecolor": "#2a3f5f",
             "gridcolor": "white",
             "linecolor": "white",
             "minorgridcolor": "white",
             "startlinecolor": "#2a3f5f"
            },
            "baxis": {
             "endlinecolor": "#2a3f5f",
             "gridcolor": "white",
             "linecolor": "white",
             "minorgridcolor": "white",
             "startlinecolor": "#2a3f5f"
            },
            "type": "carpet"
           }
          ],
          "choropleth": [
           {
            "colorbar": {
             "outlinewidth": 0,
             "ticks": ""
            },
            "type": "choropleth"
           }
          ],
          "contour": [
           {
            "colorbar": {
             "outlinewidth": 0,
             "ticks": ""
            },
            "colorscale": [
             [
              0,
              "#0d0887"
             ],
             [
              0.1111111111111111,
              "#46039f"
             ],
             [
              0.2222222222222222,
              "#7201a8"
             ],
             [
              0.3333333333333333,
              "#9c179e"
             ],
             [
              0.4444444444444444,
              "#bd3786"
             ],
             [
              0.5555555555555556,
              "#d8576b"
             ],
             [
              0.6666666666666666,
              "#ed7953"
             ],
             [
              0.7777777777777778,
              "#fb9f3a"
             ],
             [
              0.8888888888888888,
              "#fdca26"
             ],
             [
              1,
              "#f0f921"
             ]
            ],
            "type": "contour"
           }
          ],
          "contourcarpet": [
           {
            "colorbar": {
             "outlinewidth": 0,
             "ticks": ""
            },
            "type": "contourcarpet"
           }
          ],
          "heatmap": [
           {
            "colorbar": {
             "outlinewidth": 0,
             "ticks": ""
            },
            "colorscale": [
             [
              0,
              "#0d0887"
             ],
             [
              0.1111111111111111,
              "#46039f"
             ],
             [
              0.2222222222222222,
              "#7201a8"
             ],
             [
              0.3333333333333333,
              "#9c179e"
             ],
             [
              0.4444444444444444,
              "#bd3786"
             ],
             [
              0.5555555555555556,
              "#d8576b"
             ],
             [
              0.6666666666666666,
              "#ed7953"
             ],
             [
              0.7777777777777778,
              "#fb9f3a"
             ],
             [
              0.8888888888888888,
              "#fdca26"
             ],
             [
              1,
              "#f0f921"
             ]
            ],
            "type": "heatmap"
           }
          ],
          "heatmapgl": [
           {
            "colorbar": {
             "outlinewidth": 0,
             "ticks": ""
            },
            "colorscale": [
             [
              0,
              "#0d0887"
             ],
             [
              0.1111111111111111,
              "#46039f"
             ],
             [
              0.2222222222222222,
              "#7201a8"
             ],
             [
              0.3333333333333333,
              "#9c179e"
             ],
             [
              0.4444444444444444,
              "#bd3786"
             ],
             [
              0.5555555555555556,
              "#d8576b"
             ],
             [
              0.6666666666666666,
              "#ed7953"
             ],
             [
              0.7777777777777778,
              "#fb9f3a"
             ],
             [
              0.8888888888888888,
              "#fdca26"
             ],
             [
              1,
              "#f0f921"
             ]
            ],
            "type": "heatmapgl"
           }
          ],
          "histogram": [
           {
            "marker": {
             "pattern": {
              "fillmode": "overlay",
              "size": 10,
              "solidity": 0.2
             }
            },
            "type": "histogram"
           }
          ],
          "histogram2d": [
           {
            "colorbar": {
             "outlinewidth": 0,
             "ticks": ""
            },
            "colorscale": [
             [
              0,
              "#0d0887"
             ],
             [
              0.1111111111111111,
              "#46039f"
             ],
             [
              0.2222222222222222,
              "#7201a8"
             ],
             [
              0.3333333333333333,
              "#9c179e"
             ],
             [
              0.4444444444444444,
              "#bd3786"
             ],
             [
              0.5555555555555556,
              "#d8576b"
             ],
             [
              0.6666666666666666,
              "#ed7953"
             ],
             [
              0.7777777777777778,
              "#fb9f3a"
             ],
             [
              0.8888888888888888,
              "#fdca26"
             ],
             [
              1,
              "#f0f921"
             ]
            ],
            "type": "histogram2d"
           }
          ],
          "histogram2dcontour": [
           {
            "colorbar": {
             "outlinewidth": 0,
             "ticks": ""
            },
            "colorscale": [
             [
              0,
              "#0d0887"
             ],
             [
              0.1111111111111111,
              "#46039f"
             ],
             [
              0.2222222222222222,
              "#7201a8"
             ],
             [
              0.3333333333333333,
              "#9c179e"
             ],
             [
              0.4444444444444444,
              "#bd3786"
             ],
             [
              0.5555555555555556,
              "#d8576b"
             ],
             [
              0.6666666666666666,
              "#ed7953"
             ],
             [
              0.7777777777777778,
              "#fb9f3a"
             ],
             [
              0.8888888888888888,
              "#fdca26"
             ],
             [
              1,
              "#f0f921"
             ]
            ],
            "type": "histogram2dcontour"
           }
          ],
          "mesh3d": [
           {
            "colorbar": {
             "outlinewidth": 0,
             "ticks": ""
            },
            "type": "mesh3d"
           }
          ],
          "parcoords": [
           {
            "line": {
             "colorbar": {
              "outlinewidth": 0,
              "ticks": ""
             }
            },
            "type": "parcoords"
           }
          ],
          "pie": [
           {
            "automargin": true,
            "type": "pie"
           }
          ],
          "scatter": [
           {
            "fillpattern": {
             "fillmode": "overlay",
             "size": 10,
             "solidity": 0.2
            },
            "type": "scatter"
           }
          ],
          "scatter3d": [
           {
            "line": {
             "colorbar": {
              "outlinewidth": 0,
              "ticks": ""
             }
            },
            "marker": {
             "colorbar": {
              "outlinewidth": 0,
              "ticks": ""
             }
            },
            "type": "scatter3d"
           }
          ],
          "scattercarpet": [
           {
            "marker": {
             "colorbar": {
              "outlinewidth": 0,
              "ticks": ""
             }
            },
            "type": "scattercarpet"
           }
          ],
          "scattergeo": [
           {
            "marker": {
             "colorbar": {
              "outlinewidth": 0,
              "ticks": ""
             }
            },
            "type": "scattergeo"
           }
          ],
          "scattergl": [
           {
            "marker": {
             "colorbar": {
              "outlinewidth": 0,
              "ticks": ""
             }
            },
            "type": "scattergl"
           }
          ],
          "scattermapbox": [
           {
            "marker": {
             "colorbar": {
              "outlinewidth": 0,
              "ticks": ""
             }
            },
            "type": "scattermapbox"
           }
          ],
          "scatterpolar": [
           {
            "marker": {
             "colorbar": {
              "outlinewidth": 0,
              "ticks": ""
             }
            },
            "type": "scatterpolar"
           }
          ],
          "scatterpolargl": [
           {
            "marker": {
             "colorbar": {
              "outlinewidth": 0,
              "ticks": ""
             }
            },
            "type": "scatterpolargl"
           }
          ],
          "scatterternary": [
           {
            "marker": {
             "colorbar": {
              "outlinewidth": 0,
              "ticks": ""
             }
            },
            "type": "scatterternary"
           }
          ],
          "surface": [
           {
            "colorbar": {
             "outlinewidth": 0,
             "ticks": ""
            },
            "colorscale": [
             [
              0,
              "#0d0887"
             ],
             [
              0.1111111111111111,
              "#46039f"
             ],
             [
              0.2222222222222222,
              "#7201a8"
             ],
             [
              0.3333333333333333,
              "#9c179e"
             ],
             [
              0.4444444444444444,
              "#bd3786"
             ],
             [
              0.5555555555555556,
              "#d8576b"
             ],
             [
              0.6666666666666666,
              "#ed7953"
             ],
             [
              0.7777777777777778,
              "#fb9f3a"
             ],
             [
              0.8888888888888888,
              "#fdca26"
             ],
             [
              1,
              "#f0f921"
             ]
            ],
            "type": "surface"
           }
          ],
          "table": [
           {
            "cells": {
             "fill": {
              "color": "#EBF0F8"
             },
             "line": {
              "color": "white"
             }
            },
            "header": {
             "fill": {
              "color": "#C8D4E3"
             },
             "line": {
              "color": "white"
             }
            },
            "type": "table"
           }
          ]
         },
         "layout": {
          "annotationdefaults": {
           "arrowcolor": "#2a3f5f",
           "arrowhead": 0,
           "arrowwidth": 1
          },
          "autotypenumbers": "strict",
          "coloraxis": {
           "colorbar": {
            "outlinewidth": 0,
            "ticks": ""
           }
          },
          "colorscale": {
           "diverging": [
            [
             0,
             "#8e0152"
            ],
            [
             0.1,
             "#c51b7d"
            ],
            [
             0.2,
             "#de77ae"
            ],
            [
             0.3,
             "#f1b6da"
            ],
            [
             0.4,
             "#fde0ef"
            ],
            [
             0.5,
             "#f7f7f7"
            ],
            [
             0.6,
             "#e6f5d0"
            ],
            [
             0.7,
             "#b8e186"
            ],
            [
             0.8,
             "#7fbc41"
            ],
            [
             0.9,
             "#4d9221"
            ],
            [
             1,
             "#276419"
            ]
           ],
           "sequential": [
            [
             0,
             "#0d0887"
            ],
            [
             0.1111111111111111,
             "#46039f"
            ],
            [
             0.2222222222222222,
             "#7201a8"
            ],
            [
             0.3333333333333333,
             "#9c179e"
            ],
            [
             0.4444444444444444,
             "#bd3786"
            ],
            [
             0.5555555555555556,
             "#d8576b"
            ],
            [
             0.6666666666666666,
             "#ed7953"
            ],
            [
             0.7777777777777778,
             "#fb9f3a"
            ],
            [
             0.8888888888888888,
             "#fdca26"
            ],
            [
             1,
             "#f0f921"
            ]
           ],
           "sequentialminus": [
            [
             0,
             "#0d0887"
            ],
            [
             0.1111111111111111,
             "#46039f"
            ],
            [
             0.2222222222222222,
             "#7201a8"
            ],
            [
             0.3333333333333333,
             "#9c179e"
            ],
            [
             0.4444444444444444,
             "#bd3786"
            ],
            [
             0.5555555555555556,
             "#d8576b"
            ],
            [
             0.6666666666666666,
             "#ed7953"
            ],
            [
             0.7777777777777778,
             "#fb9f3a"
            ],
            [
             0.8888888888888888,
             "#fdca26"
            ],
            [
             1,
             "#f0f921"
            ]
           ]
          },
          "colorway": [
           "#636efa",
           "#EF553B",
           "#00cc96",
           "#ab63fa",
           "#FFA15A",
           "#19d3f3",
           "#FF6692",
           "#B6E880",
           "#FF97FF",
           "#FECB52"
          ],
          "font": {
           "color": "#2a3f5f"
          },
          "geo": {
           "bgcolor": "white",
           "lakecolor": "white",
           "landcolor": "#E5ECF6",
           "showlakes": true,
           "showland": true,
           "subunitcolor": "white"
          },
          "hoverlabel": {
           "align": "left"
          },
          "hovermode": "closest",
          "mapbox": {
           "style": "light"
          },
          "paper_bgcolor": "white",
          "plot_bgcolor": "#E5ECF6",
          "polar": {
           "angularaxis": {
            "gridcolor": "white",
            "linecolor": "white",
            "ticks": ""
           },
           "bgcolor": "#E5ECF6",
           "radialaxis": {
            "gridcolor": "white",
            "linecolor": "white",
            "ticks": ""
           }
          },
          "scene": {
           "xaxis": {
            "backgroundcolor": "#E5ECF6",
            "gridcolor": "white",
            "gridwidth": 2,
            "linecolor": "white",
            "showbackground": true,
            "ticks": "",
            "zerolinecolor": "white"
           },
           "yaxis": {
            "backgroundcolor": "#E5ECF6",
            "gridcolor": "white",
            "gridwidth": 2,
            "linecolor": "white",
            "showbackground": true,
            "ticks": "",
            "zerolinecolor": "white"
           },
           "zaxis": {
            "backgroundcolor": "#E5ECF6",
            "gridcolor": "white",
            "gridwidth": 2,
            "linecolor": "white",
            "showbackground": true,
            "ticks": "",
            "zerolinecolor": "white"
           }
          },
          "shapedefaults": {
           "line": {
            "color": "#2a3f5f"
           }
          },
          "ternary": {
           "aaxis": {
            "gridcolor": "white",
            "linecolor": "white",
            "ticks": ""
           },
           "baxis": {
            "gridcolor": "white",
            "linecolor": "white",
            "ticks": ""
           },
           "bgcolor": "#E5ECF6",
           "caxis": {
            "gridcolor": "white",
            "linecolor": "white",
            "ticks": ""
           }
          },
          "title": {
           "x": 0.05
          },
          "xaxis": {
           "automargin": true,
           "gridcolor": "white",
           "linecolor": "white",
           "ticks": "",
           "title": {
            "standoff": 15
           },
           "zerolinecolor": "white",
           "zerolinewidth": 2
          },
          "yaxis": {
           "automargin": true,
           "gridcolor": "white",
           "linecolor": "white",
           "ticks": "",
           "title": {
            "standoff": 15
           },
           "zerolinecolor": "white",
           "zerolinewidth": 2
          }
         }
        },
        "title": {
         "text": "Single Results"
        },
        "xaxis": {
         "anchor": "y",
         "domain": [
          0,
          1
         ],
         "title": {
          "text": "nodes"
         },
         "visible": false
        },
        "yaxis": {
         "anchor": "x",
         "domain": [
          0,
          1
         ],
         "title": {
          "text": "Total Perturbations"
         }
        }
       }
      }
     },
     "metadata": {},
     "output_type": "display_data"
    }
   ],
   "source": [
    "\n",
    "for experiment_type in [\"Single\", \"Sets\", \"Multiple Pairs\"]:\n",
    "    a = df[df[\"experiment_type\"] == experiment_type]\n",
    "    if a.empty: continue\n",
    "    fig = px.bar(a, \n",
    "                title=f\"{experiment_type} Results\",\n",
    "                x=\"nodes\", \n",
    "                y=\"Total Perturbations\", \n",
    "                barmode=\"group\", \n",
    "                color=\"perturber_class\", \n",
    "                facet_col=\"weights\", \n",
    "                # facet_row=\"weights\", \n",
    "                pattern_shape=\"Success\", \n",
    "                # height=1000,\n",
    "                hover_data=[\"top_k\", \"Average Add Time\", \"Average Perturb Time\", \"Original Distance\", \"Number of Paths\", \"Number of Edges\", \"Iterations\", \"Final Distance\", \"Status\"],\n",
    "                category_orders={\"experiment_type\": [\"Single\", \"Sets\", \"Multiple Pairs\"], \n",
    "                                \"Status\": [\"Success\"]+[s for s in df[\"Status\"].unique() if s != \"Success\"],\n",
    "                                \"Success\": [True, False]}\n",
    "                )\n",
    "    fig.update_xaxes(visible=False, matches=None)\n",
    "    fig.show()"
   ]
  }
 ],
 "metadata": {
  "kernelspec": {
   "display_name": "gurobi",
   "language": "python",
   "name": "python3"
  },
  "language_info": {
   "codemirror_mode": {
    "name": "ipython",
    "version": 3
   },
   "file_extension": ".py",
   "mimetype": "text/x-python",
   "name": "python",
   "nbconvert_exporter": "python",
   "pygments_lexer": "ipython3",
   "version": "3.10.8"
  },
  "orig_nbformat": 4,
  "vscode": {
   "interpreter": {
    "hash": "58767115bfc5442e8a9b964f11fbe5a0a1a5198c790ff96fb7618efb86a4a4a0"
   }
  }
 },
 "nbformat": 4,
 "nbformat_minor": 2
}
