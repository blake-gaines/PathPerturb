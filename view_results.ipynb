{
 "cells": [
  {
   "cell_type": "code",
   "execution_count": null,
   "metadata": {},
   "outputs": [],
   "source": [
    "import pandas as pd\n",
    "import plotly.express as px"
   ]
  },
  {
   "cell_type": "code",
   "execution_count": null,
   "metadata": {},
   "outputs": [],
   "source": [
    "pd.read_pickle(\"failed_experiments.pkl\").columns"
   ]
  },
  {
   "cell_type": "code",
   "execution_count": null,
   "metadata": {},
   "outputs": [],
   "source": [
    "# df = pd.read_pickle(\"results.pkl\")\n",
    "df = pd.concat([pd.read_pickle(\"Multiple Pairs Results.pkl\"), pd.read_pickle(\"Single Pairs Results.pkl\")])\n",
    "df[\"nodes\"] = df[\"nodes\"].astype(str)\n",
    "df[\"experiment_type\"] = df[\"experiment_type\"].map(lambda x: \"Single Pairs\" if x == \"Single\" else x)\n",
    "df[\"perturber_class\"] = df[\"perturber_class\"].map(lambda x: \"GreedyMin\" if x == \"MinFirst\" else x)\n",
    "df.columns"
   ]
  },
  {
   "cell_type": "code",
   "execution_count": null,
   "metadata": {},
   "outputs": [],
   "source": [
    "print(len(df), sum(df[\"Success\"]), sum(df[\"Success\"])/len(df))\n",
    "px.histogram(df, x=\"perturber_class\", color=\"Status\",facet_col=\"experiment_type\",hover_data=[\"LP Status\"], category_orders={\"perturber_class\": [\"PathAttack\", \"GreedyFirst\", \"GreedyMin\"]})"
   ]
  },
  {
   "cell_type": "code",
   "execution_count": null,
   "metadata": {},
   "outputs": [],
   "source": [
    "df[\"Average Add Time\"] = df[\"Add Times\"].map(lambda x: sum(x) / len(x) if len(x)>0 else None)\n",
    "df[\"Average Perturb Time\"] = df[\"Perturb Times\"].map(lambda x: sum(x) / len(x) if len(x)>0 else None)\n",
    "df[\"Total Add Time\"] = df[\"Add Times\"].map(sum)\n",
    "df[\"Total Perturb Time\"] = df[\"Perturb Times\"].map(sum)"
   ]
  },
  {
   "cell_type": "code",
   "execution_count": null,
   "metadata": {},
   "outputs": [],
   "source": [
    "df.to_csv(\"results.csv\")"
   ]
  },
  {
   "cell_type": "code",
   "execution_count": null,
   "metadata": {},
   "outputs": [],
   "source": [
    "index_cols = [\"nodes\", \"condition_index\", \"configuration_index\"]\n",
    "global_cols = [\"epsilon\", \"n_nodes_per_experiment\", \"n_experiments\", \"n_trials\", \"min_path_length\", \"use_multithreading\", \"global_budget\", \"local_budget\"]\n",
    "extra_cols = [\"Status\",\"Add Times\", \"Perturb Times\", \"Perturbation Dict\",\"source\", \"target\", \"LP Status\", \"IIS_paths\", \"IIS_edges\", \"IIS_global_budget\", \"Supporting Paths\", \"Global Budget Slack\"]\n",
    "config_cols = [\"k\", \"perturber_class\", \"graph_name\", \"weights\", \"experiment_type\"]\n",
    "data_cols = [\"Time Taken\", \"Iterations\", \"Number of Paths\", \"Number of Edges\", \"Original Distance\", \"Final Distance\", \"Success\", \"Total Perturbations\",\"Total Add Time\", \"Total Perturb Time\"]"
   ]
  },
  {
   "cell_type": "code",
   "execution_count": null,
   "metadata": {},
   "outputs": [],
   "source": [
    "# Average Over Trials\n",
    "a = df[index_cols+data_cols].groupby(index_cols).mean()\n",
    "a = a.join(df.set_index(index_cols)[config_cols]) # Add back config information\n",
    "a = a.drop_duplicates()"
   ]
  },
  {
   "cell_type": "code",
   "execution_count": null,
   "metadata": {},
   "outputs": [],
   "source": [
    "## TODO: Instances where the LP is infeasible or runs out of iterations should be removed from the data\n",
    "\n",
    "for y_val in [\"Time Taken\", \"Total Perturbations\", \"Number of Paths\"]:\n",
    "    for experiment_type in a[\"experiment_type\"].unique():\n",
    "        if a.empty: continue\n",
    "        fig = px.box(a[a[\"experiment_type\"] == experiment_type], \n",
    "                    title=f\"{experiment_type}: {y_val}\",\n",
    "                    # x=\"nodes\", \n",
    "                    y=y_val, \n",
    "                    boxmode=\"group\", \n",
    "                    color=\"perturber_class\", \n",
    "                    facet_col=\"weights\", \n",
    "                    facet_row=\"k\",  \n",
    "                    height=1000,\n",
    "                    hover_data=data_cols,\n",
    "                    category_orders={\"Status\": [\"Success\"]+[s for s in df[\"Status\"].unique() if s != \"Success\"],\n",
    "                                    \"Success\": [True, False]},\n",
    "                    points=\"all\",\n",
    "                    # boxpoints=False,\n",
    "                    )\n",
    "        fig.update_xaxes(visible=False, matches=None)\n",
    "        # fig.update_yaxes(range=[-1,13])\n",
    "        # fig.update_traces(boxmean=True) \n",
    "        # fig.update_xaxes(visible=True)\n",
    "        fig.show()"
   ]
  },
  {
   "cell_type": "code",
   "execution_count": null,
   "metadata": {},
   "outputs": [],
   "source": [
    "b = a.reset_index().set_index([\"configuration_index\", \"condition_index\"])"
   ]
  },
  {
   "cell_type": "code",
   "execution_count": null,
   "metadata": {},
   "outputs": [],
   "source": [
    "\n",
    "for experiment_type in a.experiment_type.unique():\n",
    "    fig = px.bar(b[b[\"experiment_type\"]==experiment_type], \n",
    "                title=f\"{experiment_type} Results\",\n",
    "                x=\"nodes\", \n",
    "                y=\"Time Taken\", \n",
    "                barmode=\"group\", \n",
    "                color=\"perturber_class\", \n",
    "                facet_col=\"weights\", \n",
    "                facet_row=\"k\", \n",
    "                pattern_shape=\"Success\", \n",
    "                # height=1000,\n",
    "                # hover_data=[\"top_k\", \"Average Add Time\", \"Average Perturb Time\", \"Original Distance\", \"Number of Paths\", \"Number of Edges\", \"Iterations\", 'Final Distance',\"Status\", \"LP Status\", \"nodes\"],\n",
    "                category_orders={\"experiment_type\": [\"Single\", \"Sets\", \"Multiple Pairs\"], \n",
    "                                \"Status\": [\"Success\"]+[s for s in df[\"Status\"].unique() if s != \"Success\"],\n",
    "                                \"Success\": [True, False]}\n",
    "                )\n",
    "    fig.update_xaxes(visible=False)\n",
    "    fig.update_xaxes(matches=None)\n",
    "    # fig.update_xaxes(visible=True)\n",
    "    fig.show()"
   ]
  }
 ],
 "metadata": {
  "kernelspec": {
   "display_name": "gurobi",
   "language": "python",
   "name": "python3"
  },
  "language_info": {
   "codemirror_mode": {
    "name": "ipython",
    "version": 3
   },
   "file_extension": ".py",
   "mimetype": "text/x-python",
   "name": "python",
   "nbconvert_exporter": "python",
   "pygments_lexer": "ipython3",
   "version": "3.10.8"
  },
  "orig_nbformat": 4,
  "vscode": {
   "interpreter": {
    "hash": "58767115bfc5442e8a9b964f11fbe5a0a1a5198c790ff96fb7618efb86a4a4a0"
   }
  }
 },
 "nbformat": 4,
 "nbformat_minor": 2
}
