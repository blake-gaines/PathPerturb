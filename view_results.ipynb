{
 "cells": [
  {
   "cell_type": "code",
   "execution_count": 123,
   "metadata": {},
   "outputs": [],
   "source": [
    "import pandas as pd\n",
    "import plotly.express as px"
   ]
  },
  {
   "cell_type": "code",
   "execution_count": 124,
   "metadata": {},
   "outputs": [],
   "source": [
    "df = pd.read_pickle(\"results.pkl\")"
   ]
  },
  {
   "cell_type": "code",
   "execution_count": 125,
   "metadata": {},
   "outputs": [],
   "source": [
    "# df[[\"LP Status\", \"IIS_paths\", \"IIS_edges\", \"IIS_global_budget\",\"experiment_type\"]]"
   ]
  },
  {
   "cell_type": "code",
   "execution_count": 126,
   "metadata": {},
   "outputs": [
    {
     "data": {
      "text/plain": [
       "(Index(['Original Distance', 'Time Taken', 'Success', 'Number of Paths',\n",
       "        'Number of Edges', 'Add Times', 'Perturb Times', 'Iterations',\n",
       "        'Final Distance', 'Status', 'LP Status', 'Perturbation Dict',\n",
       "        'Total Perturbations', 'Global Budget Slack', 'Supporting Paths',\n",
       "        'Perturbation Failure', 'graph_name', 'weights', 'experiment_type',\n",
       "        'n_nodes_per_experiment', 'n_experiments', 'n_trials',\n",
       "        'min_path_length', 'nodes', 'pairs', 'perturber_class', 'global_budget',\n",
       "        'local_budget', 'epsilon', 'k', 'top_k', 'max_iterations', 'goal'],\n",
       "       dtype='object'),\n",
       " 47)"
      ]
     },
     "execution_count": 126,
     "metadata": {},
     "output_type": "execute_result"
    }
   ],
   "source": [
    "df.columns, len(df)"
   ]
  },
  {
   "cell_type": "code",
   "execution_count": 127,
   "metadata": {},
   "outputs": [],
   "source": [
    "df[\"Average Add Time\"] = df[\"Add Times\"].map(lambda x: sum(x) / len(x))\n",
    "df[\"Average Perturb Time\"] = df[\"Perturb Times\"].map(lambda x: sum(x) / len(x))"
   ]
  },
  {
   "cell_type": "code",
   "execution_count": 128,
   "metadata": {},
   "outputs": [],
   "source": [
    "df.to_csv(\"results.csv\")"
   ]
  },
  {
   "cell_type": "code",
   "execution_count": 129,
   "metadata": {},
   "outputs": [
    {
     "data": {
      "application/vnd.plotly.v1+json": {
       "config": {
        "plotlyServerURL": "https://plot.ly"
       },
       "data": [
        {
         "alignmentgroup": "True",
         "customdata": [
          [
           5,
           0.054012298583984375,
           0.0029993057250976562,
           312.1,
           5,
           26,
           1,
           312.1,
           "Success",
           2
          ],
          [
           5,
           0.05200552940368652,
           0.002997159957885742,
           624.1,
           5,
           26,
           1,
           624.1,
           "Success",
           2
          ],
          [
           5,
           0.06351780891418457,
           0.0029904842376708984,
           624.1,
           5,
           26,
           1,
           624.1,
           "Success",
           2
          ],
          [
           5,
           0.06453561782836914,
           0.0030214786529541016,
           312.1,
           5,
           26,
           1,
           312.1,
           "Success",
           2
          ],
          [
           5,
           0.0683126449584961,
           0.003994464874267578,
           624.1,
           5,
           26,
           1,
           624.1,
           "Success",
           2
          ],
          [
           5,
           0.07060480117797852,
           0.0030050277709960938,
           312.1,
           5,
           26,
           1,
           312.1,
           "Success",
           2
          ],
          [
           5,
           0.0696713924407959,
           0.004002094268798828,
           312.1,
           5,
           26,
           1,
           312.1,
           "Success",
           2
          ],
          [
           5,
           0.05955386161804199,
           0.003998279571533203,
           312.1,
           5,
           26,
           1,
           312.1,
           "Success",
           2
          ],
          [
           5,
           0.06652116775512695,
           0.0050008296966552734,
           624.1,
           5,
           26,
           1,
           624.1,
           "Success",
           2
          ],
          [
           5,
           0.06806731224060059,
           0.0040438175201416016,
           624.1,
           5,
           26,
           1,
           624.1,
           "Success",
           2
          ],
          [
           5,
           0.02403712272644043,
           0.0029625892639160156,
           272.1,
           5,
           21,
           1,
           272.1,
           "Success",
           2
          ],
          [
           5,
           0.02951836585998535,
           0.003000497817993164,
           272.1,
           5,
           21,
           1,
           272.1,
           "Success",
           2
          ],
          [
           5,
           0.025066852569580078,
           0.0029993057250976562,
           272.1,
           5,
           21,
           1,
           272.1,
           "Success",
           2
          ],
          [
           5,
           0.035002708435058594,
           0.0030090808868408203,
           272.1,
           5,
           21,
           1,
           272.1,
           "Success",
           2
          ],
          [
           5,
           0.0285186767578125,
           0.0030059814453125,
           272.1,
           5,
           21,
           1,
           272.1,
           "Success",
           2
          ],
          [
           5,
           0.03554177284240723,
           0.004969596862792969,
           544.1,
           5,
           21,
           1,
           544.1,
           "Success",
           2
          ],
          [
           5,
           0.03199887275695801,
           0.005003929138183594,
           544.1,
           5,
           21,
           1,
           544.1,
           "Success",
           2
          ],
          [
           5,
           0.021555185317993164,
           0.003002643585205078,
           544.1,
           5,
           21,
           1,
           544.1,
           "Success",
           2
          ],
          [
           5,
           0.02399134635925293,
           0.0029997825622558594,
           544.1,
           5,
           21,
           1,
           544.1,
           "Success",
           2
          ],
          [
           5,
           0.028023242950439453,
           0.00498652458190918,
           544.1,
           5,
           21,
           1,
           544.1,
           "Success",
           2
          ]
         ],
         "hovertemplate": "perturber_class=PathAttack<br>Success=True<br>weights=Poisson<br>nodes=%{x}<br>Time Taken=%{y}<br>top_k=%{customdata[0]}<br>Average Add Time=%{customdata[1]}<br>Average Perturb Time=%{customdata[2]}<br>Original Distance=%{customdata[3]}<br>Number of Paths=%{customdata[4]}<br>Number of Edges=%{customdata[5]}<br>Iterations=%{customdata[6]}<br>Final Distance=%{customdata[7]}<br>Status=%{customdata[8]}<br>LP Status=%{customdata[9]}<extra></extra>",
         "legendgroup": "PathAttack, True",
         "marker": {
          "color": "#636efa",
          "pattern": {
           "shape": ""
          }
         },
         "name": "PathAttack, True",
         "offsetgroup": "PathAttack, True",
         "orientation": "v",
         "showlegend": true,
         "textposition": "auto",
         "type": "bar",
         "x": [
          [
           [
            2602,
            1416
           ],
           [
            2998,
            603
           ],
           [
            2577,
            902
           ],
           [
            1849,
            695
           ],
           [
            1850,
            1090
           ]
          ],
          [
           [
            2602,
            1416
           ],
           [
            2998,
            603
           ],
           [
            2577,
            902
           ],
           [
            1849,
            695
           ],
           [
            1850,
            1090
           ]
          ],
          [
           [
            2602,
            1416
           ],
           [
            2998,
            603
           ],
           [
            2577,
            902
           ],
           [
            1849,
            695
           ],
           [
            1850,
            1090
           ]
          ],
          [
           [
            2602,
            1416
           ],
           [
            2998,
            603
           ],
           [
            2577,
            902
           ],
           [
            1849,
            695
           ],
           [
            1850,
            1090
           ]
          ],
          [
           [
            2602,
            1416
           ],
           [
            2998,
            603
           ],
           [
            2577,
            902
           ],
           [
            1849,
            695
           ],
           [
            1850,
            1090
           ]
          ],
          [
           [
            2602,
            1416
           ],
           [
            2998,
            603
           ],
           [
            2577,
            902
           ],
           [
            1849,
            695
           ],
           [
            1850,
            1090
           ]
          ],
          [
           [
            2602,
            1416
           ],
           [
            2998,
            603
           ],
           [
            2577,
            902
           ],
           [
            1849,
            695
           ],
           [
            1850,
            1090
           ]
          ],
          [
           [
            2602,
            1416
           ],
           [
            2998,
            603
           ],
           [
            2577,
            902
           ],
           [
            1849,
            695
           ],
           [
            1850,
            1090
           ]
          ],
          [
           [
            2602,
            1416
           ],
           [
            2998,
            603
           ],
           [
            2577,
            902
           ],
           [
            1849,
            695
           ],
           [
            1850,
            1090
           ]
          ],
          [
           [
            2602,
            1416
           ],
           [
            2998,
            603
           ],
           [
            2577,
            902
           ],
           [
            1849,
            695
           ],
           [
            1850,
            1090
           ]
          ],
          [
           [
            2431,
            466
           ],
           [
            2799,
            626
           ],
           [
            3379,
            987
           ],
           [
            2502,
            1152
           ],
           [
            2329,
            2258
           ]
          ],
          [
           [
            2431,
            466
           ],
           [
            2799,
            626
           ],
           [
            3379,
            987
           ],
           [
            2502,
            1152
           ],
           [
            2329,
            2258
           ]
          ],
          [
           [
            2431,
            466
           ],
           [
            2799,
            626
           ],
           [
            3379,
            987
           ],
           [
            2502,
            1152
           ],
           [
            2329,
            2258
           ]
          ],
          [
           [
            2431,
            466
           ],
           [
            2799,
            626
           ],
           [
            3379,
            987
           ],
           [
            2502,
            1152
           ],
           [
            2329,
            2258
           ]
          ],
          [
           [
            2431,
            466
           ],
           [
            2799,
            626
           ],
           [
            3379,
            987
           ],
           [
            2502,
            1152
           ],
           [
            2329,
            2258
           ]
          ],
          [
           [
            2431,
            466
           ],
           [
            2799,
            626
           ],
           [
            3379,
            987
           ],
           [
            2502,
            1152
           ],
           [
            2329,
            2258
           ]
          ],
          [
           [
            2431,
            466
           ],
           [
            2799,
            626
           ],
           [
            3379,
            987
           ],
           [
            2502,
            1152
           ],
           [
            2329,
            2258
           ]
          ],
          [
           [
            2431,
            466
           ],
           [
            2799,
            626
           ],
           [
            3379,
            987
           ],
           [
            2502,
            1152
           ],
           [
            2329,
            2258
           ]
          ],
          [
           [
            2431,
            466
           ],
           [
            2799,
            626
           ],
           [
            3379,
            987
           ],
           [
            2502,
            1152
           ],
           [
            2329,
            2258
           ]
          ],
          [
           [
            2431,
            466
           ],
           [
            2799,
            626
           ],
           [
            3379,
            987
           ],
           [
            2502,
            1152
           ],
           [
            2329,
            2258
           ]
          ]
         ],
         "xaxis": "x",
         "y": [
          0.6403460502624512,
          0.6992034912109375,
          0.8262028694152832,
          0.8395094871520996,
          0.851010799407959,
          0.8285863399505615,
          0.8727140426635742,
          0.8038167953491211,
          0.8308868408203125,
          0.8090879917144775,
          0.7690515518188477,
          0.8995840549468994,
          0.7854185104370117,
          0.8151466846466064,
          0.7741494178771973,
          0.7899913787841797,
          0.8214428424835205,
          0.813441276550293,
          0.8190243244171143,
          0.8129172325134277
         ],
         "yaxis": "y"
        },
        {
         "alignmentgroup": "True",
         "customdata": [
          [
           5,
           0.09261846542358398,
           0,
           312.1,
           5,
           26,
           1,
           312.1,
           "Success",
           null
          ],
          [
           5,
           0.06559014320373535,
           0.000997304916381836,
           312.1,
           5,
           26,
           1,
           312.1,
           "Success",
           null
          ],
          [
           5,
           0.08953571319580078,
           0,
           312.1,
           5,
           26,
           1,
           312.1,
           "Success",
           null
          ],
          [
           5,
           0.07000946998596191,
           0,
           312.1,
           5,
           26,
           1,
           312.1,
           "Success",
           null
          ],
          [
           5,
           0.07155466079711914,
           0,
           312.1,
           5,
           26,
           1,
           312.1,
           "Success",
           null
          ],
          [
           5,
           0.08554911613464355,
           0.0010056495666503906,
           624.1,
           5,
           26,
           1,
           624.1,
           "Success",
           null
          ],
          [
           5,
           0.09152364730834961,
           0,
           624.1,
           5,
           26,
           1,
           624.1,
           "Success",
           null
          ],
          [
           5,
           0.07706117630004883,
           0,
           624.1,
           5,
           26,
           1,
           624.1,
           "Success",
           null
          ],
          [
           5,
           0.08053326606750488,
           0,
           624.1,
           5,
           26,
           1,
           624.1,
           "Success",
           null
          ],
          [
           5,
           0.09254169464111328,
           0,
           624.1,
           5,
           26,
           1,
           624.1,
           "Success",
           null
          ],
          [
           5,
           0.0200045108795166,
           0,
           272.1,
           5,
           21,
           1,
           272.1,
           "Success",
           null
          ],
          [
           5,
           0.020992279052734375,
           0.0010004043579101562,
           272.1,
           5,
           21,
           1,
           272.1,
           "Success",
           null
          ],
          [
           5,
           0.024601459503173828,
           0,
           272.1,
           5,
           21,
           1,
           272.1,
           "Success",
           null
          ],
          [
           5,
           0.0260012149810791,
           0,
           272.1,
           5,
           21,
           1,
           272.1,
           "Success",
           null
          ],
          [
           5,
           0.029531240463256836,
           0.0009989738464355469,
           544.1,
           5,
           21,
           1,
           544.1,
           "Success",
           null
          ],
          [
           5,
           0.02504706382751465,
           0,
           272.1,
           5,
           21,
           1,
           272.1,
           "Success",
           null
          ],
          [
           5,
           0.038526058197021484,
           0,
           544.1,
           5,
           21,
           1,
           544.1,
           "Success",
           null
          ]
         ],
         "hovertemplate": "perturber_class=GreeedyFirst<br>Success=True<br>weights=Poisson<br>nodes=%{x}<br>Time Taken=%{y}<br>top_k=%{customdata[0]}<br>Average Add Time=%{customdata[1]}<br>Average Perturb Time=%{customdata[2]}<br>Original Distance=%{customdata[3]}<br>Number of Paths=%{customdata[4]}<br>Number of Edges=%{customdata[5]}<br>Iterations=%{customdata[6]}<br>Final Distance=%{customdata[7]}<br>Status=%{customdata[8]}<br>LP Status=%{customdata[9]}<extra></extra>",
         "legendgroup": "GreeedyFirst, True",
         "marker": {
          "color": "#EF553B",
          "pattern": {
           "shape": ""
          }
         },
         "name": "GreeedyFirst, True",
         "offsetgroup": "GreeedyFirst, True",
         "orientation": "v",
         "showlegend": true,
         "textposition": "auto",
         "type": "bar",
         "x": [
          [
           [
            2602,
            1416
           ],
           [
            2998,
            603
           ],
           [
            2577,
            902
           ],
           [
            1849,
            695
           ],
           [
            1850,
            1090
           ]
          ],
          [
           [
            2602,
            1416
           ],
           [
            2998,
            603
           ],
           [
            2577,
            902
           ],
           [
            1849,
            695
           ],
           [
            1850,
            1090
           ]
          ],
          [
           [
            2602,
            1416
           ],
           [
            2998,
            603
           ],
           [
            2577,
            902
           ],
           [
            1849,
            695
           ],
           [
            1850,
            1090
           ]
          ],
          [
           [
            2602,
            1416
           ],
           [
            2998,
            603
           ],
           [
            2577,
            902
           ],
           [
            1849,
            695
           ],
           [
            1850,
            1090
           ]
          ],
          [
           [
            2602,
            1416
           ],
           [
            2998,
            603
           ],
           [
            2577,
            902
           ],
           [
            1849,
            695
           ],
           [
            1850,
            1090
           ]
          ],
          [
           [
            2602,
            1416
           ],
           [
            2998,
            603
           ],
           [
            2577,
            902
           ],
           [
            1849,
            695
           ],
           [
            1850,
            1090
           ]
          ],
          [
           [
            2602,
            1416
           ],
           [
            2998,
            603
           ],
           [
            2577,
            902
           ],
           [
            1849,
            695
           ],
           [
            1850,
            1090
           ]
          ],
          [
           [
            2602,
            1416
           ],
           [
            2998,
            603
           ],
           [
            2577,
            902
           ],
           [
            1849,
            695
           ],
           [
            1850,
            1090
           ]
          ],
          [
           [
            2602,
            1416
           ],
           [
            2998,
            603
           ],
           [
            2577,
            902
           ],
           [
            1849,
            695
           ],
           [
            1850,
            1090
           ]
          ],
          [
           [
            2602,
            1416
           ],
           [
            2998,
            603
           ],
           [
            2577,
            902
           ],
           [
            1849,
            695
           ],
           [
            1850,
            1090
           ]
          ],
          [
           [
            2431,
            466
           ],
           [
            2799,
            626
           ],
           [
            3379,
            987
           ],
           [
            2502,
            1152
           ],
           [
            2329,
            2258
           ]
          ],
          [
           [
            2431,
            466
           ],
           [
            2799,
            626
           ],
           [
            3379,
            987
           ],
           [
            2502,
            1152
           ],
           [
            2329,
            2258
           ]
          ],
          [
           [
            2431,
            466
           ],
           [
            2799,
            626
           ],
           [
            3379,
            987
           ],
           [
            2502,
            1152
           ],
           [
            2329,
            2258
           ]
          ],
          [
           [
            2431,
            466
           ],
           [
            2799,
            626
           ],
           [
            3379,
            987
           ],
           [
            2502,
            1152
           ],
           [
            2329,
            2258
           ]
          ],
          [
           [
            2431,
            466
           ],
           [
            2799,
            626
           ],
           [
            3379,
            987
           ],
           [
            2502,
            1152
           ],
           [
            2329,
            2258
           ]
          ],
          [
           [
            2431,
            466
           ],
           [
            2799,
            626
           ],
           [
            3379,
            987
           ],
           [
            2502,
            1152
           ],
           [
            2329,
            2258
           ]
          ],
          [
           [
            2431,
            466
           ],
           [
            2799,
            626
           ],
           [
            3379,
            987
           ],
           [
            2502,
            1152
           ],
           [
            2329,
            2258
           ]
          ]
         ],
         "xaxis": "x",
         "y": [
          0.780444860458374,
          0.8394677639007568,
          0.9025232791900635,
          0.8909051418304443,
          0.885688066482544,
          0.8888099193572998,
          0.9192125797271729,
          0.8522484302520752,
          0.8304333686828613,
          0.8392083644866943,
          0.7342102527618408,
          0.6938385963439941,
          0.6943907737731934,
          0.7555735111236572,
          0.7685630321502686,
          0.7786076068878174,
          0.7599086761474609
         ],
         "yaxis": "y"
        },
        {
         "alignmentgroup": "True",
         "customdata": [
          [
           5,
           0.08417725563049316,
           0,
           312.1,
           5,
           26,
           1,
           312.1,
           "Success",
           null
          ],
          [
           5,
           0.07105350494384766,
           0,
           312.1,
           5,
           26,
           1,
           312.1,
           "Success",
           null
          ],
          [
           5,
           0.07152390480041504,
           0,
           312.1,
           5,
           26,
           1,
           312.1,
           "Success",
           null
          ],
          [
           5,
           0.06956934928894043,
           0,
           312.1,
           5,
           26,
           1,
           312.1,
           "Success",
           null
          ],
          [
           5,
           0.0825502872467041,
           0.0009965896606445312,
           312.1,
           5,
           26,
           1,
           312.1,
           "Success",
           null
          ],
          [
           5,
           0.07451128959655762,
           0,
           624.1,
           5,
           26,
           1,
           624.1,
           "Success",
           null
          ],
          [
           5,
           0.07351422309875488,
           0,
           624.1,
           5,
           26,
           1,
           624.1,
           "Success",
           null
          ],
          [
           5,
           0.09871912002563477,
           0,
           624.1,
           5,
           26,
           1,
           624.1,
           "Success",
           null
          ],
          [
           5,
           0.08202934265136719,
           0,
           624.1,
           5,
           26,
           1,
           624.1,
           "Success",
           null
          ],
          [
           5,
           0.07501649856567383,
           0,
           624.1,
           5,
           26,
           1,
           624.1,
           "Success",
           null
          ]
         ],
         "hovertemplate": "perturber_class=MinFirst<br>Success=True<br>weights=Poisson<br>nodes=%{x}<br>Time Taken=%{y}<br>top_k=%{customdata[0]}<br>Average Add Time=%{customdata[1]}<br>Average Perturb Time=%{customdata[2]}<br>Original Distance=%{customdata[3]}<br>Number of Paths=%{customdata[4]}<br>Number of Edges=%{customdata[5]}<br>Iterations=%{customdata[6]}<br>Final Distance=%{customdata[7]}<br>Status=%{customdata[8]}<br>LP Status=%{customdata[9]}<extra></extra>",
         "legendgroup": "MinFirst, True",
         "marker": {
          "color": "#00cc96",
          "pattern": {
           "shape": ""
          }
         },
         "name": "MinFirst, True",
         "offsetgroup": "MinFirst, True",
         "orientation": "v",
         "showlegend": true,
         "textposition": "auto",
         "type": "bar",
         "x": [
          [
           [
            2602,
            1416
           ],
           [
            2998,
            603
           ],
           [
            2577,
            902
           ],
           [
            1849,
            695
           ],
           [
            1850,
            1090
           ]
          ],
          [
           [
            2602,
            1416
           ],
           [
            2998,
            603
           ],
           [
            2577,
            902
           ],
           [
            1849,
            695
           ],
           [
            1850,
            1090
           ]
          ],
          [
           [
            2602,
            1416
           ],
           [
            2998,
            603
           ],
           [
            2577,
            902
           ],
           [
            1849,
            695
           ],
           [
            1850,
            1090
           ]
          ],
          [
           [
            2602,
            1416
           ],
           [
            2998,
            603
           ],
           [
            2577,
            902
           ],
           [
            1849,
            695
           ],
           [
            1850,
            1090
           ]
          ],
          [
           [
            2602,
            1416
           ],
           [
            2998,
            603
           ],
           [
            2577,
            902
           ],
           [
            1849,
            695
           ],
           [
            1850,
            1090
           ]
          ],
          [
           [
            2602,
            1416
           ],
           [
            2998,
            603
           ],
           [
            2577,
            902
           ],
           [
            1849,
            695
           ],
           [
            1850,
            1090
           ]
          ],
          [
           [
            2602,
            1416
           ],
           [
            2998,
            603
           ],
           [
            2577,
            902
           ],
           [
            1849,
            695
           ],
           [
            1850,
            1090
           ]
          ],
          [
           [
            2602,
            1416
           ],
           [
            2998,
            603
           ],
           [
            2577,
            902
           ],
           [
            1849,
            695
           ],
           [
            1850,
            1090
           ]
          ],
          [
           [
            2602,
            1416
           ],
           [
            2998,
            603
           ],
           [
            2577,
            902
           ],
           [
            1849,
            695
           ],
           [
            1850,
            1090
           ]
          ],
          [
           [
            2602,
            1416
           ],
           [
            2998,
            603
           ],
           [
            2577,
            902
           ],
           [
            1849,
            695
           ],
           [
            1850,
            1090
           ]
          ]
         ],
         "xaxis": "x",
         "y": [
          0.851151704788208,
          0.883277177810669,
          0.8448255062103271,
          0.8451762199401855,
          0.8453030586242676,
          0.8401968479156494,
          0.9169385433197021,
          0.9599933624267578,
          0.9113175868988037,
          0.8413512706756592
         ],
         "yaxis": "y"
        }
       ],
       "layout": {
        "annotations": [
         {
          "font": {},
          "showarrow": false,
          "text": "weights=Poisson",
          "x": 0.5,
          "xanchor": "center",
          "xref": "paper",
          "y": 1,
          "yanchor": "bottom",
          "yref": "paper"
         }
        ],
        "barmode": "group",
        "legend": {
         "title": {
          "text": "perturber_class, Success"
         },
         "tracegroupgap": 0
        },
        "template": {
         "data": {
          "bar": [
           {
            "error_x": {
             "color": "#2a3f5f"
            },
            "error_y": {
             "color": "#2a3f5f"
            },
            "marker": {
             "line": {
              "color": "#E5ECF6",
              "width": 0.5
             },
             "pattern": {
              "fillmode": "overlay",
              "size": 10,
              "solidity": 0.2
             }
            },
            "type": "bar"
           }
          ],
          "barpolar": [
           {
            "marker": {
             "line": {
              "color": "#E5ECF6",
              "width": 0.5
             },
             "pattern": {
              "fillmode": "overlay",
              "size": 10,
              "solidity": 0.2
             }
            },
            "type": "barpolar"
           }
          ],
          "carpet": [
           {
            "aaxis": {
             "endlinecolor": "#2a3f5f",
             "gridcolor": "white",
             "linecolor": "white",
             "minorgridcolor": "white",
             "startlinecolor": "#2a3f5f"
            },
            "baxis": {
             "endlinecolor": "#2a3f5f",
             "gridcolor": "white",
             "linecolor": "white",
             "minorgridcolor": "white",
             "startlinecolor": "#2a3f5f"
            },
            "type": "carpet"
           }
          ],
          "choropleth": [
           {
            "colorbar": {
             "outlinewidth": 0,
             "ticks": ""
            },
            "type": "choropleth"
           }
          ],
          "contour": [
           {
            "colorbar": {
             "outlinewidth": 0,
             "ticks": ""
            },
            "colorscale": [
             [
              0,
              "#0d0887"
             ],
             [
              0.1111111111111111,
              "#46039f"
             ],
             [
              0.2222222222222222,
              "#7201a8"
             ],
             [
              0.3333333333333333,
              "#9c179e"
             ],
             [
              0.4444444444444444,
              "#bd3786"
             ],
             [
              0.5555555555555556,
              "#d8576b"
             ],
             [
              0.6666666666666666,
              "#ed7953"
             ],
             [
              0.7777777777777778,
              "#fb9f3a"
             ],
             [
              0.8888888888888888,
              "#fdca26"
             ],
             [
              1,
              "#f0f921"
             ]
            ],
            "type": "contour"
           }
          ],
          "contourcarpet": [
           {
            "colorbar": {
             "outlinewidth": 0,
             "ticks": ""
            },
            "type": "contourcarpet"
           }
          ],
          "heatmap": [
           {
            "colorbar": {
             "outlinewidth": 0,
             "ticks": ""
            },
            "colorscale": [
             [
              0,
              "#0d0887"
             ],
             [
              0.1111111111111111,
              "#46039f"
             ],
             [
              0.2222222222222222,
              "#7201a8"
             ],
             [
              0.3333333333333333,
              "#9c179e"
             ],
             [
              0.4444444444444444,
              "#bd3786"
             ],
             [
              0.5555555555555556,
              "#d8576b"
             ],
             [
              0.6666666666666666,
              "#ed7953"
             ],
             [
              0.7777777777777778,
              "#fb9f3a"
             ],
             [
              0.8888888888888888,
              "#fdca26"
             ],
             [
              1,
              "#f0f921"
             ]
            ],
            "type": "heatmap"
           }
          ],
          "heatmapgl": [
           {
            "colorbar": {
             "outlinewidth": 0,
             "ticks": ""
            },
            "colorscale": [
             [
              0,
              "#0d0887"
             ],
             [
              0.1111111111111111,
              "#46039f"
             ],
             [
              0.2222222222222222,
              "#7201a8"
             ],
             [
              0.3333333333333333,
              "#9c179e"
             ],
             [
              0.4444444444444444,
              "#bd3786"
             ],
             [
              0.5555555555555556,
              "#d8576b"
             ],
             [
              0.6666666666666666,
              "#ed7953"
             ],
             [
              0.7777777777777778,
              "#fb9f3a"
             ],
             [
              0.8888888888888888,
              "#fdca26"
             ],
             [
              1,
              "#f0f921"
             ]
            ],
            "type": "heatmapgl"
           }
          ],
          "histogram": [
           {
            "marker": {
             "pattern": {
              "fillmode": "overlay",
              "size": 10,
              "solidity": 0.2
             }
            },
            "type": "histogram"
           }
          ],
          "histogram2d": [
           {
            "colorbar": {
             "outlinewidth": 0,
             "ticks": ""
            },
            "colorscale": [
             [
              0,
              "#0d0887"
             ],
             [
              0.1111111111111111,
              "#46039f"
             ],
             [
              0.2222222222222222,
              "#7201a8"
             ],
             [
              0.3333333333333333,
              "#9c179e"
             ],
             [
              0.4444444444444444,
              "#bd3786"
             ],
             [
              0.5555555555555556,
              "#d8576b"
             ],
             [
              0.6666666666666666,
              "#ed7953"
             ],
             [
              0.7777777777777778,
              "#fb9f3a"
             ],
             [
              0.8888888888888888,
              "#fdca26"
             ],
             [
              1,
              "#f0f921"
             ]
            ],
            "type": "histogram2d"
           }
          ],
          "histogram2dcontour": [
           {
            "colorbar": {
             "outlinewidth": 0,
             "ticks": ""
            },
            "colorscale": [
             [
              0,
              "#0d0887"
             ],
             [
              0.1111111111111111,
              "#46039f"
             ],
             [
              0.2222222222222222,
              "#7201a8"
             ],
             [
              0.3333333333333333,
              "#9c179e"
             ],
             [
              0.4444444444444444,
              "#bd3786"
             ],
             [
              0.5555555555555556,
              "#d8576b"
             ],
             [
              0.6666666666666666,
              "#ed7953"
             ],
             [
              0.7777777777777778,
              "#fb9f3a"
             ],
             [
              0.8888888888888888,
              "#fdca26"
             ],
             [
              1,
              "#f0f921"
             ]
            ],
            "type": "histogram2dcontour"
           }
          ],
          "mesh3d": [
           {
            "colorbar": {
             "outlinewidth": 0,
             "ticks": ""
            },
            "type": "mesh3d"
           }
          ],
          "parcoords": [
           {
            "line": {
             "colorbar": {
              "outlinewidth": 0,
              "ticks": ""
             }
            },
            "type": "parcoords"
           }
          ],
          "pie": [
           {
            "automargin": true,
            "type": "pie"
           }
          ],
          "scatter": [
           {
            "fillpattern": {
             "fillmode": "overlay",
             "size": 10,
             "solidity": 0.2
            },
            "type": "scatter"
           }
          ],
          "scatter3d": [
           {
            "line": {
             "colorbar": {
              "outlinewidth": 0,
              "ticks": ""
             }
            },
            "marker": {
             "colorbar": {
              "outlinewidth": 0,
              "ticks": ""
             }
            },
            "type": "scatter3d"
           }
          ],
          "scattercarpet": [
           {
            "marker": {
             "colorbar": {
              "outlinewidth": 0,
              "ticks": ""
             }
            },
            "type": "scattercarpet"
           }
          ],
          "scattergeo": [
           {
            "marker": {
             "colorbar": {
              "outlinewidth": 0,
              "ticks": ""
             }
            },
            "type": "scattergeo"
           }
          ],
          "scattergl": [
           {
            "marker": {
             "colorbar": {
              "outlinewidth": 0,
              "ticks": ""
             }
            },
            "type": "scattergl"
           }
          ],
          "scattermapbox": [
           {
            "marker": {
             "colorbar": {
              "outlinewidth": 0,
              "ticks": ""
             }
            },
            "type": "scattermapbox"
           }
          ],
          "scatterpolar": [
           {
            "marker": {
             "colorbar": {
              "outlinewidth": 0,
              "ticks": ""
             }
            },
            "type": "scatterpolar"
           }
          ],
          "scatterpolargl": [
           {
            "marker": {
             "colorbar": {
              "outlinewidth": 0,
              "ticks": ""
             }
            },
            "type": "scatterpolargl"
           }
          ],
          "scatterternary": [
           {
            "marker": {
             "colorbar": {
              "outlinewidth": 0,
              "ticks": ""
             }
            },
            "type": "scatterternary"
           }
          ],
          "surface": [
           {
            "colorbar": {
             "outlinewidth": 0,
             "ticks": ""
            },
            "colorscale": [
             [
              0,
              "#0d0887"
             ],
             [
              0.1111111111111111,
              "#46039f"
             ],
             [
              0.2222222222222222,
              "#7201a8"
             ],
             [
              0.3333333333333333,
              "#9c179e"
             ],
             [
              0.4444444444444444,
              "#bd3786"
             ],
             [
              0.5555555555555556,
              "#d8576b"
             ],
             [
              0.6666666666666666,
              "#ed7953"
             ],
             [
              0.7777777777777778,
              "#fb9f3a"
             ],
             [
              0.8888888888888888,
              "#fdca26"
             ],
             [
              1,
              "#f0f921"
             ]
            ],
            "type": "surface"
           }
          ],
          "table": [
           {
            "cells": {
             "fill": {
              "color": "#EBF0F8"
             },
             "line": {
              "color": "white"
             }
            },
            "header": {
             "fill": {
              "color": "#C8D4E3"
             },
             "line": {
              "color": "white"
             }
            },
            "type": "table"
           }
          ]
         },
         "layout": {
          "annotationdefaults": {
           "arrowcolor": "#2a3f5f",
           "arrowhead": 0,
           "arrowwidth": 1
          },
          "autotypenumbers": "strict",
          "coloraxis": {
           "colorbar": {
            "outlinewidth": 0,
            "ticks": ""
           }
          },
          "colorscale": {
           "diverging": [
            [
             0,
             "#8e0152"
            ],
            [
             0.1,
             "#c51b7d"
            ],
            [
             0.2,
             "#de77ae"
            ],
            [
             0.3,
             "#f1b6da"
            ],
            [
             0.4,
             "#fde0ef"
            ],
            [
             0.5,
             "#f7f7f7"
            ],
            [
             0.6,
             "#e6f5d0"
            ],
            [
             0.7,
             "#b8e186"
            ],
            [
             0.8,
             "#7fbc41"
            ],
            [
             0.9,
             "#4d9221"
            ],
            [
             1,
             "#276419"
            ]
           ],
           "sequential": [
            [
             0,
             "#0d0887"
            ],
            [
             0.1111111111111111,
             "#46039f"
            ],
            [
             0.2222222222222222,
             "#7201a8"
            ],
            [
             0.3333333333333333,
             "#9c179e"
            ],
            [
             0.4444444444444444,
             "#bd3786"
            ],
            [
             0.5555555555555556,
             "#d8576b"
            ],
            [
             0.6666666666666666,
             "#ed7953"
            ],
            [
             0.7777777777777778,
             "#fb9f3a"
            ],
            [
             0.8888888888888888,
             "#fdca26"
            ],
            [
             1,
             "#f0f921"
            ]
           ],
           "sequentialminus": [
            [
             0,
             "#0d0887"
            ],
            [
             0.1111111111111111,
             "#46039f"
            ],
            [
             0.2222222222222222,
             "#7201a8"
            ],
            [
             0.3333333333333333,
             "#9c179e"
            ],
            [
             0.4444444444444444,
             "#bd3786"
            ],
            [
             0.5555555555555556,
             "#d8576b"
            ],
            [
             0.6666666666666666,
             "#ed7953"
            ],
            [
             0.7777777777777778,
             "#fb9f3a"
            ],
            [
             0.8888888888888888,
             "#fdca26"
            ],
            [
             1,
             "#f0f921"
            ]
           ]
          },
          "colorway": [
           "#636efa",
           "#EF553B",
           "#00cc96",
           "#ab63fa",
           "#FFA15A",
           "#19d3f3",
           "#FF6692",
           "#B6E880",
           "#FF97FF",
           "#FECB52"
          ],
          "font": {
           "color": "#2a3f5f"
          },
          "geo": {
           "bgcolor": "white",
           "lakecolor": "white",
           "landcolor": "#E5ECF6",
           "showlakes": true,
           "showland": true,
           "subunitcolor": "white"
          },
          "hoverlabel": {
           "align": "left"
          },
          "hovermode": "closest",
          "mapbox": {
           "style": "light"
          },
          "paper_bgcolor": "white",
          "plot_bgcolor": "#E5ECF6",
          "polar": {
           "angularaxis": {
            "gridcolor": "white",
            "linecolor": "white",
            "ticks": ""
           },
           "bgcolor": "#E5ECF6",
           "radialaxis": {
            "gridcolor": "white",
            "linecolor": "white",
            "ticks": ""
           }
          },
          "scene": {
           "xaxis": {
            "backgroundcolor": "#E5ECF6",
            "gridcolor": "white",
            "gridwidth": 2,
            "linecolor": "white",
            "showbackground": true,
            "ticks": "",
            "zerolinecolor": "white"
           },
           "yaxis": {
            "backgroundcolor": "#E5ECF6",
            "gridcolor": "white",
            "gridwidth": 2,
            "linecolor": "white",
            "showbackground": true,
            "ticks": "",
            "zerolinecolor": "white"
           },
           "zaxis": {
            "backgroundcolor": "#E5ECF6",
            "gridcolor": "white",
            "gridwidth": 2,
            "linecolor": "white",
            "showbackground": true,
            "ticks": "",
            "zerolinecolor": "white"
           }
          },
          "shapedefaults": {
           "line": {
            "color": "#2a3f5f"
           }
          },
          "ternary": {
           "aaxis": {
            "gridcolor": "white",
            "linecolor": "white",
            "ticks": ""
           },
           "baxis": {
            "gridcolor": "white",
            "linecolor": "white",
            "ticks": ""
           },
           "bgcolor": "#E5ECF6",
           "caxis": {
            "gridcolor": "white",
            "linecolor": "white",
            "ticks": ""
           }
          },
          "title": {
           "x": 0.05
          },
          "xaxis": {
           "automargin": true,
           "gridcolor": "white",
           "linecolor": "white",
           "ticks": "",
           "title": {
            "standoff": 15
           },
           "zerolinecolor": "white",
           "zerolinewidth": 2
          },
          "yaxis": {
           "automargin": true,
           "gridcolor": "white",
           "linecolor": "white",
           "ticks": "",
           "title": {
            "standoff": 15
           },
           "zerolinecolor": "white",
           "zerolinewidth": 2
          }
         }
        },
        "title": {
         "text": "Multiple Pairs Results"
        },
        "xaxis": {
         "anchor": "y",
         "domain": [
          0,
          1
         ],
         "title": {
          "text": "nodes"
         },
         "visible": false
        },
        "yaxis": {
         "anchor": "x",
         "domain": [
          0,
          1
         ],
         "title": {
          "text": "Time Taken"
         }
        }
       }
      }
     },
     "metadata": {},
     "output_type": "display_data"
    }
   ],
   "source": [
    "\n",
    "for experiment_type in [\"Single\", \"Sets\", \"Multiple Pairs\"]:\n",
    "    a = df[df[\"experiment_type\"] == experiment_type]\n",
    "    if a.empty: continue\n",
    "    # a=pd.melt(df,id_vars=['race'],var_name='gender', value_name='value')\n",
    "    fig = px.bar(a, \n",
    "                title=f\"{experiment_type} Results\",\n",
    "                x=\"nodes\", \n",
    "                y=\"Time Taken\", \n",
    "                barmode=\"group\", \n",
    "                color=\"perturber_class\", \n",
    "                facet_col=\"weights\", \n",
    "                # facet_row=\"weights\", \n",
    "                pattern_shape=\"Success\", \n",
    "                # height=1000,\n",
    "                hover_data=[\"top_k\", \"Average Add Time\", \"Average Perturb Time\", \"Original Distance\", \"Number of Paths\", \"Number of Edges\", \"Iterations\", 'Final Distance',\"Status\", \"LP Status\"],\n",
    "                category_orders={\"experiment_type\": [\"Single\", \"Sets\", \"Multiple Pairs\"], \n",
    "                                \"Status\": [\"Success\"]+[s for s in df[\"Status\"].unique() if s != \"Success\"],\n",
    "                                \"Success\": [True, False]}\n",
    "                )\n",
    "    fig.update_xaxes(visible=False, matches=None)\n",
    "    # fig.update_xaxes(visible=True)\n",
    "    fig.show()"
   ]
  },
  {
   "cell_type": "code",
   "execution_count": 130,
   "metadata": {},
   "outputs": [
    {
     "data": {
      "application/vnd.plotly.v1+json": {
       "config": {
        "plotlyServerURL": "https://plot.ly"
       },
       "data": [
        {
         "alignmentgroup": "True",
         "customdata": [
          [
           5,
           0.054012298583984375,
           0.0029993057250976562,
           312.1,
           5,
           26,
           1,
           312.1,
           "Success"
          ],
          [
           5,
           0.05200552940368652,
           0.002997159957885742,
           624.1,
           5,
           26,
           1,
           624.1,
           "Success"
          ],
          [
           5,
           0.06351780891418457,
           0.0029904842376708984,
           624.1,
           5,
           26,
           1,
           624.1,
           "Success"
          ],
          [
           5,
           0.06453561782836914,
           0.0030214786529541016,
           312.1,
           5,
           26,
           1,
           312.1,
           "Success"
          ],
          [
           5,
           0.0683126449584961,
           0.003994464874267578,
           624.1,
           5,
           26,
           1,
           624.1,
           "Success"
          ],
          [
           5,
           0.07060480117797852,
           0.0030050277709960938,
           312.1,
           5,
           26,
           1,
           312.1,
           "Success"
          ],
          [
           5,
           0.0696713924407959,
           0.004002094268798828,
           312.1,
           5,
           26,
           1,
           312.1,
           "Success"
          ],
          [
           5,
           0.05955386161804199,
           0.003998279571533203,
           312.1,
           5,
           26,
           1,
           312.1,
           "Success"
          ],
          [
           5,
           0.06652116775512695,
           0.0050008296966552734,
           624.1,
           5,
           26,
           1,
           624.1,
           "Success"
          ],
          [
           5,
           0.06806731224060059,
           0.0040438175201416016,
           624.1,
           5,
           26,
           1,
           624.1,
           "Success"
          ],
          [
           5,
           0.02403712272644043,
           0.0029625892639160156,
           272.1,
           5,
           21,
           1,
           272.1,
           "Success"
          ],
          [
           5,
           0.02951836585998535,
           0.003000497817993164,
           272.1,
           5,
           21,
           1,
           272.1,
           "Success"
          ],
          [
           5,
           0.025066852569580078,
           0.0029993057250976562,
           272.1,
           5,
           21,
           1,
           272.1,
           "Success"
          ],
          [
           5,
           0.035002708435058594,
           0.0030090808868408203,
           272.1,
           5,
           21,
           1,
           272.1,
           "Success"
          ],
          [
           5,
           0.0285186767578125,
           0.0030059814453125,
           272.1,
           5,
           21,
           1,
           272.1,
           "Success"
          ],
          [
           5,
           0.03554177284240723,
           0.004969596862792969,
           544.1,
           5,
           21,
           1,
           544.1,
           "Success"
          ],
          [
           5,
           0.03199887275695801,
           0.005003929138183594,
           544.1,
           5,
           21,
           1,
           544.1,
           "Success"
          ],
          [
           5,
           0.021555185317993164,
           0.003002643585205078,
           544.1,
           5,
           21,
           1,
           544.1,
           "Success"
          ],
          [
           5,
           0.02399134635925293,
           0.0029997825622558594,
           544.1,
           5,
           21,
           1,
           544.1,
           "Success"
          ],
          [
           5,
           0.028023242950439453,
           0.00498652458190918,
           544.1,
           5,
           21,
           1,
           544.1,
           "Success"
          ]
         ],
         "hovertemplate": "perturber_class=PathAttack<br>Success=True<br>weights=Poisson<br>nodes=%{x}<br>Total Perturbations=%{y}<br>top_k=%{customdata[0]}<br>Average Add Time=%{customdata[1]}<br>Average Perturb Time=%{customdata[2]}<br>Original Distance=%{customdata[3]}<br>Number of Paths=%{customdata[4]}<br>Number of Edges=%{customdata[5]}<br>Iterations=%{customdata[6]}<br>Final Distance=%{customdata[7]}<br>Status=%{customdata[8]}<extra></extra>",
         "legendgroup": "PathAttack, True",
         "marker": {
          "color": "#636efa",
          "pattern": {
           "shape": ""
          }
         },
         "name": "PathAttack, True",
         "offsetgroup": "PathAttack, True",
         "orientation": "v",
         "showlegend": true,
         "textposition": "auto",
         "type": "bar",
         "x": [
          [
           [
            2602,
            1416
           ],
           [
            2998,
            603
           ],
           [
            2577,
            902
           ],
           [
            1849,
            695
           ],
           [
            1850,
            1090
           ]
          ],
          [
           [
            2602,
            1416
           ],
           [
            2998,
            603
           ],
           [
            2577,
            902
           ],
           [
            1849,
            695
           ],
           [
            1850,
            1090
           ]
          ],
          [
           [
            2602,
            1416
           ],
           [
            2998,
            603
           ],
           [
            2577,
            902
           ],
           [
            1849,
            695
           ],
           [
            1850,
            1090
           ]
          ],
          [
           [
            2602,
            1416
           ],
           [
            2998,
            603
           ],
           [
            2577,
            902
           ],
           [
            1849,
            695
           ],
           [
            1850,
            1090
           ]
          ],
          [
           [
            2602,
            1416
           ],
           [
            2998,
            603
           ],
           [
            2577,
            902
           ],
           [
            1849,
            695
           ],
           [
            1850,
            1090
           ]
          ],
          [
           [
            2602,
            1416
           ],
           [
            2998,
            603
           ],
           [
            2577,
            902
           ],
           [
            1849,
            695
           ],
           [
            1850,
            1090
           ]
          ],
          [
           [
            2602,
            1416
           ],
           [
            2998,
            603
           ],
           [
            2577,
            902
           ],
           [
            1849,
            695
           ],
           [
            1850,
            1090
           ]
          ],
          [
           [
            2602,
            1416
           ],
           [
            2998,
            603
           ],
           [
            2577,
            902
           ],
           [
            1849,
            695
           ],
           [
            1850,
            1090
           ]
          ],
          [
           [
            2602,
            1416
           ],
           [
            2998,
            603
           ],
           [
            2577,
            902
           ],
           [
            1849,
            695
           ],
           [
            1850,
            1090
           ]
          ],
          [
           [
            2602,
            1416
           ],
           [
            2998,
            603
           ],
           [
            2577,
            902
           ],
           [
            1849,
            695
           ],
           [
            1850,
            1090
           ]
          ],
          [
           [
            2431,
            466
           ],
           [
            2799,
            626
           ],
           [
            3379,
            987
           ],
           [
            2502,
            1152
           ],
           [
            2329,
            2258
           ]
          ],
          [
           [
            2431,
            466
           ],
           [
            2799,
            626
           ],
           [
            3379,
            987
           ],
           [
            2502,
            1152
           ],
           [
            2329,
            2258
           ]
          ],
          [
           [
            2431,
            466
           ],
           [
            2799,
            626
           ],
           [
            3379,
            987
           ],
           [
            2502,
            1152
           ],
           [
            2329,
            2258
           ]
          ],
          [
           [
            2431,
            466
           ],
           [
            2799,
            626
           ],
           [
            3379,
            987
           ],
           [
            2502,
            1152
           ],
           [
            2329,
            2258
           ]
          ],
          [
           [
            2431,
            466
           ],
           [
            2799,
            626
           ],
           [
            3379,
            987
           ],
           [
            2502,
            1152
           ],
           [
            2329,
            2258
           ]
          ],
          [
           [
            2431,
            466
           ],
           [
            2799,
            626
           ],
           [
            3379,
            987
           ],
           [
            2502,
            1152
           ],
           [
            2329,
            2258
           ]
          ],
          [
           [
            2431,
            466
           ],
           [
            2799,
            626
           ],
           [
            3379,
            987
           ],
           [
            2502,
            1152
           ],
           [
            2329,
            2258
           ]
          ],
          [
           [
            2431,
            466
           ],
           [
            2799,
            626
           ],
           [
            3379,
            987
           ],
           [
            2502,
            1152
           ],
           [
            2329,
            2258
           ]
          ],
          [
           [
            2431,
            466
           ],
           [
            2799,
            626
           ],
           [
            3379,
            987
           ],
           [
            2502,
            1152
           ],
           [
            2329,
            2258
           ]
          ],
          [
           [
            2431,
            466
           ],
           [
            2799,
            626
           ],
           [
            3379,
            987
           ],
           [
            2502,
            1152
           ],
           [
            2329,
            2258
           ]
          ]
         ],
         "xaxis": "x",
         "y": [
          0,
          0,
          0,
          0,
          0,
          0,
          0,
          0,
          0,
          0,
          0,
          0,
          0,
          0,
          0,
          0,
          0,
          0,
          0,
          0
         ],
         "yaxis": "y"
        },
        {
         "alignmentgroup": "True",
         "customdata": [
          [
           5,
           0.09261846542358398,
           0,
           312.1,
           5,
           26,
           1,
           312.1,
           "Success"
          ],
          [
           5,
           0.06559014320373535,
           0.000997304916381836,
           312.1,
           5,
           26,
           1,
           312.1,
           "Success"
          ],
          [
           5,
           0.08953571319580078,
           0,
           312.1,
           5,
           26,
           1,
           312.1,
           "Success"
          ],
          [
           5,
           0.07000946998596191,
           0,
           312.1,
           5,
           26,
           1,
           312.1,
           "Success"
          ],
          [
           5,
           0.07155466079711914,
           0,
           312.1,
           5,
           26,
           1,
           312.1,
           "Success"
          ],
          [
           5,
           0.08554911613464355,
           0.0010056495666503906,
           624.1,
           5,
           26,
           1,
           624.1,
           "Success"
          ],
          [
           5,
           0.09152364730834961,
           0,
           624.1,
           5,
           26,
           1,
           624.1,
           "Success"
          ],
          [
           5,
           0.07706117630004883,
           0,
           624.1,
           5,
           26,
           1,
           624.1,
           "Success"
          ],
          [
           5,
           0.08053326606750488,
           0,
           624.1,
           5,
           26,
           1,
           624.1,
           "Success"
          ],
          [
           5,
           0.09254169464111328,
           0,
           624.1,
           5,
           26,
           1,
           624.1,
           "Success"
          ],
          [
           5,
           0.0200045108795166,
           0,
           272.1,
           5,
           21,
           1,
           272.1,
           "Success"
          ],
          [
           5,
           0.020992279052734375,
           0.0010004043579101562,
           272.1,
           5,
           21,
           1,
           272.1,
           "Success"
          ],
          [
           5,
           0.024601459503173828,
           0,
           272.1,
           5,
           21,
           1,
           272.1,
           "Success"
          ],
          [
           5,
           0.0260012149810791,
           0,
           272.1,
           5,
           21,
           1,
           272.1,
           "Success"
          ],
          [
           5,
           0.029531240463256836,
           0.0009989738464355469,
           544.1,
           5,
           21,
           1,
           544.1,
           "Success"
          ],
          [
           5,
           0.02504706382751465,
           0,
           272.1,
           5,
           21,
           1,
           272.1,
           "Success"
          ],
          [
           5,
           0.038526058197021484,
           0,
           544.1,
           5,
           21,
           1,
           544.1,
           "Success"
          ]
         ],
         "hovertemplate": "perturber_class=GreeedyFirst<br>Success=True<br>weights=Poisson<br>nodes=%{x}<br>Total Perturbations=%{y}<br>top_k=%{customdata[0]}<br>Average Add Time=%{customdata[1]}<br>Average Perturb Time=%{customdata[2]}<br>Original Distance=%{customdata[3]}<br>Number of Paths=%{customdata[4]}<br>Number of Edges=%{customdata[5]}<br>Iterations=%{customdata[6]}<br>Final Distance=%{customdata[7]}<br>Status=%{customdata[8]}<extra></extra>",
         "legendgroup": "GreeedyFirst, True",
         "marker": {
          "color": "#EF553B",
          "pattern": {
           "shape": ""
          }
         },
         "name": "GreeedyFirst, True",
         "offsetgroup": "GreeedyFirst, True",
         "orientation": "v",
         "showlegend": true,
         "textposition": "auto",
         "type": "bar",
         "x": [
          [
           [
            2602,
            1416
           ],
           [
            2998,
            603
           ],
           [
            2577,
            902
           ],
           [
            1849,
            695
           ],
           [
            1850,
            1090
           ]
          ],
          [
           [
            2602,
            1416
           ],
           [
            2998,
            603
           ],
           [
            2577,
            902
           ],
           [
            1849,
            695
           ],
           [
            1850,
            1090
           ]
          ],
          [
           [
            2602,
            1416
           ],
           [
            2998,
            603
           ],
           [
            2577,
            902
           ],
           [
            1849,
            695
           ],
           [
            1850,
            1090
           ]
          ],
          [
           [
            2602,
            1416
           ],
           [
            2998,
            603
           ],
           [
            2577,
            902
           ],
           [
            1849,
            695
           ],
           [
            1850,
            1090
           ]
          ],
          [
           [
            2602,
            1416
           ],
           [
            2998,
            603
           ],
           [
            2577,
            902
           ],
           [
            1849,
            695
           ],
           [
            1850,
            1090
           ]
          ],
          [
           [
            2602,
            1416
           ],
           [
            2998,
            603
           ],
           [
            2577,
            902
           ],
           [
            1849,
            695
           ],
           [
            1850,
            1090
           ]
          ],
          [
           [
            2602,
            1416
           ],
           [
            2998,
            603
           ],
           [
            2577,
            902
           ],
           [
            1849,
            695
           ],
           [
            1850,
            1090
           ]
          ],
          [
           [
            2602,
            1416
           ],
           [
            2998,
            603
           ],
           [
            2577,
            902
           ],
           [
            1849,
            695
           ],
           [
            1850,
            1090
           ]
          ],
          [
           [
            2602,
            1416
           ],
           [
            2998,
            603
           ],
           [
            2577,
            902
           ],
           [
            1849,
            695
           ],
           [
            1850,
            1090
           ]
          ],
          [
           [
            2602,
            1416
           ],
           [
            2998,
            603
           ],
           [
            2577,
            902
           ],
           [
            1849,
            695
           ],
           [
            1850,
            1090
           ]
          ],
          [
           [
            2431,
            466
           ],
           [
            2799,
            626
           ],
           [
            3379,
            987
           ],
           [
            2502,
            1152
           ],
           [
            2329,
            2258
           ]
          ],
          [
           [
            2431,
            466
           ],
           [
            2799,
            626
           ],
           [
            3379,
            987
           ],
           [
            2502,
            1152
           ],
           [
            2329,
            2258
           ]
          ],
          [
           [
            2431,
            466
           ],
           [
            2799,
            626
           ],
           [
            3379,
            987
           ],
           [
            2502,
            1152
           ],
           [
            2329,
            2258
           ]
          ],
          [
           [
            2431,
            466
           ],
           [
            2799,
            626
           ],
           [
            3379,
            987
           ],
           [
            2502,
            1152
           ],
           [
            2329,
            2258
           ]
          ],
          [
           [
            2431,
            466
           ],
           [
            2799,
            626
           ],
           [
            3379,
            987
           ],
           [
            2502,
            1152
           ],
           [
            2329,
            2258
           ]
          ],
          [
           [
            2431,
            466
           ],
           [
            2799,
            626
           ],
           [
            3379,
            987
           ],
           [
            2502,
            1152
           ],
           [
            2329,
            2258
           ]
          ],
          [
           [
            2431,
            466
           ],
           [
            2799,
            626
           ],
           [
            3379,
            987
           ],
           [
            2502,
            1152
           ],
           [
            2329,
            2258
           ]
          ]
         ],
         "xaxis": "x",
         "y": [
          0,
          0,
          0,
          0,
          0,
          0,
          0,
          0,
          0,
          0,
          0,
          0,
          0,
          0,
          0,
          0,
          0
         ],
         "yaxis": "y"
        },
        {
         "alignmentgroup": "True",
         "customdata": [
          [
           5,
           0.08417725563049316,
           0,
           312.1,
           5,
           26,
           1,
           312.1,
           "Success"
          ],
          [
           5,
           0.07105350494384766,
           0,
           312.1,
           5,
           26,
           1,
           312.1,
           "Success"
          ],
          [
           5,
           0.07152390480041504,
           0,
           312.1,
           5,
           26,
           1,
           312.1,
           "Success"
          ],
          [
           5,
           0.06956934928894043,
           0,
           312.1,
           5,
           26,
           1,
           312.1,
           "Success"
          ],
          [
           5,
           0.0825502872467041,
           0.0009965896606445312,
           312.1,
           5,
           26,
           1,
           312.1,
           "Success"
          ],
          [
           5,
           0.07451128959655762,
           0,
           624.1,
           5,
           26,
           1,
           624.1,
           "Success"
          ],
          [
           5,
           0.07351422309875488,
           0,
           624.1,
           5,
           26,
           1,
           624.1,
           "Success"
          ],
          [
           5,
           0.09871912002563477,
           0,
           624.1,
           5,
           26,
           1,
           624.1,
           "Success"
          ],
          [
           5,
           0.08202934265136719,
           0,
           624.1,
           5,
           26,
           1,
           624.1,
           "Success"
          ],
          [
           5,
           0.07501649856567383,
           0,
           624.1,
           5,
           26,
           1,
           624.1,
           "Success"
          ]
         ],
         "hovertemplate": "perturber_class=MinFirst<br>Success=True<br>weights=Poisson<br>nodes=%{x}<br>Total Perturbations=%{y}<br>top_k=%{customdata[0]}<br>Average Add Time=%{customdata[1]}<br>Average Perturb Time=%{customdata[2]}<br>Original Distance=%{customdata[3]}<br>Number of Paths=%{customdata[4]}<br>Number of Edges=%{customdata[5]}<br>Iterations=%{customdata[6]}<br>Final Distance=%{customdata[7]}<br>Status=%{customdata[8]}<extra></extra>",
         "legendgroup": "MinFirst, True",
         "marker": {
          "color": "#00cc96",
          "pattern": {
           "shape": ""
          }
         },
         "name": "MinFirst, True",
         "offsetgroup": "MinFirst, True",
         "orientation": "v",
         "showlegend": true,
         "textposition": "auto",
         "type": "bar",
         "x": [
          [
           [
            2602,
            1416
           ],
           [
            2998,
            603
           ],
           [
            2577,
            902
           ],
           [
            1849,
            695
           ],
           [
            1850,
            1090
           ]
          ],
          [
           [
            2602,
            1416
           ],
           [
            2998,
            603
           ],
           [
            2577,
            902
           ],
           [
            1849,
            695
           ],
           [
            1850,
            1090
           ]
          ],
          [
           [
            2602,
            1416
           ],
           [
            2998,
            603
           ],
           [
            2577,
            902
           ],
           [
            1849,
            695
           ],
           [
            1850,
            1090
           ]
          ],
          [
           [
            2602,
            1416
           ],
           [
            2998,
            603
           ],
           [
            2577,
            902
           ],
           [
            1849,
            695
           ],
           [
            1850,
            1090
           ]
          ],
          [
           [
            2602,
            1416
           ],
           [
            2998,
            603
           ],
           [
            2577,
            902
           ],
           [
            1849,
            695
           ],
           [
            1850,
            1090
           ]
          ],
          [
           [
            2602,
            1416
           ],
           [
            2998,
            603
           ],
           [
            2577,
            902
           ],
           [
            1849,
            695
           ],
           [
            1850,
            1090
           ]
          ],
          [
           [
            2602,
            1416
           ],
           [
            2998,
            603
           ],
           [
            2577,
            902
           ],
           [
            1849,
            695
           ],
           [
            1850,
            1090
           ]
          ],
          [
           [
            2602,
            1416
           ],
           [
            2998,
            603
           ],
           [
            2577,
            902
           ],
           [
            1849,
            695
           ],
           [
            1850,
            1090
           ]
          ],
          [
           [
            2602,
            1416
           ],
           [
            2998,
            603
           ],
           [
            2577,
            902
           ],
           [
            1849,
            695
           ],
           [
            1850,
            1090
           ]
          ],
          [
           [
            2602,
            1416
           ],
           [
            2998,
            603
           ],
           [
            2577,
            902
           ],
           [
            1849,
            695
           ],
           [
            1850,
            1090
           ]
          ]
         ],
         "xaxis": "x",
         "y": [
          0,
          0,
          0,
          0,
          0,
          0,
          0,
          0,
          0,
          0
         ],
         "yaxis": "y"
        }
       ],
       "layout": {
        "annotations": [
         {
          "font": {},
          "showarrow": false,
          "text": "weights=Poisson",
          "x": 0.5,
          "xanchor": "center",
          "xref": "paper",
          "y": 1,
          "yanchor": "bottom",
          "yref": "paper"
         }
        ],
        "barmode": "group",
        "legend": {
         "title": {
          "text": "perturber_class, Success"
         },
         "tracegroupgap": 0
        },
        "template": {
         "data": {
          "bar": [
           {
            "error_x": {
             "color": "#2a3f5f"
            },
            "error_y": {
             "color": "#2a3f5f"
            },
            "marker": {
             "line": {
              "color": "#E5ECF6",
              "width": 0.5
             },
             "pattern": {
              "fillmode": "overlay",
              "size": 10,
              "solidity": 0.2
             }
            },
            "type": "bar"
           }
          ],
          "barpolar": [
           {
            "marker": {
             "line": {
              "color": "#E5ECF6",
              "width": 0.5
             },
             "pattern": {
              "fillmode": "overlay",
              "size": 10,
              "solidity": 0.2
             }
            },
            "type": "barpolar"
           }
          ],
          "carpet": [
           {
            "aaxis": {
             "endlinecolor": "#2a3f5f",
             "gridcolor": "white",
             "linecolor": "white",
             "minorgridcolor": "white",
             "startlinecolor": "#2a3f5f"
            },
            "baxis": {
             "endlinecolor": "#2a3f5f",
             "gridcolor": "white",
             "linecolor": "white",
             "minorgridcolor": "white",
             "startlinecolor": "#2a3f5f"
            },
            "type": "carpet"
           }
          ],
          "choropleth": [
           {
            "colorbar": {
             "outlinewidth": 0,
             "ticks": ""
            },
            "type": "choropleth"
           }
          ],
          "contour": [
           {
            "colorbar": {
             "outlinewidth": 0,
             "ticks": ""
            },
            "colorscale": [
             [
              0,
              "#0d0887"
             ],
             [
              0.1111111111111111,
              "#46039f"
             ],
             [
              0.2222222222222222,
              "#7201a8"
             ],
             [
              0.3333333333333333,
              "#9c179e"
             ],
             [
              0.4444444444444444,
              "#bd3786"
             ],
             [
              0.5555555555555556,
              "#d8576b"
             ],
             [
              0.6666666666666666,
              "#ed7953"
             ],
             [
              0.7777777777777778,
              "#fb9f3a"
             ],
             [
              0.8888888888888888,
              "#fdca26"
             ],
             [
              1,
              "#f0f921"
             ]
            ],
            "type": "contour"
           }
          ],
          "contourcarpet": [
           {
            "colorbar": {
             "outlinewidth": 0,
             "ticks": ""
            },
            "type": "contourcarpet"
           }
          ],
          "heatmap": [
           {
            "colorbar": {
             "outlinewidth": 0,
             "ticks": ""
            },
            "colorscale": [
             [
              0,
              "#0d0887"
             ],
             [
              0.1111111111111111,
              "#46039f"
             ],
             [
              0.2222222222222222,
              "#7201a8"
             ],
             [
              0.3333333333333333,
              "#9c179e"
             ],
             [
              0.4444444444444444,
              "#bd3786"
             ],
             [
              0.5555555555555556,
              "#d8576b"
             ],
             [
              0.6666666666666666,
              "#ed7953"
             ],
             [
              0.7777777777777778,
              "#fb9f3a"
             ],
             [
              0.8888888888888888,
              "#fdca26"
             ],
             [
              1,
              "#f0f921"
             ]
            ],
            "type": "heatmap"
           }
          ],
          "heatmapgl": [
           {
            "colorbar": {
             "outlinewidth": 0,
             "ticks": ""
            },
            "colorscale": [
             [
              0,
              "#0d0887"
             ],
             [
              0.1111111111111111,
              "#46039f"
             ],
             [
              0.2222222222222222,
              "#7201a8"
             ],
             [
              0.3333333333333333,
              "#9c179e"
             ],
             [
              0.4444444444444444,
              "#bd3786"
             ],
             [
              0.5555555555555556,
              "#d8576b"
             ],
             [
              0.6666666666666666,
              "#ed7953"
             ],
             [
              0.7777777777777778,
              "#fb9f3a"
             ],
             [
              0.8888888888888888,
              "#fdca26"
             ],
             [
              1,
              "#f0f921"
             ]
            ],
            "type": "heatmapgl"
           }
          ],
          "histogram": [
           {
            "marker": {
             "pattern": {
              "fillmode": "overlay",
              "size": 10,
              "solidity": 0.2
             }
            },
            "type": "histogram"
           }
          ],
          "histogram2d": [
           {
            "colorbar": {
             "outlinewidth": 0,
             "ticks": ""
            },
            "colorscale": [
             [
              0,
              "#0d0887"
             ],
             [
              0.1111111111111111,
              "#46039f"
             ],
             [
              0.2222222222222222,
              "#7201a8"
             ],
             [
              0.3333333333333333,
              "#9c179e"
             ],
             [
              0.4444444444444444,
              "#bd3786"
             ],
             [
              0.5555555555555556,
              "#d8576b"
             ],
             [
              0.6666666666666666,
              "#ed7953"
             ],
             [
              0.7777777777777778,
              "#fb9f3a"
             ],
             [
              0.8888888888888888,
              "#fdca26"
             ],
             [
              1,
              "#f0f921"
             ]
            ],
            "type": "histogram2d"
           }
          ],
          "histogram2dcontour": [
           {
            "colorbar": {
             "outlinewidth": 0,
             "ticks": ""
            },
            "colorscale": [
             [
              0,
              "#0d0887"
             ],
             [
              0.1111111111111111,
              "#46039f"
             ],
             [
              0.2222222222222222,
              "#7201a8"
             ],
             [
              0.3333333333333333,
              "#9c179e"
             ],
             [
              0.4444444444444444,
              "#bd3786"
             ],
             [
              0.5555555555555556,
              "#d8576b"
             ],
             [
              0.6666666666666666,
              "#ed7953"
             ],
             [
              0.7777777777777778,
              "#fb9f3a"
             ],
             [
              0.8888888888888888,
              "#fdca26"
             ],
             [
              1,
              "#f0f921"
             ]
            ],
            "type": "histogram2dcontour"
           }
          ],
          "mesh3d": [
           {
            "colorbar": {
             "outlinewidth": 0,
             "ticks": ""
            },
            "type": "mesh3d"
           }
          ],
          "parcoords": [
           {
            "line": {
             "colorbar": {
              "outlinewidth": 0,
              "ticks": ""
             }
            },
            "type": "parcoords"
           }
          ],
          "pie": [
           {
            "automargin": true,
            "type": "pie"
           }
          ],
          "scatter": [
           {
            "fillpattern": {
             "fillmode": "overlay",
             "size": 10,
             "solidity": 0.2
            },
            "type": "scatter"
           }
          ],
          "scatter3d": [
           {
            "line": {
             "colorbar": {
              "outlinewidth": 0,
              "ticks": ""
             }
            },
            "marker": {
             "colorbar": {
              "outlinewidth": 0,
              "ticks": ""
             }
            },
            "type": "scatter3d"
           }
          ],
          "scattercarpet": [
           {
            "marker": {
             "colorbar": {
              "outlinewidth": 0,
              "ticks": ""
             }
            },
            "type": "scattercarpet"
           }
          ],
          "scattergeo": [
           {
            "marker": {
             "colorbar": {
              "outlinewidth": 0,
              "ticks": ""
             }
            },
            "type": "scattergeo"
           }
          ],
          "scattergl": [
           {
            "marker": {
             "colorbar": {
              "outlinewidth": 0,
              "ticks": ""
             }
            },
            "type": "scattergl"
           }
          ],
          "scattermapbox": [
           {
            "marker": {
             "colorbar": {
              "outlinewidth": 0,
              "ticks": ""
             }
            },
            "type": "scattermapbox"
           }
          ],
          "scatterpolar": [
           {
            "marker": {
             "colorbar": {
              "outlinewidth": 0,
              "ticks": ""
             }
            },
            "type": "scatterpolar"
           }
          ],
          "scatterpolargl": [
           {
            "marker": {
             "colorbar": {
              "outlinewidth": 0,
              "ticks": ""
             }
            },
            "type": "scatterpolargl"
           }
          ],
          "scatterternary": [
           {
            "marker": {
             "colorbar": {
              "outlinewidth": 0,
              "ticks": ""
             }
            },
            "type": "scatterternary"
           }
          ],
          "surface": [
           {
            "colorbar": {
             "outlinewidth": 0,
             "ticks": ""
            },
            "colorscale": [
             [
              0,
              "#0d0887"
             ],
             [
              0.1111111111111111,
              "#46039f"
             ],
             [
              0.2222222222222222,
              "#7201a8"
             ],
             [
              0.3333333333333333,
              "#9c179e"
             ],
             [
              0.4444444444444444,
              "#bd3786"
             ],
             [
              0.5555555555555556,
              "#d8576b"
             ],
             [
              0.6666666666666666,
              "#ed7953"
             ],
             [
              0.7777777777777778,
              "#fb9f3a"
             ],
             [
              0.8888888888888888,
              "#fdca26"
             ],
             [
              1,
              "#f0f921"
             ]
            ],
            "type": "surface"
           }
          ],
          "table": [
           {
            "cells": {
             "fill": {
              "color": "#EBF0F8"
             },
             "line": {
              "color": "white"
             }
            },
            "header": {
             "fill": {
              "color": "#C8D4E3"
             },
             "line": {
              "color": "white"
             }
            },
            "type": "table"
           }
          ]
         },
         "layout": {
          "annotationdefaults": {
           "arrowcolor": "#2a3f5f",
           "arrowhead": 0,
           "arrowwidth": 1
          },
          "autotypenumbers": "strict",
          "coloraxis": {
           "colorbar": {
            "outlinewidth": 0,
            "ticks": ""
           }
          },
          "colorscale": {
           "diverging": [
            [
             0,
             "#8e0152"
            ],
            [
             0.1,
             "#c51b7d"
            ],
            [
             0.2,
             "#de77ae"
            ],
            [
             0.3,
             "#f1b6da"
            ],
            [
             0.4,
             "#fde0ef"
            ],
            [
             0.5,
             "#f7f7f7"
            ],
            [
             0.6,
             "#e6f5d0"
            ],
            [
             0.7,
             "#b8e186"
            ],
            [
             0.8,
             "#7fbc41"
            ],
            [
             0.9,
             "#4d9221"
            ],
            [
             1,
             "#276419"
            ]
           ],
           "sequential": [
            [
             0,
             "#0d0887"
            ],
            [
             0.1111111111111111,
             "#46039f"
            ],
            [
             0.2222222222222222,
             "#7201a8"
            ],
            [
             0.3333333333333333,
             "#9c179e"
            ],
            [
             0.4444444444444444,
             "#bd3786"
            ],
            [
             0.5555555555555556,
             "#d8576b"
            ],
            [
             0.6666666666666666,
             "#ed7953"
            ],
            [
             0.7777777777777778,
             "#fb9f3a"
            ],
            [
             0.8888888888888888,
             "#fdca26"
            ],
            [
             1,
             "#f0f921"
            ]
           ],
           "sequentialminus": [
            [
             0,
             "#0d0887"
            ],
            [
             0.1111111111111111,
             "#46039f"
            ],
            [
             0.2222222222222222,
             "#7201a8"
            ],
            [
             0.3333333333333333,
             "#9c179e"
            ],
            [
             0.4444444444444444,
             "#bd3786"
            ],
            [
             0.5555555555555556,
             "#d8576b"
            ],
            [
             0.6666666666666666,
             "#ed7953"
            ],
            [
             0.7777777777777778,
             "#fb9f3a"
            ],
            [
             0.8888888888888888,
             "#fdca26"
            ],
            [
             1,
             "#f0f921"
            ]
           ]
          },
          "colorway": [
           "#636efa",
           "#EF553B",
           "#00cc96",
           "#ab63fa",
           "#FFA15A",
           "#19d3f3",
           "#FF6692",
           "#B6E880",
           "#FF97FF",
           "#FECB52"
          ],
          "font": {
           "color": "#2a3f5f"
          },
          "geo": {
           "bgcolor": "white",
           "lakecolor": "white",
           "landcolor": "#E5ECF6",
           "showlakes": true,
           "showland": true,
           "subunitcolor": "white"
          },
          "hoverlabel": {
           "align": "left"
          },
          "hovermode": "closest",
          "mapbox": {
           "style": "light"
          },
          "paper_bgcolor": "white",
          "plot_bgcolor": "#E5ECF6",
          "polar": {
           "angularaxis": {
            "gridcolor": "white",
            "linecolor": "white",
            "ticks": ""
           },
           "bgcolor": "#E5ECF6",
           "radialaxis": {
            "gridcolor": "white",
            "linecolor": "white",
            "ticks": ""
           }
          },
          "scene": {
           "xaxis": {
            "backgroundcolor": "#E5ECF6",
            "gridcolor": "white",
            "gridwidth": 2,
            "linecolor": "white",
            "showbackground": true,
            "ticks": "",
            "zerolinecolor": "white"
           },
           "yaxis": {
            "backgroundcolor": "#E5ECF6",
            "gridcolor": "white",
            "gridwidth": 2,
            "linecolor": "white",
            "showbackground": true,
            "ticks": "",
            "zerolinecolor": "white"
           },
           "zaxis": {
            "backgroundcolor": "#E5ECF6",
            "gridcolor": "white",
            "gridwidth": 2,
            "linecolor": "white",
            "showbackground": true,
            "ticks": "",
            "zerolinecolor": "white"
           }
          },
          "shapedefaults": {
           "line": {
            "color": "#2a3f5f"
           }
          },
          "ternary": {
           "aaxis": {
            "gridcolor": "white",
            "linecolor": "white",
            "ticks": ""
           },
           "baxis": {
            "gridcolor": "white",
            "linecolor": "white",
            "ticks": ""
           },
           "bgcolor": "#E5ECF6",
           "caxis": {
            "gridcolor": "white",
            "linecolor": "white",
            "ticks": ""
           }
          },
          "title": {
           "x": 0.05
          },
          "xaxis": {
           "automargin": true,
           "gridcolor": "white",
           "linecolor": "white",
           "ticks": "",
           "title": {
            "standoff": 15
           },
           "zerolinecolor": "white",
           "zerolinewidth": 2
          },
          "yaxis": {
           "automargin": true,
           "gridcolor": "white",
           "linecolor": "white",
           "ticks": "",
           "title": {
            "standoff": 15
           },
           "zerolinecolor": "white",
           "zerolinewidth": 2
          }
         }
        },
        "title": {
         "text": "Multiple Pairs Results"
        },
        "xaxis": {
         "anchor": "y",
         "domain": [
          0,
          1
         ],
         "title": {
          "text": "nodes"
         },
         "visible": false
        },
        "yaxis": {
         "anchor": "x",
         "domain": [
          0,
          1
         ],
         "title": {
          "text": "Total Perturbations"
         }
        }
       }
      }
     },
     "metadata": {},
     "output_type": "display_data"
    }
   ],
   "source": [
    "\n",
    "for experiment_type in [\"Single\", \"Sets\", \"Multiple Pairs\"]:\n",
    "    a = df[df[\"experiment_type\"] == experiment_type]\n",
    "    if a.empty: continue\n",
    "    fig = px.bar(a, \n",
    "                title=f\"{experiment_type} Results\",\n",
    "                x=\"nodes\", \n",
    "                y=\"Total Perturbations\", \n",
    "                barmode=\"group\", \n",
    "                color=\"perturber_class\", \n",
    "                facet_col=\"weights\", \n",
    "                # facet_row=\"weights\", \n",
    "                pattern_shape=\"Success\", \n",
    "                # height=1000,\n",
    "                hover_data=[\"top_k\", \"Average Add Time\", \"Average Perturb Time\", \"Original Distance\", \"Number of Paths\", \"Number of Edges\", \"Iterations\", \"Final Distance\", \"Status\"],\n",
    "                category_orders={\"experiment_type\": [\"Single\", \"Sets\", \"Multiple Pairs\"], \n",
    "                                \"Status\": [\"Success\"]+[s for s in df[\"Status\"].unique() if s != \"Success\"],\n",
    "                                \"Success\": [True, False]}\n",
    "                )\n",
    "    fig.update_xaxes(visible=False, matches=None)\n",
    "    fig.show()"
   ]
  }
 ],
 "metadata": {
  "kernelspec": {
   "display_name": "gurobi",
   "language": "python",
   "name": "python3"
  },
  "language_info": {
   "codemirror_mode": {
    "name": "ipython",
    "version": 3
   },
   "file_extension": ".py",
   "mimetype": "text/x-python",
   "name": "python",
   "nbconvert_exporter": "python",
   "pygments_lexer": "ipython3",
   "version": "3.10.8"
  },
  "orig_nbformat": 4,
  "vscode": {
   "interpreter": {
    "hash": "58767115bfc5442e8a9b964f11fbe5a0a1a5198c790ff96fb7618efb86a4a4a0"
   }
  }
 },
 "nbformat": 4,
 "nbformat_minor": 2
}
