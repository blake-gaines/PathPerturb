{
 "cells": [
  {
   "cell_type": "code",
   "execution_count": 454,
   "metadata": {},
   "outputs": [],
   "source": [
    "import pandas as pd\n",
    "import plotly.express as px"
   ]
  },
  {
   "cell_type": "code",
   "execution_count": 455,
   "metadata": {},
   "outputs": [
    {
     "data": {
      "text/plain": [
       "Index([], dtype='object')"
      ]
     },
     "execution_count": 455,
     "metadata": {},
     "output_type": "execute_result"
    }
   ],
   "source": [
    "pd.read_pickle(\"failed_experiments.pkl\").columns"
   ]
  },
  {
   "cell_type": "code",
   "execution_count": 456,
   "metadata": {},
   "outputs": [],
   "source": [
    "df = pd.read_pickle(\"results.pkl\")"
   ]
  },
  {
   "cell_type": "code",
   "execution_count": 457,
   "metadata": {},
   "outputs": [],
   "source": [
    "# df[[\"LP Status\", \"IIS_paths\", \"IIS_edges\", \"IIS_global_budget\",\"experiment_type\"]]"
   ]
  },
  {
   "cell_type": "code",
   "execution_count": 458,
   "metadata": {},
   "outputs": [
    {
     "data": {
      "text/plain": [
       "(52, 1.0)"
      ]
     },
     "execution_count": 458,
     "metadata": {},
     "output_type": "execute_result"
    }
   ],
   "source": [
    "sum(df[\"Success\"]), sum(df[\"Success\"])/len(df)"
   ]
  },
  {
   "cell_type": "code",
   "execution_count": 459,
   "metadata": {},
   "outputs": [
    {
     "data": {
      "text/plain": [
       "(Index(['Original Distance', 'Time Taken', 'Success', 'Number of Paths',\n",
       "        'Number of Edges', 'Add Times', 'Perturb Times', 'Iterations',\n",
       "        'Final Distance', 'Status', 'LP Status', 'Perturbation Dict',\n",
       "        'Total Perturbations', 'Global Budget Slack', 'Supporting Paths',\n",
       "        'Perturbation Failure', 'graph_name', 'weights', 'experiment_type',\n",
       "        'n_nodes_per_experiment', 'n_experiments', 'n_trials',\n",
       "        'min_path_length', 'condition_index', 'use_multithreading', 'nodes',\n",
       "        'pairs', 'configuration_index', 'perturber_class', 'global_budget',\n",
       "        'local_budget', 'epsilon', 'k', 'top_k', 'max_iterations'],\n",
       "       dtype='object'),\n",
       " 52)"
      ]
     },
     "execution_count": 459,
     "metadata": {},
     "output_type": "execute_result"
    }
   ],
   "source": [
    "df.columns, len(df)"
   ]
  },
  {
   "cell_type": "code",
   "execution_count": 460,
   "metadata": {},
   "outputs": [
    {
     "data": {
      "text/html": [
       "<div>\n",
       "<style scoped>\n",
       "    .dataframe tbody tr th:only-of-type {\n",
       "        vertical-align: middle;\n",
       "    }\n",
       "\n",
       "    .dataframe tbody tr th {\n",
       "        vertical-align: top;\n",
       "    }\n",
       "\n",
       "    .dataframe thead th {\n",
       "        text-align: right;\n",
       "    }\n",
       "</style>\n",
       "<table border=\"1\" class=\"dataframe\">\n",
       "  <thead>\n",
       "    <tr style=\"text-align: right;\">\n",
       "      <th></th>\n",
       "      <th>Original Distance</th>\n",
       "      <th>Time Taken</th>\n",
       "      <th>Success</th>\n",
       "      <th>Number of Paths</th>\n",
       "      <th>Number of Edges</th>\n",
       "      <th>Add Times</th>\n",
       "      <th>Perturb Times</th>\n",
       "      <th>Iterations</th>\n",
       "      <th>Final Distance</th>\n",
       "      <th>Status</th>\n",
       "      <th>...</th>\n",
       "      <th>nodes</th>\n",
       "      <th>pairs</th>\n",
       "      <th>configuration_index</th>\n",
       "      <th>perturber_class</th>\n",
       "      <th>global_budget</th>\n",
       "      <th>local_budget</th>\n",
       "      <th>epsilon</th>\n",
       "      <th>k</th>\n",
       "      <th>top_k</th>\n",
       "      <th>max_iterations</th>\n",
       "    </tr>\n",
       "  </thead>\n",
       "  <tbody>\n",
       "    <tr>\n",
       "      <th>0</th>\n",
       "      <td>6.0</td>\n",
       "      <td>4.026279</td>\n",
       "      <td>True</td>\n",
       "      <td>5</td>\n",
       "      <td>220</td>\n",
       "      <td>[0.0506892204284668, 0.03589224815368652, 0.04...</td>\n",
       "      <td>[0.0, 0.0, 0.0, 0.0009365081787109375, 0.00262...</td>\n",
       "      <td>36</td>\n",
       "      <td>6.0</td>\n",
       "      <td>Success</td>\n",
       "      <td>...</td>\n",
       "      <td>((2671, 964), (3229, 536), (2857, 1062), (3331...</td>\n",
       "      <td>((2671, 964), (3229, 536), (2857, 1062), (3331...</td>\n",
       "      <td>0</td>\n",
       "      <td>PathAttack</td>\n",
       "      <td>1000</td>\n",
       "      <td>500</td>\n",
       "      <td>0.1</td>\n",
       "      <td>3</td>\n",
       "      <td>5</td>\n",
       "      <td>200</td>\n",
       "    </tr>\n",
       "    <tr>\n",
       "      <th>1</th>\n",
       "      <td>6.0</td>\n",
       "      <td>4.086250</td>\n",
       "      <td>True</td>\n",
       "      <td>5</td>\n",
       "      <td>214</td>\n",
       "      <td>[0.046860456466674805, 0.046874284744262695, 0...</td>\n",
       "      <td>[0.0, 0.0, 0.0, 0.0, 0.0, 0.0, 0.0, 0.0, 0.0, ...</td>\n",
       "      <td>35</td>\n",
       "      <td>6.0</td>\n",
       "      <td>Success</td>\n",
       "      <td>...</td>\n",
       "      <td>((2671, 964), (3229, 536), (2857, 1062), (3331...</td>\n",
       "      <td>((2671, 964), (3229, 536), (2857, 1062), (3331...</td>\n",
       "      <td>1</td>\n",
       "      <td>PathAttack</td>\n",
       "      <td>1000</td>\n",
       "      <td>500</td>\n",
       "      <td>0.1</td>\n",
       "      <td>5</td>\n",
       "      <td>5</td>\n",
       "      <td>200</td>\n",
       "    </tr>\n",
       "    <tr>\n",
       "      <th>2</th>\n",
       "      <td>6.0</td>\n",
       "      <td>4.396159</td>\n",
       "      <td>True</td>\n",
       "      <td>5</td>\n",
       "      <td>220</td>\n",
       "      <td>[0.046871185302734375, 0.06091570854187012, 0....</td>\n",
       "      <td>[0.0, 0.0, 0.0009961128234863281, 0.0156474113...</td>\n",
       "      <td>36</td>\n",
       "      <td>6.0</td>\n",
       "      <td>Success</td>\n",
       "      <td>...</td>\n",
       "      <td>((2671, 964), (3229, 536), (2857, 1062), (3331...</td>\n",
       "      <td>((2671, 964), (3229, 536), (2857, 1062), (3331...</td>\n",
       "      <td>0</td>\n",
       "      <td>PathAttack</td>\n",
       "      <td>1000</td>\n",
       "      <td>500</td>\n",
       "      <td>0.1</td>\n",
       "      <td>3</td>\n",
       "      <td>5</td>\n",
       "      <td>200</td>\n",
       "    </tr>\n",
       "    <tr>\n",
       "      <th>3</th>\n",
       "      <td>6.0</td>\n",
       "      <td>4.590829</td>\n",
       "      <td>True</td>\n",
       "      <td>5</td>\n",
       "      <td>220</td>\n",
       "      <td>[0.0580134391784668, 0.06276774406433105, 0.06...</td>\n",
       "      <td>[0.0, 0.0, 0.0, 0.0, 0.0, 0.0, 0.0, 0.0, 0.0, ...</td>\n",
       "      <td>36</td>\n",
       "      <td>6.0</td>\n",
       "      <td>Success</td>\n",
       "      <td>...</td>\n",
       "      <td>((2671, 964), (3229, 536), (2857, 1062), (3331...</td>\n",
       "      <td>((2671, 964), (3229, 536), (2857, 1062), (3331...</td>\n",
       "      <td>0</td>\n",
       "      <td>PathAttack</td>\n",
       "      <td>1000</td>\n",
       "      <td>500</td>\n",
       "      <td>0.1</td>\n",
       "      <td>3</td>\n",
       "      <td>5</td>\n",
       "      <td>200</td>\n",
       "    </tr>\n",
       "    <tr>\n",
       "      <th>4</th>\n",
       "      <td>6.0</td>\n",
       "      <td>4.528347</td>\n",
       "      <td>True</td>\n",
       "      <td>5</td>\n",
       "      <td>220</td>\n",
       "      <td>[0.06288027763366699, 0.07362937927246094, 0.0...</td>\n",
       "      <td>[0.0, 0.0, 0.0, 0.015642166137695312, 0.0, 0.0...</td>\n",
       "      <td>36</td>\n",
       "      <td>6.0</td>\n",
       "      <td>Success</td>\n",
       "      <td>...</td>\n",
       "      <td>((2671, 964), (3229, 536), (2857, 1062), (3331...</td>\n",
       "      <td>((2671, 964), (3229, 536), (2857, 1062), (3331...</td>\n",
       "      <td>0</td>\n",
       "      <td>PathAttack</td>\n",
       "      <td>1000</td>\n",
       "      <td>500</td>\n",
       "      <td>0.1</td>\n",
       "      <td>3</td>\n",
       "      <td>5</td>\n",
       "      <td>200</td>\n",
       "    </tr>\n",
       "  </tbody>\n",
       "</table>\n",
       "<p>5 rows × 35 columns</p>\n",
       "</div>"
      ],
      "text/plain": [
       "   Original Distance  Time Taken  Success  Number of Paths  Number of Edges  \\\n",
       "0                6.0    4.026279     True                5              220   \n",
       "1                6.0    4.086250     True                5              214   \n",
       "2                6.0    4.396159     True                5              220   \n",
       "3                6.0    4.590829     True                5              220   \n",
       "4                6.0    4.528347     True                5              220   \n",
       "\n",
       "                                           Add Times  \\\n",
       "0  [0.0506892204284668, 0.03589224815368652, 0.04...   \n",
       "1  [0.046860456466674805, 0.046874284744262695, 0...   \n",
       "2  [0.046871185302734375, 0.06091570854187012, 0....   \n",
       "3  [0.0580134391784668, 0.06276774406433105, 0.06...   \n",
       "4  [0.06288027763366699, 0.07362937927246094, 0.0...   \n",
       "\n",
       "                                       Perturb Times  Iterations  \\\n",
       "0  [0.0, 0.0, 0.0, 0.0009365081787109375, 0.00262...          36   \n",
       "1  [0.0, 0.0, 0.0, 0.0, 0.0, 0.0, 0.0, 0.0, 0.0, ...          35   \n",
       "2  [0.0, 0.0, 0.0009961128234863281, 0.0156474113...          36   \n",
       "3  [0.0, 0.0, 0.0, 0.0, 0.0, 0.0, 0.0, 0.0, 0.0, ...          36   \n",
       "4  [0.0, 0.0, 0.0, 0.015642166137695312, 0.0, 0.0...          36   \n",
       "\n",
       "   Final Distance   Status  ...  \\\n",
       "0             6.0  Success  ...   \n",
       "1             6.0  Success  ...   \n",
       "2             6.0  Success  ...   \n",
       "3             6.0  Success  ...   \n",
       "4             6.0  Success  ...   \n",
       "\n",
       "                                               nodes  \\\n",
       "0  ((2671, 964), (3229, 536), (2857, 1062), (3331...   \n",
       "1  ((2671, 964), (3229, 536), (2857, 1062), (3331...   \n",
       "2  ((2671, 964), (3229, 536), (2857, 1062), (3331...   \n",
       "3  ((2671, 964), (3229, 536), (2857, 1062), (3331...   \n",
       "4  ((2671, 964), (3229, 536), (2857, 1062), (3331...   \n",
       "\n",
       "                                               pairs  configuration_index  \\\n",
       "0  ((2671, 964), (3229, 536), (2857, 1062), (3331...                    0   \n",
       "1  ((2671, 964), (3229, 536), (2857, 1062), (3331...                    1   \n",
       "2  ((2671, 964), (3229, 536), (2857, 1062), (3331...                    0   \n",
       "3  ((2671, 964), (3229, 536), (2857, 1062), (3331...                    0   \n",
       "4  ((2671, 964), (3229, 536), (2857, 1062), (3331...                    0   \n",
       "\n",
       "   perturber_class global_budget  local_budget epsilon  k top_k  \\\n",
       "0       PathAttack          1000           500     0.1  3     5   \n",
       "1       PathAttack          1000           500     0.1  5     5   \n",
       "2       PathAttack          1000           500     0.1  3     5   \n",
       "3       PathAttack          1000           500     0.1  3     5   \n",
       "4       PathAttack          1000           500     0.1  3     5   \n",
       "\n",
       "   max_iterations  \n",
       "0             200  \n",
       "1             200  \n",
       "2             200  \n",
       "3             200  \n",
       "4             200  \n",
       "\n",
       "[5 rows x 35 columns]"
      ]
     },
     "execution_count": 460,
     "metadata": {},
     "output_type": "execute_result"
    }
   ],
   "source": [
    "df.head()"
   ]
  },
  {
   "cell_type": "code",
   "execution_count": 461,
   "metadata": {},
   "outputs": [],
   "source": [
    "df[\"Average Add Time\"] = df[\"Add Times\"].map(lambda x: sum(x) / len(x) if len(x)>0 else None)\n",
    "df[\"Average Perturb Time\"] = df[\"Perturb Times\"].map(lambda x: sum(x) / len(x) if len(x)>0 else None)"
   ]
  },
  {
   "cell_type": "code",
   "execution_count": 462,
   "metadata": {},
   "outputs": [],
   "source": [
    "df.to_csv(\"results.csv\")"
   ]
  },
  {
   "cell_type": "code",
   "execution_count": 465,
   "metadata": {},
   "outputs": [
    {
     "data": {
      "application/vnd.plotly.v1+json": {
       "config": {
        "plotlyServerURL": "https://plot.ly"
       },
       "data": [
        {
         "alignmentgroup": "True",
         "customdata": [
          [
           5,
           0.06752016146977742,
           0.0052505069308810765,
           6,
           5,
           220,
           36,
           6,
           "Success",
           2
          ],
          [
           5,
           0.07571770747502644,
           0.0025103025966220433,
           6,
           5,
           220,
           36,
           6,
           "Success",
           2
          ],
          [
           5,
           0.07856834597057766,
           0.004123846689860026,
           6,
           5,
           220,
           36,
           6,
           "Success",
           2
          ],
          [
           5,
           0.07795180214775933,
           0.00425597694185045,
           6,
           5,
           220,
           36,
           6,
           "Success",
           2
          ],
          [
           5,
           0.07490242852105035,
           0.002885315153333876,
           6,
           5,
           220,
           36,
           6,
           "Success",
           2
          ],
          [
           5,
           0.07155991524688957,
           0.017675741698390753,
           6,
           5,
           293,
           129,
           6,
           "Success",
           2
          ],
          [
           5,
           0.07509751837382946,
           0.017307349877764087,
           6,
           5,
           293,
           129,
           6,
           "Success",
           2
          ],
          [
           5,
           0.07454409710196562,
           0.016655735267225164,
           6,
           5,
           293,
           129,
           6,
           "Success",
           2
          ],
          [
           5,
           0.07446202011995537,
           0.017304492551226947,
           6,
           5,
           293,
           129,
           6,
           "Success",
           2
          ],
          [
           5,
           0.07564402181048725,
           0.017011821732040522,
           6,
           5,
           293,
           129,
           6,
           "Success",
           2
          ]
         ],
         "hovertemplate": "perturber_class=PathAttack<br>Success=True<br>k=3<br>weights=Equal<br>nodes=%{x}<br>Time Taken=%{y}<br>top_k=%{customdata[0]}<br>Average Add Time=%{customdata[1]}<br>Average Perturb Time=%{customdata[2]}<br>Original Distance=%{customdata[3]}<br>Number of Paths=%{customdata[4]}<br>Number of Edges=%{customdata[5]}<br>Iterations=%{customdata[6]}<br>Final Distance=%{customdata[7]}<br>Status=%{customdata[8]}<br>LP Status=%{customdata[9]}<extra></extra>",
         "legendgroup": "PathAttack, True",
         "marker": {
          "color": "#636efa",
          "pattern": {
           "shape": ""
          }
         },
         "name": "PathAttack, True",
         "offsetgroup": "PathAttack, True",
         "orientation": "v",
         "showlegend": true,
         "textposition": "auto",
         "type": "bar",
         "x": [
          [
           [
            2671,
            964
           ],
           [
            3229,
            536
           ],
           [
            2857,
            1062
           ],
           [
            3331,
            949
           ],
           [
            2947,
            1167
           ]
          ],
          [
           [
            2671,
            964
           ],
           [
            3229,
            536
           ],
           [
            2857,
            1062
           ],
           [
            3331,
            949
           ],
           [
            2947,
            1167
           ]
          ],
          [
           [
            2671,
            964
           ],
           [
            3229,
            536
           ],
           [
            2857,
            1062
           ],
           [
            3331,
            949
           ],
           [
            2947,
            1167
           ]
          ],
          [
           [
            2671,
            964
           ],
           [
            3229,
            536
           ],
           [
            2857,
            1062
           ],
           [
            3331,
            949
           ],
           [
            2947,
            1167
           ]
          ],
          [
           [
            2671,
            964
           ],
           [
            3229,
            536
           ],
           [
            2857,
            1062
           ],
           [
            3331,
            949
           ],
           [
            2947,
            1167
           ]
          ],
          [
           [
            2421,
            1202
           ],
           [
            2998,
            603
           ],
           [
            2577,
            902
           ],
           [
            1849,
            695
           ],
           [
            3178,
            1417
           ]
          ],
          [
           [
            2421,
            1202
           ],
           [
            2998,
            603
           ],
           [
            2577,
            902
           ],
           [
            1849,
            695
           ],
           [
            3178,
            1417
           ]
          ],
          [
           [
            2421,
            1202
           ],
           [
            2998,
            603
           ],
           [
            2577,
            902
           ],
           [
            1849,
            695
           ],
           [
            3178,
            1417
           ]
          ],
          [
           [
            2421,
            1202
           ],
           [
            2998,
            603
           ],
           [
            2577,
            902
           ],
           [
            1849,
            695
           ],
           [
            3178,
            1417
           ]
          ],
          [
           [
            2421,
            1202
           ],
           [
            2998,
            603
           ],
           [
            2577,
            902
           ],
           [
            1849,
            695
           ],
           [
            3178,
            1417
           ]
          ]
         ],
         "xaxis": "x2",
         "y": [
          4.026278972625732,
          4.396158695220947,
          4.590828895568848,
          4.528346538543701,
          4.457093238830566,
          19.134040594100952,
          20.77281880378723,
          21.062344074249268,
          21.211148262023926,
          21.20217776298523
         ],
         "yaxis": "y2"
        },
        {
         "alignmentgroup": "True",
         "customdata": [
          [
           5,
           0.07107034410749163,
           0.0029571260724748885,
           6,
           5,
           214,
           35,
           6,
           "Success",
           2
          ],
          [
           5,
           0.07593201228550502,
           0.0022982937949044364,
           6,
           5,
           214,
           35,
           6,
           "Success",
           2
          ],
          [
           5,
           0.0786564826965332,
           0.0034028870718819755,
           6,
           5,
           214,
           35,
           6,
           "Success",
           2
          ],
          [
           5,
           0.08396047864641462,
           0.0032378128596714565,
           6,
           5,
           214,
           35,
           6,
           "Success",
           2
          ],
          [
           5,
           0.08384631020682198,
           0.004066235678536551,
           6,
           5,
           214,
           35,
           6,
           "Success",
           2
          ],
          [
           5,
           0.07357706914421257,
           0.044432467176714015,
           6,
           5,
           302,
           131,
           6,
           "Success",
           2
          ],
          [
           5,
           0.06856991134527075,
           0.045093680156096244,
           6,
           5,
           302,
           131,
           6,
           "Success",
           2
          ],
          [
           5,
           0.06897200700890926,
           0.04773613514791008,
           6,
           5,
           302,
           131,
           6,
           "Success",
           2
          ],
          [
           5,
           0.0699441505752447,
           0.04724368794273784,
           6,
           5,
           302,
           131,
           6,
           "Success",
           2
          ],
          [
           5,
           0.07072029950964542,
           0.047920922286637864,
           6,
           5,
           302,
           131,
           6,
           "Success",
           2
          ]
         ],
         "hovertemplate": "perturber_class=PathAttack<br>Success=True<br>k=5<br>weights=Equal<br>nodes=%{x}<br>Time Taken=%{y}<br>top_k=%{customdata[0]}<br>Average Add Time=%{customdata[1]}<br>Average Perturb Time=%{customdata[2]}<br>Original Distance=%{customdata[3]}<br>Number of Paths=%{customdata[4]}<br>Number of Edges=%{customdata[5]}<br>Iterations=%{customdata[6]}<br>Final Distance=%{customdata[7]}<br>Status=%{customdata[8]}<br>LP Status=%{customdata[9]}<extra></extra>",
         "legendgroup": "PathAttack, True",
         "marker": {
          "color": "#636efa",
          "pattern": {
           "shape": ""
          }
         },
         "name": "PathAttack, True",
         "offsetgroup": "PathAttack, True",
         "orientation": "v",
         "showlegend": false,
         "textposition": "auto",
         "type": "bar",
         "x": [
          [
           [
            2671,
            964
           ],
           [
            3229,
            536
           ],
           [
            2857,
            1062
           ],
           [
            3331,
            949
           ],
           [
            2947,
            1167
           ]
          ],
          [
           [
            2671,
            964
           ],
           [
            3229,
            536
           ],
           [
            2857,
            1062
           ],
           [
            3331,
            949
           ],
           [
            2947,
            1167
           ]
          ],
          [
           [
            2671,
            964
           ],
           [
            3229,
            536
           ],
           [
            2857,
            1062
           ],
           [
            3331,
            949
           ],
           [
            2947,
            1167
           ]
          ],
          [
           [
            2671,
            964
           ],
           [
            3229,
            536
           ],
           [
            2857,
            1062
           ],
           [
            3331,
            949
           ],
           [
            2947,
            1167
           ]
          ],
          [
           [
            2671,
            964
           ],
           [
            3229,
            536
           ],
           [
            2857,
            1062
           ],
           [
            3331,
            949
           ],
           [
            2947,
            1167
           ]
          ],
          [
           [
            2421,
            1202
           ],
           [
            2998,
            603
           ],
           [
            2577,
            902
           ],
           [
            1849,
            695
           ],
           [
            3178,
            1417
           ]
          ],
          [
           [
            2421,
            1202
           ],
           [
            2998,
            603
           ],
           [
            2577,
            902
           ],
           [
            1849,
            695
           ],
           [
            3178,
            1417
           ]
          ],
          [
           [
            2421,
            1202
           ],
           [
            2998,
            603
           ],
           [
            2577,
            902
           ],
           [
            1849,
            695
           ],
           [
            3178,
            1417
           ]
          ],
          [
           [
            2421,
            1202
           ],
           [
            2998,
            603
           ],
           [
            2577,
            902
           ],
           [
            1849,
            695
           ],
           [
            3178,
            1417
           ]
          ],
          [
           [
            2421,
            1202
           ],
           [
            2998,
            603
           ],
           [
            2577,
            902
           ],
           [
            1849,
            695
           ],
           [
            3178,
            1417
           ]
          ]
         ],
         "xaxis": "x",
         "y": [
          4.086249828338623,
          4.370293378829956,
          4.441650152206421,
          4.706812143325806,
          4.621257781982422,
          25.426217317581177,
          27.967774391174316,
          33.87551689147949,
          34.867865800857544,
          34.90006613731384
         ],
         "yaxis": "y"
        },
        {
         "alignmentgroup": "True",
         "customdata": [
          [
           5,
           0.04606436038839406,
           0,
           6,
           5,
           121,
           29,
           6,
           "Success",
           null
          ],
          [
           5,
           0.049012225249717975,
           0,
           6,
           5,
           121,
           29,
           6,
           "Success",
           null
          ],
          [
           5,
           0.050241947174072266,
           0,
           6,
           5,
           121,
           29,
           6,
           "Success",
           null
          ],
          [
           5,
           0.052633301965121566,
           0,
           6,
           5,
           121,
           29,
           6,
           "Success",
           null
          ],
          [
           5,
           0.04670126684780779,
           0,
           6,
           5,
           121,
           29,
           6,
           "Success",
           null
          ],
          [
           5,
           0.07392755368860757,
           0.0000245629287347561,
           6,
           5,
           283,
           82,
           6,
           "Success",
           null
          ],
          [
           5,
           0.07581904748590981,
           0.000012272741736435309,
           6,
           5,
           283,
           82,
           6,
           "Success",
           null
          ],
          [
           5,
           0.07857970493595774,
           0,
           6,
           5,
           283,
           82,
           6,
           "Success",
           null
          ],
          [
           5,
           0.07604355637620135,
           0.000024350678048482757,
           6,
           5,
           283,
           82,
           6,
           "Success",
           null
          ],
          [
           5,
           0.076478676098149,
           0,
           6,
           5,
           283,
           82,
           6,
           "Success",
           null
          ]
         ],
         "hovertemplate": "perturber_class=GreedyFirst<br>Success=True<br>k=3<br>weights=Equal<br>nodes=%{x}<br>Time Taken=%{y}<br>top_k=%{customdata[0]}<br>Average Add Time=%{customdata[1]}<br>Average Perturb Time=%{customdata[2]}<br>Original Distance=%{customdata[3]}<br>Number of Paths=%{customdata[4]}<br>Number of Edges=%{customdata[5]}<br>Iterations=%{customdata[6]}<br>Final Distance=%{customdata[7]}<br>Status=%{customdata[8]}<br>LP Status=%{customdata[9]}<extra></extra>",
         "legendgroup": "GreedyFirst, True",
         "marker": {
          "color": "#EF553B",
          "pattern": {
           "shape": ""
          }
         },
         "name": "GreedyFirst, True",
         "offsetgroup": "GreedyFirst, True",
         "orientation": "v",
         "showlegend": true,
         "textposition": "auto",
         "type": "bar",
         "x": [
          [
           [
            2671,
            964
           ],
           [
            3229,
            536
           ],
           [
            2857,
            1062
           ],
           [
            3331,
            949
           ],
           [
            2947,
            1167
           ]
          ],
          [
           [
            2671,
            964
           ],
           [
            3229,
            536
           ],
           [
            2857,
            1062
           ],
           [
            3331,
            949
           ],
           [
            2947,
            1167
           ]
          ],
          [
           [
            2671,
            964
           ],
           [
            3229,
            536
           ],
           [
            2857,
            1062
           ],
           [
            3331,
            949
           ],
           [
            2947,
            1167
           ]
          ],
          [
           [
            2671,
            964
           ],
           [
            3229,
            536
           ],
           [
            2857,
            1062
           ],
           [
            3331,
            949
           ],
           [
            2947,
            1167
           ]
          ],
          [
           [
            2671,
            964
           ],
           [
            3229,
            536
           ],
           [
            2857,
            1062
           ],
           [
            3331,
            949
           ],
           [
            2947,
            1167
           ]
          ],
          [
           [
            2421,
            1202
           ],
           [
            2998,
            603
           ],
           [
            2577,
            902
           ],
           [
            1849,
            695
           ],
           [
            3178,
            1417
           ]
          ],
          [
           [
            2421,
            1202
           ],
           [
            2998,
            603
           ],
           [
            2577,
            902
           ],
           [
            1849,
            695
           ],
           [
            3178,
            1417
           ]
          ],
          [
           [
            2421,
            1202
           ],
           [
            2998,
            603
           ],
           [
            2577,
            902
           ],
           [
            1849,
            695
           ],
           [
            3178,
            1417
           ]
          ],
          [
           [
            2421,
            1202
           ],
           [
            2998,
            603
           ],
           [
            2577,
            902
           ],
           [
            1849,
            695
           ],
           [
            3178,
            1417
           ]
          ],
          [
           [
            2421,
            1202
           ],
           [
            2998,
            603
           ],
           [
            2577,
            902
           ],
           [
            1849,
            695
           ],
           [
            3178,
            1417
           ]
          ]
         ],
         "xaxis": "x2",
         "y": [
          2.611572504043579,
          2.6970374584198,
          2.838224411010742,
          2.917569637298584,
          2.6148605346679688,
          16.447507619857788,
          23.13738441467285,
          17.923102378845215,
          17.034909963607788,
          10.705865383148193
         ],
         "yaxis": "y2"
        },
        {
         "alignmentgroup": "True",
         "customdata": [
          [
           5,
           0.03777067414645491,
           0,
           6,
           5,
           121,
           29,
           6,
           "Success",
           null
          ],
          [
           5,
           0.047202134954518284,
           0,
           6,
           5,
           121,
           29,
           6,
           "Success",
           null
          ],
          [
           5,
           0.047033022189962456,
           0,
           6,
           5,
           121,
           29,
           6,
           "Success",
           null
          ],
          [
           5,
           0.04963994026184082,
           0,
           6,
           5,
           121,
           29,
           6,
           "Success",
           null
          ],
          [
           5,
           0.046389966175473966,
           0,
           6,
           5,
           121,
           29,
           6,
           "Success",
           null
          ],
          [
           5,
           0.07549981663866741,
           0.000012217498407131288,
           6,
           5,
           283,
           82,
           6,
           "Success",
           null
          ],
          [
           5,
           0.07510824029038592,
           0,
           6,
           5,
           283,
           82,
           6,
           "Success",
           null
          ],
          [
           5,
           0.07838508559436333,
           0,
           6,
           5,
           283,
           82,
           6,
           "Success",
           null
          ],
          [
           5,
           0.07903180471280725,
           0,
           6,
           5,
           283,
           82,
           6,
           "Success",
           null
          ],
          [
           5,
           0.07729395715201773,
           0,
           6,
           5,
           283,
           82,
           6,
           "Success",
           null
          ]
         ],
         "hovertemplate": "perturber_class=GreedyFirst<br>Success=True<br>k=5<br>weights=Equal<br>nodes=%{x}<br>Time Taken=%{y}<br>top_k=%{customdata[0]}<br>Average Add Time=%{customdata[1]}<br>Average Perturb Time=%{customdata[2]}<br>Original Distance=%{customdata[3]}<br>Number of Paths=%{customdata[4]}<br>Number of Edges=%{customdata[5]}<br>Iterations=%{customdata[6]}<br>Final Distance=%{customdata[7]}<br>Status=%{customdata[8]}<br>LP Status=%{customdata[9]}<extra></extra>",
         "legendgroup": "GreedyFirst, True",
         "marker": {
          "color": "#EF553B",
          "pattern": {
           "shape": ""
          }
         },
         "name": "GreedyFirst, True",
         "offsetgroup": "GreedyFirst, True",
         "orientation": "v",
         "showlegend": false,
         "textposition": "auto",
         "type": "bar",
         "x": [
          [
           [
            2671,
            964
           ],
           [
            3229,
            536
           ],
           [
            2857,
            1062
           ],
           [
            3331,
            949
           ],
           [
            2947,
            1167
           ]
          ],
          [
           [
            2671,
            964
           ],
           [
            3229,
            536
           ],
           [
            2857,
            1062
           ],
           [
            3331,
            949
           ],
           [
            2947,
            1167
           ]
          ],
          [
           [
            2671,
            964
           ],
           [
            3229,
            536
           ],
           [
            2857,
            1062
           ],
           [
            3331,
            949
           ],
           [
            2947,
            1167
           ]
          ],
          [
           [
            2671,
            964
           ],
           [
            3229,
            536
           ],
           [
            2857,
            1062
           ],
           [
            3331,
            949
           ],
           [
            2947,
            1167
           ]
          ],
          [
           [
            2671,
            964
           ],
           [
            3229,
            536
           ],
           [
            2857,
            1062
           ],
           [
            3331,
            949
           ],
           [
            2947,
            1167
           ]
          ],
          [
           [
            2421,
            1202
           ],
           [
            2998,
            603
           ],
           [
            2577,
            902
           ],
           [
            1849,
            695
           ],
           [
            3178,
            1417
           ]
          ],
          [
           [
            2421,
            1202
           ],
           [
            2998,
            603
           ],
           [
            2577,
            902
           ],
           [
            1849,
            695
           ],
           [
            3178,
            1417
           ]
          ],
          [
           [
            2421,
            1202
           ],
           [
            2998,
            603
           ],
           [
            2577,
            902
           ],
           [
            1849,
            695
           ],
           [
            3178,
            1417
           ]
          ],
          [
           [
            2421,
            1202
           ],
           [
            2998,
            603
           ],
           [
            2577,
            902
           ],
           [
            1849,
            695
           ],
           [
            3178,
            1417
           ]
          ],
          [
           [
            2421,
            1202
           ],
           [
            2998,
            603
           ],
           [
            2577,
            902
           ],
           [
            1849,
            695
           ],
           [
            3178,
            1417
           ]
          ]
         ],
         "xaxis": "x",
         "y": [
          2.1474926471710205,
          2.6376261711120605,
          2.641148805618286,
          2.74639630317688,
          2.609528064727783,
          10.62284231185913,
          10.598960399627686,
          10.871548414230347,
          10.992827653884888,
          10.771061658859253
         ],
         "yaxis": "y"
        },
        {
         "alignmentgroup": "True",
         "customdata": [
          [
           5,
           0.04573407666436557,
           0,
           6,
           5,
           121,
           29,
           6,
           "Success",
           null
          ],
          [
           5,
           0.046136708095155916,
           0,
           6,
           5,
           121,
           29,
           6,
           "Success",
           null
          ],
          [
           5,
           0.04416794612489898,
           0,
           6,
           5,
           121,
           29,
           6,
           "Success",
           null
          ],
          [
           5,
           0.04351600285234122,
           0,
           6,
           5,
           121,
           29,
           6,
           "Success",
           null
          ],
          [
           5,
           0.04693666819868417,
           0,
           6,
           5,
           121,
           29,
           6,
           "Success",
           null
          ],
          [
           5,
           0.07789521101044446,
           0,
           6,
           5,
           283,
           82,
           6,
           "Success",
           null
          ],
          [
           5,
           0.07964778527980898,
           0.000012208775776188549,
           6,
           5,
           283,
           82,
           6,
           "Success",
           null
          ]
         ],
         "hovertemplate": "perturber_class=MinFirst<br>Success=True<br>k=3<br>weights=Equal<br>nodes=%{x}<br>Time Taken=%{y}<br>top_k=%{customdata[0]}<br>Average Add Time=%{customdata[1]}<br>Average Perturb Time=%{customdata[2]}<br>Original Distance=%{customdata[3]}<br>Number of Paths=%{customdata[4]}<br>Number of Edges=%{customdata[5]}<br>Iterations=%{customdata[6]}<br>Final Distance=%{customdata[7]}<br>Status=%{customdata[8]}<br>LP Status=%{customdata[9]}<extra></extra>",
         "legendgroup": "MinFirst, True",
         "marker": {
          "color": "#00cc96",
          "pattern": {
           "shape": ""
          }
         },
         "name": "MinFirst, True",
         "offsetgroup": "MinFirst, True",
         "orientation": "v",
         "showlegend": true,
         "textposition": "auto",
         "type": "bar",
         "x": [
          [
           [
            2671,
            964
           ],
           [
            3229,
            536
           ],
           [
            2857,
            1062
           ],
           [
            3331,
            949
           ],
           [
            2947,
            1167
           ]
          ],
          [
           [
            2671,
            964
           ],
           [
            3229,
            536
           ],
           [
            2857,
            1062
           ],
           [
            3331,
            949
           ],
           [
            2947,
            1167
           ]
          ],
          [
           [
            2671,
            964
           ],
           [
            3229,
            536
           ],
           [
            2857,
            1062
           ],
           [
            3331,
            949
           ],
           [
            2947,
            1167
           ]
          ],
          [
           [
            2671,
            964
           ],
           [
            3229,
            536
           ],
           [
            2857,
            1062
           ],
           [
            3331,
            949
           ],
           [
            2947,
            1167
           ]
          ],
          [
           [
            2671,
            964
           ],
           [
            3229,
            536
           ],
           [
            2857,
            1062
           ],
           [
            3331,
            949
           ],
           [
            2947,
            1167
           ]
          ],
          [
           [
            2421,
            1202
           ],
           [
            2998,
            603
           ],
           [
            2577,
            902
           ],
           [
            1849,
            695
           ],
           [
            3178,
            1417
           ]
          ],
          [
           [
            2421,
            1202
           ],
           [
            2998,
            603
           ],
           [
            2577,
            902
           ],
           [
            1849,
            695
           ],
           [
            3178,
            1417
           ]
          ]
         ],
         "xaxis": "x2",
         "y": [
          2.5070641040802,
          2.5432255268096924,
          2.564595937728882,
          2.4502744674682617,
          2.639310836791992,
          10.918192148208618,
          11.056708335876465
         ],
         "yaxis": "y2"
        },
        {
         "alignmentgroup": "True",
         "customdata": [
          [
           5,
           0.05047425730475064,
           0,
           6,
           5,
           121,
           29,
           6,
           "Success",
           null
          ],
          [
           5,
           0.04940029670452249,
           0,
           6,
           5,
           121,
           29,
           6,
           "Success",
           null
          ],
          [
           5,
           0.0492401123046875,
           0,
           6,
           5,
           121,
           29,
           6,
           "Success",
           null
          ],
          [
           5,
           0.045417933628476896,
           0,
           6,
           5,
           121,
           29,
           6,
           "Success",
           null
          ],
          [
           5,
           0.048692366172527445,
           0,
           6,
           5,
           121,
           29,
           6,
           "Success",
           null
          ]
         ],
         "hovertemplate": "perturber_class=MinFirst<br>Success=True<br>k=5<br>weights=Equal<br>nodes=%{x}<br>Time Taken=%{y}<br>top_k=%{customdata[0]}<br>Average Add Time=%{customdata[1]}<br>Average Perturb Time=%{customdata[2]}<br>Original Distance=%{customdata[3]}<br>Number of Paths=%{customdata[4]}<br>Number of Edges=%{customdata[5]}<br>Iterations=%{customdata[6]}<br>Final Distance=%{customdata[7]}<br>Status=%{customdata[8]}<br>LP Status=%{customdata[9]}<extra></extra>",
         "legendgroup": "MinFirst, True",
         "marker": {
          "color": "#00cc96",
          "pattern": {
           "shape": ""
          }
         },
         "name": "MinFirst, True",
         "offsetgroup": "MinFirst, True",
         "orientation": "v",
         "showlegend": false,
         "textposition": "auto",
         "type": "bar",
         "x": [
          [
           [
            2671,
            964
           ],
           [
            3229,
            536
           ],
           [
            2857,
            1062
           ],
           [
            3331,
            949
           ],
           [
            2947,
            1167
           ]
          ],
          [
           [
            2671,
            964
           ],
           [
            3229,
            536
           ],
           [
            2857,
            1062
           ],
           [
            3331,
            949
           ],
           [
            2947,
            1167
           ]
          ],
          [
           [
            2671,
            964
           ],
           [
            3229,
            536
           ],
           [
            2857,
            1062
           ],
           [
            3331,
            949
           ],
           [
            2947,
            1167
           ]
          ],
          [
           [
            2671,
            964
           ],
           [
            3229,
            536
           ],
           [
            2857,
            1062
           ],
           [
            3331,
            949
           ],
           [
            2947,
            1167
           ]
          ],
          [
           [
            2671,
            964
           ],
           [
            3229,
            536
           ],
           [
            2857,
            1062
           ],
           [
            3331,
            949
           ],
           [
            2947,
            1167
           ]
          ]
         ],
         "xaxis": "x",
         "y": [
          2.8347790241241455,
          2.776299238204956,
          2.75404691696167,
          2.5460338592529297,
          2.7081069946289062
         ],
         "yaxis": "y"
        }
       ],
       "layout": {
        "annotations": [
         {
          "font": {},
          "showarrow": false,
          "text": "weights=Equal",
          "x": 0.49,
          "xanchor": "center",
          "xref": "paper",
          "y": 1,
          "yanchor": "bottom",
          "yref": "paper"
         },
         {
          "font": {},
          "showarrow": false,
          "text": "k=5",
          "textangle": 90,
          "x": 0.98,
          "xanchor": "left",
          "xref": "paper",
          "y": 0.2425,
          "yanchor": "middle",
          "yref": "paper"
         },
         {
          "font": {},
          "showarrow": false,
          "text": "k=3",
          "textangle": 90,
          "x": 0.98,
          "xanchor": "left",
          "xref": "paper",
          "y": 0.7575000000000001,
          "yanchor": "middle",
          "yref": "paper"
         }
        ],
        "barmode": "group",
        "legend": {
         "title": {
          "text": "perturber_class, Success"
         },
         "tracegroupgap": 0
        },
        "template": {
         "data": {
          "bar": [
           {
            "error_x": {
             "color": "#2a3f5f"
            },
            "error_y": {
             "color": "#2a3f5f"
            },
            "marker": {
             "line": {
              "color": "#E5ECF6",
              "width": 0.5
             },
             "pattern": {
              "fillmode": "overlay",
              "size": 10,
              "solidity": 0.2
             }
            },
            "type": "bar"
           }
          ],
          "barpolar": [
           {
            "marker": {
             "line": {
              "color": "#E5ECF6",
              "width": 0.5
             },
             "pattern": {
              "fillmode": "overlay",
              "size": 10,
              "solidity": 0.2
             }
            },
            "type": "barpolar"
           }
          ],
          "carpet": [
           {
            "aaxis": {
             "endlinecolor": "#2a3f5f",
             "gridcolor": "white",
             "linecolor": "white",
             "minorgridcolor": "white",
             "startlinecolor": "#2a3f5f"
            },
            "baxis": {
             "endlinecolor": "#2a3f5f",
             "gridcolor": "white",
             "linecolor": "white",
             "minorgridcolor": "white",
             "startlinecolor": "#2a3f5f"
            },
            "type": "carpet"
           }
          ],
          "choropleth": [
           {
            "colorbar": {
             "outlinewidth": 0,
             "ticks": ""
            },
            "type": "choropleth"
           }
          ],
          "contour": [
           {
            "colorbar": {
             "outlinewidth": 0,
             "ticks": ""
            },
            "colorscale": [
             [
              0,
              "#0d0887"
             ],
             [
              0.1111111111111111,
              "#46039f"
             ],
             [
              0.2222222222222222,
              "#7201a8"
             ],
             [
              0.3333333333333333,
              "#9c179e"
             ],
             [
              0.4444444444444444,
              "#bd3786"
             ],
             [
              0.5555555555555556,
              "#d8576b"
             ],
             [
              0.6666666666666666,
              "#ed7953"
             ],
             [
              0.7777777777777778,
              "#fb9f3a"
             ],
             [
              0.8888888888888888,
              "#fdca26"
             ],
             [
              1,
              "#f0f921"
             ]
            ],
            "type": "contour"
           }
          ],
          "contourcarpet": [
           {
            "colorbar": {
             "outlinewidth": 0,
             "ticks": ""
            },
            "type": "contourcarpet"
           }
          ],
          "heatmap": [
           {
            "colorbar": {
             "outlinewidth": 0,
             "ticks": ""
            },
            "colorscale": [
             [
              0,
              "#0d0887"
             ],
             [
              0.1111111111111111,
              "#46039f"
             ],
             [
              0.2222222222222222,
              "#7201a8"
             ],
             [
              0.3333333333333333,
              "#9c179e"
             ],
             [
              0.4444444444444444,
              "#bd3786"
             ],
             [
              0.5555555555555556,
              "#d8576b"
             ],
             [
              0.6666666666666666,
              "#ed7953"
             ],
             [
              0.7777777777777778,
              "#fb9f3a"
             ],
             [
              0.8888888888888888,
              "#fdca26"
             ],
             [
              1,
              "#f0f921"
             ]
            ],
            "type": "heatmap"
           }
          ],
          "heatmapgl": [
           {
            "colorbar": {
             "outlinewidth": 0,
             "ticks": ""
            },
            "colorscale": [
             [
              0,
              "#0d0887"
             ],
             [
              0.1111111111111111,
              "#46039f"
             ],
             [
              0.2222222222222222,
              "#7201a8"
             ],
             [
              0.3333333333333333,
              "#9c179e"
             ],
             [
              0.4444444444444444,
              "#bd3786"
             ],
             [
              0.5555555555555556,
              "#d8576b"
             ],
             [
              0.6666666666666666,
              "#ed7953"
             ],
             [
              0.7777777777777778,
              "#fb9f3a"
             ],
             [
              0.8888888888888888,
              "#fdca26"
             ],
             [
              1,
              "#f0f921"
             ]
            ],
            "type": "heatmapgl"
           }
          ],
          "histogram": [
           {
            "marker": {
             "pattern": {
              "fillmode": "overlay",
              "size": 10,
              "solidity": 0.2
             }
            },
            "type": "histogram"
           }
          ],
          "histogram2d": [
           {
            "colorbar": {
             "outlinewidth": 0,
             "ticks": ""
            },
            "colorscale": [
             [
              0,
              "#0d0887"
             ],
             [
              0.1111111111111111,
              "#46039f"
             ],
             [
              0.2222222222222222,
              "#7201a8"
             ],
             [
              0.3333333333333333,
              "#9c179e"
             ],
             [
              0.4444444444444444,
              "#bd3786"
             ],
             [
              0.5555555555555556,
              "#d8576b"
             ],
             [
              0.6666666666666666,
              "#ed7953"
             ],
             [
              0.7777777777777778,
              "#fb9f3a"
             ],
             [
              0.8888888888888888,
              "#fdca26"
             ],
             [
              1,
              "#f0f921"
             ]
            ],
            "type": "histogram2d"
           }
          ],
          "histogram2dcontour": [
           {
            "colorbar": {
             "outlinewidth": 0,
             "ticks": ""
            },
            "colorscale": [
             [
              0,
              "#0d0887"
             ],
             [
              0.1111111111111111,
              "#46039f"
             ],
             [
              0.2222222222222222,
              "#7201a8"
             ],
             [
              0.3333333333333333,
              "#9c179e"
             ],
             [
              0.4444444444444444,
              "#bd3786"
             ],
             [
              0.5555555555555556,
              "#d8576b"
             ],
             [
              0.6666666666666666,
              "#ed7953"
             ],
             [
              0.7777777777777778,
              "#fb9f3a"
             ],
             [
              0.8888888888888888,
              "#fdca26"
             ],
             [
              1,
              "#f0f921"
             ]
            ],
            "type": "histogram2dcontour"
           }
          ],
          "mesh3d": [
           {
            "colorbar": {
             "outlinewidth": 0,
             "ticks": ""
            },
            "type": "mesh3d"
           }
          ],
          "parcoords": [
           {
            "line": {
             "colorbar": {
              "outlinewidth": 0,
              "ticks": ""
             }
            },
            "type": "parcoords"
           }
          ],
          "pie": [
           {
            "automargin": true,
            "type": "pie"
           }
          ],
          "scatter": [
           {
            "fillpattern": {
             "fillmode": "overlay",
             "size": 10,
             "solidity": 0.2
            },
            "type": "scatter"
           }
          ],
          "scatter3d": [
           {
            "line": {
             "colorbar": {
              "outlinewidth": 0,
              "ticks": ""
             }
            },
            "marker": {
             "colorbar": {
              "outlinewidth": 0,
              "ticks": ""
             }
            },
            "type": "scatter3d"
           }
          ],
          "scattercarpet": [
           {
            "marker": {
             "colorbar": {
              "outlinewidth": 0,
              "ticks": ""
             }
            },
            "type": "scattercarpet"
           }
          ],
          "scattergeo": [
           {
            "marker": {
             "colorbar": {
              "outlinewidth": 0,
              "ticks": ""
             }
            },
            "type": "scattergeo"
           }
          ],
          "scattergl": [
           {
            "marker": {
             "colorbar": {
              "outlinewidth": 0,
              "ticks": ""
             }
            },
            "type": "scattergl"
           }
          ],
          "scattermapbox": [
           {
            "marker": {
             "colorbar": {
              "outlinewidth": 0,
              "ticks": ""
             }
            },
            "type": "scattermapbox"
           }
          ],
          "scatterpolar": [
           {
            "marker": {
             "colorbar": {
              "outlinewidth": 0,
              "ticks": ""
             }
            },
            "type": "scatterpolar"
           }
          ],
          "scatterpolargl": [
           {
            "marker": {
             "colorbar": {
              "outlinewidth": 0,
              "ticks": ""
             }
            },
            "type": "scatterpolargl"
           }
          ],
          "scatterternary": [
           {
            "marker": {
             "colorbar": {
              "outlinewidth": 0,
              "ticks": ""
             }
            },
            "type": "scatterternary"
           }
          ],
          "surface": [
           {
            "colorbar": {
             "outlinewidth": 0,
             "ticks": ""
            },
            "colorscale": [
             [
              0,
              "#0d0887"
             ],
             [
              0.1111111111111111,
              "#46039f"
             ],
             [
              0.2222222222222222,
              "#7201a8"
             ],
             [
              0.3333333333333333,
              "#9c179e"
             ],
             [
              0.4444444444444444,
              "#bd3786"
             ],
             [
              0.5555555555555556,
              "#d8576b"
             ],
             [
              0.6666666666666666,
              "#ed7953"
             ],
             [
              0.7777777777777778,
              "#fb9f3a"
             ],
             [
              0.8888888888888888,
              "#fdca26"
             ],
             [
              1,
              "#f0f921"
             ]
            ],
            "type": "surface"
           }
          ],
          "table": [
           {
            "cells": {
             "fill": {
              "color": "#EBF0F8"
             },
             "line": {
              "color": "white"
             }
            },
            "header": {
             "fill": {
              "color": "#C8D4E3"
             },
             "line": {
              "color": "white"
             }
            },
            "type": "table"
           }
          ]
         },
         "layout": {
          "annotationdefaults": {
           "arrowcolor": "#2a3f5f",
           "arrowhead": 0,
           "arrowwidth": 1
          },
          "autotypenumbers": "strict",
          "coloraxis": {
           "colorbar": {
            "outlinewidth": 0,
            "ticks": ""
           }
          },
          "colorscale": {
           "diverging": [
            [
             0,
             "#8e0152"
            ],
            [
             0.1,
             "#c51b7d"
            ],
            [
             0.2,
             "#de77ae"
            ],
            [
             0.3,
             "#f1b6da"
            ],
            [
             0.4,
             "#fde0ef"
            ],
            [
             0.5,
             "#f7f7f7"
            ],
            [
             0.6,
             "#e6f5d0"
            ],
            [
             0.7,
             "#b8e186"
            ],
            [
             0.8,
             "#7fbc41"
            ],
            [
             0.9,
             "#4d9221"
            ],
            [
             1,
             "#276419"
            ]
           ],
           "sequential": [
            [
             0,
             "#0d0887"
            ],
            [
             0.1111111111111111,
             "#46039f"
            ],
            [
             0.2222222222222222,
             "#7201a8"
            ],
            [
             0.3333333333333333,
             "#9c179e"
            ],
            [
             0.4444444444444444,
             "#bd3786"
            ],
            [
             0.5555555555555556,
             "#d8576b"
            ],
            [
             0.6666666666666666,
             "#ed7953"
            ],
            [
             0.7777777777777778,
             "#fb9f3a"
            ],
            [
             0.8888888888888888,
             "#fdca26"
            ],
            [
             1,
             "#f0f921"
            ]
           ],
           "sequentialminus": [
            [
             0,
             "#0d0887"
            ],
            [
             0.1111111111111111,
             "#46039f"
            ],
            [
             0.2222222222222222,
             "#7201a8"
            ],
            [
             0.3333333333333333,
             "#9c179e"
            ],
            [
             0.4444444444444444,
             "#bd3786"
            ],
            [
             0.5555555555555556,
             "#d8576b"
            ],
            [
             0.6666666666666666,
             "#ed7953"
            ],
            [
             0.7777777777777778,
             "#fb9f3a"
            ],
            [
             0.8888888888888888,
             "#fdca26"
            ],
            [
             1,
             "#f0f921"
            ]
           ]
          },
          "colorway": [
           "#636efa",
           "#EF553B",
           "#00cc96",
           "#ab63fa",
           "#FFA15A",
           "#19d3f3",
           "#FF6692",
           "#B6E880",
           "#FF97FF",
           "#FECB52"
          ],
          "font": {
           "color": "#2a3f5f"
          },
          "geo": {
           "bgcolor": "white",
           "lakecolor": "white",
           "landcolor": "#E5ECF6",
           "showlakes": true,
           "showland": true,
           "subunitcolor": "white"
          },
          "hoverlabel": {
           "align": "left"
          },
          "hovermode": "closest",
          "mapbox": {
           "style": "light"
          },
          "paper_bgcolor": "white",
          "plot_bgcolor": "#E5ECF6",
          "polar": {
           "angularaxis": {
            "gridcolor": "white",
            "linecolor": "white",
            "ticks": ""
           },
           "bgcolor": "#E5ECF6",
           "radialaxis": {
            "gridcolor": "white",
            "linecolor": "white",
            "ticks": ""
           }
          },
          "scene": {
           "xaxis": {
            "backgroundcolor": "#E5ECF6",
            "gridcolor": "white",
            "gridwidth": 2,
            "linecolor": "white",
            "showbackground": true,
            "ticks": "",
            "zerolinecolor": "white"
           },
           "yaxis": {
            "backgroundcolor": "#E5ECF6",
            "gridcolor": "white",
            "gridwidth": 2,
            "linecolor": "white",
            "showbackground": true,
            "ticks": "",
            "zerolinecolor": "white"
           },
           "zaxis": {
            "backgroundcolor": "#E5ECF6",
            "gridcolor": "white",
            "gridwidth": 2,
            "linecolor": "white",
            "showbackground": true,
            "ticks": "",
            "zerolinecolor": "white"
           }
          },
          "shapedefaults": {
           "line": {
            "color": "#2a3f5f"
           }
          },
          "ternary": {
           "aaxis": {
            "gridcolor": "white",
            "linecolor": "white",
            "ticks": ""
           },
           "baxis": {
            "gridcolor": "white",
            "linecolor": "white",
            "ticks": ""
           },
           "bgcolor": "#E5ECF6",
           "caxis": {
            "gridcolor": "white",
            "linecolor": "white",
            "ticks": ""
           }
          },
          "title": {
           "x": 0.05
          },
          "xaxis": {
           "automargin": true,
           "gridcolor": "white",
           "linecolor": "white",
           "ticks": "",
           "title": {
            "standoff": 15
           },
           "zerolinecolor": "white",
           "zerolinewidth": 2
          },
          "yaxis": {
           "automargin": true,
           "gridcolor": "white",
           "linecolor": "white",
           "ticks": "",
           "title": {
            "standoff": 15
           },
           "zerolinecolor": "white",
           "zerolinewidth": 2
          }
         }
        },
        "title": {
         "text": "Multiple Pairs Results"
        },
        "xaxis": {
         "anchor": "y",
         "domain": [
          0,
          0.98
         ],
         "title": {
          "text": "nodes"
         },
         "visible": false
        },
        "xaxis2": {
         "anchor": "y2",
         "domain": [
          0,
          0.98
         ],
         "showticklabels": false,
         "visible": false
        },
        "yaxis": {
         "anchor": "x",
         "domain": [
          0,
          0.485
         ],
         "title": {
          "text": "Time Taken"
         }
        },
        "yaxis2": {
         "anchor": "x2",
         "domain": [
          0.515,
          1
         ],
         "matches": "y",
         "title": {
          "text": "Time Taken"
         }
        }
       }
      }
     },
     "metadata": {},
     "output_type": "display_data"
    }
   ],
   "source": [
    "\n",
    "for experiment_type in [\"Single\", \"Sets\", \"Multiple Pairs\"]:\n",
    "    a = df[df[\"experiment_type\"] == experiment_type]\n",
    "    if a.empty: continue\n",
    "    # a=pd.melt(df,id_vars=['race'],var_name='gender', value_name='value')\n",
    "    fig = px.bar(a, \n",
    "                title=f\"{experiment_type} Results\",\n",
    "                x=\"nodes\", \n",
    "                y=\"Time Taken\", \n",
    "                barmode=\"group\", \n",
    "                color=\"perturber_class\", \n",
    "                facet_col=\"weights\", \n",
    "                facet_row=\"k\", \n",
    "                pattern_shape=\"Success\", \n",
    "                # height=1000,\n",
    "                hover_data=[\"top_k\", \"Average Add Time\", \"Average Perturb Time\", \"Original Distance\", \"Number of Paths\", \"Number of Edges\", \"Iterations\", 'Final Distance',\"Status\", \"LP Status\"],\n",
    "                category_orders={\"experiment_type\": [\"Single\", \"Sets\", \"Multiple Pairs\"], \n",
    "                                \"Status\": [\"Success\"]+[s for s in df[\"Status\"].unique() if s != \"Success\"],\n",
    "                                \"Success\": [True, False]}\n",
    "                )\n",
    "    fig.update_xaxes(visible=False, matches=None)\n",
    "    # fig.update_xaxes(visible=True)\n",
    "    fig.show()"
   ]
  },
  {
   "cell_type": "code",
   "execution_count": 464,
   "metadata": {},
   "outputs": [
    {
     "data": {
      "application/vnd.plotly.v1+json": {
       "config": {
        "plotlyServerURL": "https://plot.ly"
       },
       "data": [
        {
         "alignmentgroup": "True",
         "customdata": [
          [
           5,
           0.06752016146977742,
           0.0052505069308810765,
           6,
           5,
           220,
           36,
           6,
           "Success"
          ],
          [
           5,
           0.07107034410749163,
           0.0029571260724748885,
           6,
           5,
           214,
           35,
           6,
           "Success"
          ],
          [
           5,
           0.07571770747502644,
           0.0025103025966220433,
           6,
           5,
           220,
           36,
           6,
           "Success"
          ],
          [
           5,
           0.07856834597057766,
           0.004123846689860026,
           6,
           5,
           220,
           36,
           6,
           "Success"
          ],
          [
           5,
           0.07795180214775933,
           0.00425597694185045,
           6,
           5,
           220,
           36,
           6,
           "Success"
          ],
          [
           5,
           0.07593201228550502,
           0.0022982937949044364,
           6,
           5,
           214,
           35,
           6,
           "Success"
          ],
          [
           5,
           0.07490242852105035,
           0.002885315153333876,
           6,
           5,
           220,
           36,
           6,
           "Success"
          ],
          [
           5,
           0.0786564826965332,
           0.0034028870718819755,
           6,
           5,
           214,
           35,
           6,
           "Success"
          ],
          [
           5,
           0.08396047864641462,
           0.0032378128596714565,
           6,
           5,
           214,
           35,
           6,
           "Success"
          ],
          [
           5,
           0.08384631020682198,
           0.004066235678536551,
           6,
           5,
           214,
           35,
           6,
           "Success"
          ],
          [
           5,
           0.07155991524688957,
           0.017675741698390753,
           6,
           5,
           293,
           129,
           6,
           "Success"
          ],
          [
           5,
           0.07509751837382946,
           0.017307349877764087,
           6,
           5,
           293,
           129,
           6,
           "Success"
          ],
          [
           5,
           0.07454409710196562,
           0.016655735267225164,
           6,
           5,
           293,
           129,
           6,
           "Success"
          ],
          [
           5,
           0.07446202011995537,
           0.017304492551226947,
           6,
           5,
           293,
           129,
           6,
           "Success"
          ],
          [
           5,
           0.07564402181048725,
           0.017011821732040522,
           6,
           5,
           293,
           129,
           6,
           "Success"
          ],
          [
           5,
           0.07357706914421257,
           0.044432467176714015,
           6,
           5,
           302,
           131,
           6,
           "Success"
          ],
          [
           5,
           0.06856991134527075,
           0.045093680156096244,
           6,
           5,
           302,
           131,
           6,
           "Success"
          ],
          [
           5,
           0.06897200700890926,
           0.04773613514791008,
           6,
           5,
           302,
           131,
           6,
           "Success"
          ],
          [
           5,
           0.0699441505752447,
           0.04724368794273784,
           6,
           5,
           302,
           131,
           6,
           "Success"
          ],
          [
           5,
           0.07072029950964542,
           0.047920922286637864,
           6,
           5,
           302,
           131,
           6,
           "Success"
          ]
         ],
         "hovertemplate": "perturber_class=PathAttack<br>Success=True<br>weights=Equal<br>nodes=%{x}<br>Total Perturbations=%{y}<br>top_k=%{customdata[0]}<br>Average Add Time=%{customdata[1]}<br>Average Perturb Time=%{customdata[2]}<br>Original Distance=%{customdata[3]}<br>Number of Paths=%{customdata[4]}<br>Number of Edges=%{customdata[5]}<br>Iterations=%{customdata[6]}<br>Final Distance=%{customdata[7]}<br>Status=%{customdata[8]}<extra></extra>",
         "legendgroup": "PathAttack, True",
         "marker": {
          "color": "#636efa",
          "pattern": {
           "shape": ""
          }
         },
         "name": "PathAttack, True",
         "offsetgroup": "PathAttack, True",
         "orientation": "v",
         "showlegend": true,
         "textposition": "auto",
         "type": "bar",
         "x": [
          [
           [
            2671,
            964
           ],
           [
            3229,
            536
           ],
           [
            2857,
            1062
           ],
           [
            3331,
            949
           ],
           [
            2947,
            1167
           ]
          ],
          [
           [
            2671,
            964
           ],
           [
            3229,
            536
           ],
           [
            2857,
            1062
           ],
           [
            3331,
            949
           ],
           [
            2947,
            1167
           ]
          ],
          [
           [
            2671,
            964
           ],
           [
            3229,
            536
           ],
           [
            2857,
            1062
           ],
           [
            3331,
            949
           ],
           [
            2947,
            1167
           ]
          ],
          [
           [
            2671,
            964
           ],
           [
            3229,
            536
           ],
           [
            2857,
            1062
           ],
           [
            3331,
            949
           ],
           [
            2947,
            1167
           ]
          ],
          [
           [
            2671,
            964
           ],
           [
            3229,
            536
           ],
           [
            2857,
            1062
           ],
           [
            3331,
            949
           ],
           [
            2947,
            1167
           ]
          ],
          [
           [
            2671,
            964
           ],
           [
            3229,
            536
           ],
           [
            2857,
            1062
           ],
           [
            3331,
            949
           ],
           [
            2947,
            1167
           ]
          ],
          [
           [
            2671,
            964
           ],
           [
            3229,
            536
           ],
           [
            2857,
            1062
           ],
           [
            3331,
            949
           ],
           [
            2947,
            1167
           ]
          ],
          [
           [
            2671,
            964
           ],
           [
            3229,
            536
           ],
           [
            2857,
            1062
           ],
           [
            3331,
            949
           ],
           [
            2947,
            1167
           ]
          ],
          [
           [
            2671,
            964
           ],
           [
            3229,
            536
           ],
           [
            2857,
            1062
           ],
           [
            3331,
            949
           ],
           [
            2947,
            1167
           ]
          ],
          [
           [
            2671,
            964
           ],
           [
            3229,
            536
           ],
           [
            2857,
            1062
           ],
           [
            3331,
            949
           ],
           [
            2947,
            1167
           ]
          ],
          [
           [
            2421,
            1202
           ],
           [
            2998,
            603
           ],
           [
            2577,
            902
           ],
           [
            1849,
            695
           ],
           [
            3178,
            1417
           ]
          ],
          [
           [
            2421,
            1202
           ],
           [
            2998,
            603
           ],
           [
            2577,
            902
           ],
           [
            1849,
            695
           ],
           [
            3178,
            1417
           ]
          ],
          [
           [
            2421,
            1202
           ],
           [
            2998,
            603
           ],
           [
            2577,
            902
           ],
           [
            1849,
            695
           ],
           [
            3178,
            1417
           ]
          ],
          [
           [
            2421,
            1202
           ],
           [
            2998,
            603
           ],
           [
            2577,
            902
           ],
           [
            1849,
            695
           ],
           [
            3178,
            1417
           ]
          ],
          [
           [
            2421,
            1202
           ],
           [
            2998,
            603
           ],
           [
            2577,
            902
           ],
           [
            1849,
            695
           ],
           [
            3178,
            1417
           ]
          ],
          [
           [
            2421,
            1202
           ],
           [
            2998,
            603
           ],
           [
            2577,
            902
           ],
           [
            1849,
            695
           ],
           [
            3178,
            1417
           ]
          ],
          [
           [
            2421,
            1202
           ],
           [
            2998,
            603
           ],
           [
            2577,
            902
           ],
           [
            1849,
            695
           ],
           [
            3178,
            1417
           ]
          ],
          [
           [
            2421,
            1202
           ],
           [
            2998,
            603
           ],
           [
            2577,
            902
           ],
           [
            1849,
            695
           ],
           [
            3178,
            1417
           ]
          ],
          [
           [
            2421,
            1202
           ],
           [
            2998,
            603
           ],
           [
            2577,
            902
           ],
           [
            1849,
            695
           ],
           [
            3178,
            1417
           ]
          ],
          [
           [
            2421,
            1202
           ],
           [
            2998,
            603
           ],
           [
            2577,
            902
           ],
           [
            1849,
            695
           ],
           [
            3178,
            1417
           ]
          ]
         ],
         "xaxis": "x",
         "y": [
          179,
          365,
          179,
          179,
          179,
          365,
          179,
          365,
          365,
          365,
          191,
          191,
          191,
          191,
          191,
          421,
          421,
          421,
          421,
          421
         ],
         "yaxis": "y"
        },
        {
         "alignmentgroup": "True",
         "customdata": [
          [
           5,
           0.04606436038839406,
           0,
           6,
           5,
           121,
           29,
           6,
           "Success"
          ],
          [
           5,
           0.049012225249717975,
           0,
           6,
           5,
           121,
           29,
           6,
           "Success"
          ],
          [
           5,
           0.050241947174072266,
           0,
           6,
           5,
           121,
           29,
           6,
           "Success"
          ],
          [
           5,
           0.052633301965121566,
           0,
           6,
           5,
           121,
           29,
           6,
           "Success"
          ],
          [
           5,
           0.03777067414645491,
           0,
           6,
           5,
           121,
           29,
           6,
           "Success"
          ],
          [
           5,
           0.04670126684780779,
           0,
           6,
           5,
           121,
           29,
           6,
           "Success"
          ],
          [
           5,
           0.047202134954518284,
           0,
           6,
           5,
           121,
           29,
           6,
           "Success"
          ],
          [
           5,
           0.047033022189962456,
           0,
           6,
           5,
           121,
           29,
           6,
           "Success"
          ],
          [
           5,
           0.04963994026184082,
           0,
           6,
           5,
           121,
           29,
           6,
           "Success"
          ],
          [
           5,
           0.046389966175473966,
           0,
           6,
           5,
           121,
           29,
           6,
           "Success"
          ],
          [
           5,
           0.07392755368860757,
           0.0000245629287347561,
           6,
           5,
           283,
           82,
           6,
           "Success"
          ],
          [
           5,
           0.07581904748590981,
           0.000012272741736435309,
           6,
           5,
           283,
           82,
           6,
           "Success"
          ],
          [
           5,
           0.07857970493595774,
           0,
           6,
           5,
           283,
           82,
           6,
           "Success"
          ],
          [
           5,
           0.07604355637620135,
           0.000024350678048482757,
           6,
           5,
           283,
           82,
           6,
           "Success"
          ],
          [
           5,
           0.076478676098149,
           0,
           6,
           5,
           283,
           82,
           6,
           "Success"
          ],
          [
           5,
           0.07549981663866741,
           0.000012217498407131288,
           6,
           5,
           283,
           82,
           6,
           "Success"
          ],
          [
           5,
           0.07510824029038592,
           0,
           6,
           5,
           283,
           82,
           6,
           "Success"
          ],
          [
           5,
           0.07838508559436333,
           0,
           6,
           5,
           283,
           82,
           6,
           "Success"
          ],
          [
           5,
           0.07903180471280725,
           0,
           6,
           5,
           283,
           82,
           6,
           "Success"
          ],
          [
           5,
           0.07729395715201773,
           0,
           6,
           5,
           283,
           82,
           6,
           "Success"
          ]
         ],
         "hovertemplate": "perturber_class=GreedyFirst<br>Success=True<br>weights=Equal<br>nodes=%{x}<br>Total Perturbations=%{y}<br>top_k=%{customdata[0]}<br>Average Add Time=%{customdata[1]}<br>Average Perturb Time=%{customdata[2]}<br>Original Distance=%{customdata[3]}<br>Number of Paths=%{customdata[4]}<br>Number of Edges=%{customdata[5]}<br>Iterations=%{customdata[6]}<br>Final Distance=%{customdata[7]}<br>Status=%{customdata[8]}<extra></extra>",
         "legendgroup": "GreedyFirst, True",
         "marker": {
          "color": "#EF553B",
          "pattern": {
           "shape": ""
          }
         },
         "name": "GreedyFirst, True",
         "offsetgroup": "GreedyFirst, True",
         "orientation": "v",
         "showlegend": true,
         "textposition": "auto",
         "type": "bar",
         "x": [
          [
           [
            2671,
            964
           ],
           [
            3229,
            536
           ],
           [
            2857,
            1062
           ],
           [
            3331,
            949
           ],
           [
            2947,
            1167
           ]
          ],
          [
           [
            2671,
            964
           ],
           [
            3229,
            536
           ],
           [
            2857,
            1062
           ],
           [
            3331,
            949
           ],
           [
            2947,
            1167
           ]
          ],
          [
           [
            2671,
            964
           ],
           [
            3229,
            536
           ],
           [
            2857,
            1062
           ],
           [
            3331,
            949
           ],
           [
            2947,
            1167
           ]
          ],
          [
           [
            2671,
            964
           ],
           [
            3229,
            536
           ],
           [
            2857,
            1062
           ],
           [
            3331,
            949
           ],
           [
            2947,
            1167
           ]
          ],
          [
           [
            2671,
            964
           ],
           [
            3229,
            536
           ],
           [
            2857,
            1062
           ],
           [
            3331,
            949
           ],
           [
            2947,
            1167
           ]
          ],
          [
           [
            2671,
            964
           ],
           [
            3229,
            536
           ],
           [
            2857,
            1062
           ],
           [
            3331,
            949
           ],
           [
            2947,
            1167
           ]
          ],
          [
           [
            2671,
            964
           ],
           [
            3229,
            536
           ],
           [
            2857,
            1062
           ],
           [
            3331,
            949
           ],
           [
            2947,
            1167
           ]
          ],
          [
           [
            2671,
            964
           ],
           [
            3229,
            536
           ],
           [
            2857,
            1062
           ],
           [
            3331,
            949
           ],
           [
            2947,
            1167
           ]
          ],
          [
           [
            2671,
            964
           ],
           [
            3229,
            536
           ],
           [
            2857,
            1062
           ],
           [
            3331,
            949
           ],
           [
            2947,
            1167
           ]
          ],
          [
           [
            2671,
            964
           ],
           [
            3229,
            536
           ],
           [
            2857,
            1062
           ],
           [
            3331,
            949
           ],
           [
            2947,
            1167
           ]
          ],
          [
           [
            2421,
            1202
           ],
           [
            2998,
            603
           ],
           [
            2577,
            902
           ],
           [
            1849,
            695
           ],
           [
            3178,
            1417
           ]
          ],
          [
           [
            2421,
            1202
           ],
           [
            2998,
            603
           ],
           [
            2577,
            902
           ],
           [
            1849,
            695
           ],
           [
            3178,
            1417
           ]
          ],
          [
           [
            2421,
            1202
           ],
           [
            2998,
            603
           ],
           [
            2577,
            902
           ],
           [
            1849,
            695
           ],
           [
            3178,
            1417
           ]
          ],
          [
           [
            2421,
            1202
           ],
           [
            2998,
            603
           ],
           [
            2577,
            902
           ],
           [
            1849,
            695
           ],
           [
            3178,
            1417
           ]
          ],
          [
           [
            2421,
            1202
           ],
           [
            2998,
            603
           ],
           [
            2577,
            902
           ],
           [
            1849,
            695
           ],
           [
            3178,
            1417
           ]
          ],
          [
           [
            2421,
            1202
           ],
           [
            2998,
            603
           ],
           [
            2577,
            902
           ],
           [
            1849,
            695
           ],
           [
            3178,
            1417
           ]
          ],
          [
           [
            2421,
            1202
           ],
           [
            2998,
            603
           ],
           [
            2577,
            902
           ],
           [
            1849,
            695
           ],
           [
            3178,
            1417
           ]
          ],
          [
           [
            2421,
            1202
           ],
           [
            2998,
            603
           ],
           [
            2577,
            902
           ],
           [
            1849,
            695
           ],
           [
            3178,
            1417
           ]
          ],
          [
           [
            2421,
            1202
           ],
           [
            2998,
            603
           ],
           [
            2577,
            902
           ],
           [
            1849,
            695
           ],
           [
            3178,
            1417
           ]
          ],
          [
           [
            2421,
            1202
           ],
           [
            2998,
            603
           ],
           [
            2577,
            902
           ],
           [
            1849,
            695
           ],
           [
            3178,
            1417
           ]
          ]
         ],
         "xaxis": "x",
         "y": [
          557.6000000000005,
          557.6000000000005,
          557.6000000000005,
          557.6000000000005,
          1147.6000000000001,
          557.6000000000005,
          1147.6000000000001,
          1147.6000000000001,
          1147.6000000000001,
          1147.6000000000001,
          1600.8999999999971,
          1600.8999999999971,
          1600.8999999999971,
          1600.8999999999971,
          1600.8999999999971,
          3288.8999999999933,
          3288.8999999999933,
          3288.8999999999933,
          3288.8999999999933,
          3288.8999999999933
         ],
         "yaxis": "y"
        },
        {
         "alignmentgroup": "True",
         "customdata": [
          [
           5,
           0.04573407666436557,
           0,
           6,
           5,
           121,
           29,
           6,
           "Success"
          ],
          [
           5,
           0.046136708095155916,
           0,
           6,
           5,
           121,
           29,
           6,
           "Success"
          ],
          [
           5,
           0.04416794612489898,
           0,
           6,
           5,
           121,
           29,
           6,
           "Success"
          ],
          [
           5,
           0.04351600285234122,
           0,
           6,
           5,
           121,
           29,
           6,
           "Success"
          ],
          [
           5,
           0.04693666819868417,
           0,
           6,
           5,
           121,
           29,
           6,
           "Success"
          ],
          [
           5,
           0.05047425730475064,
           0,
           6,
           5,
           121,
           29,
           6,
           "Success"
          ],
          [
           5,
           0.04940029670452249,
           0,
           6,
           5,
           121,
           29,
           6,
           "Success"
          ],
          [
           5,
           0.0492401123046875,
           0,
           6,
           5,
           121,
           29,
           6,
           "Success"
          ],
          [
           5,
           0.045417933628476896,
           0,
           6,
           5,
           121,
           29,
           6,
           "Success"
          ],
          [
           5,
           0.048692366172527445,
           0,
           6,
           5,
           121,
           29,
           6,
           "Success"
          ],
          [
           5,
           0.07789521101044446,
           0,
           6,
           5,
           283,
           82,
           6,
           "Success"
          ],
          [
           5,
           0.07964778527980898,
           0.000012208775776188549,
           6,
           5,
           283,
           82,
           6,
           "Success"
          ]
         ],
         "hovertemplate": "perturber_class=MinFirst<br>Success=True<br>weights=Equal<br>nodes=%{x}<br>Total Perturbations=%{y}<br>top_k=%{customdata[0]}<br>Average Add Time=%{customdata[1]}<br>Average Perturb Time=%{customdata[2]}<br>Original Distance=%{customdata[3]}<br>Number of Paths=%{customdata[4]}<br>Number of Edges=%{customdata[5]}<br>Iterations=%{customdata[6]}<br>Final Distance=%{customdata[7]}<br>Status=%{customdata[8]}<extra></extra>",
         "legendgroup": "MinFirst, True",
         "marker": {
          "color": "#00cc96",
          "pattern": {
           "shape": ""
          }
         },
         "name": "MinFirst, True",
         "offsetgroup": "MinFirst, True",
         "orientation": "v",
         "showlegend": true,
         "textposition": "auto",
         "type": "bar",
         "x": [
          [
           [
            2671,
            964
           ],
           [
            3229,
            536
           ],
           [
            2857,
            1062
           ],
           [
            3331,
            949
           ],
           [
            2947,
            1167
           ]
          ],
          [
           [
            2671,
            964
           ],
           [
            3229,
            536
           ],
           [
            2857,
            1062
           ],
           [
            3331,
            949
           ],
           [
            2947,
            1167
           ]
          ],
          [
           [
            2671,
            964
           ],
           [
            3229,
            536
           ],
           [
            2857,
            1062
           ],
           [
            3331,
            949
           ],
           [
            2947,
            1167
           ]
          ],
          [
           [
            2671,
            964
           ],
           [
            3229,
            536
           ],
           [
            2857,
            1062
           ],
           [
            3331,
            949
           ],
           [
            2947,
            1167
           ]
          ],
          [
           [
            2671,
            964
           ],
           [
            3229,
            536
           ],
           [
            2857,
            1062
           ],
           [
            3331,
            949
           ],
           [
            2947,
            1167
           ]
          ],
          [
           [
            2671,
            964
           ],
           [
            3229,
            536
           ],
           [
            2857,
            1062
           ],
           [
            3331,
            949
           ],
           [
            2947,
            1167
           ]
          ],
          [
           [
            2671,
            964
           ],
           [
            3229,
            536
           ],
           [
            2857,
            1062
           ],
           [
            3331,
            949
           ],
           [
            2947,
            1167
           ]
          ],
          [
           [
            2671,
            964
           ],
           [
            3229,
            536
           ],
           [
            2857,
            1062
           ],
           [
            3331,
            949
           ],
           [
            2947,
            1167
           ]
          ],
          [
           [
            2671,
            964
           ],
           [
            3229,
            536
           ],
           [
            2857,
            1062
           ],
           [
            3331,
            949
           ],
           [
            2947,
            1167
           ]
          ],
          [
           [
            2671,
            964
           ],
           [
            3229,
            536
           ],
           [
            2857,
            1062
           ],
           [
            3331,
            949
           ],
           [
            2947,
            1167
           ]
          ],
          [
           [
            2421,
            1202
           ],
           [
            2998,
            603
           ],
           [
            2577,
            902
           ],
           [
            1849,
            695
           ],
           [
            3178,
            1417
           ]
          ],
          [
           [
            2421,
            1202
           ],
           [
            2998,
            603
           ],
           [
            2577,
            902
           ],
           [
            1849,
            695
           ],
           [
            3178,
            1417
           ]
          ]
         ],
         "xaxis": "x",
         "y": [
          557.6000000000005,
          557.6000000000005,
          557.6000000000005,
          557.6000000000005,
          557.6000000000005,
          1147.6000000000001,
          1147.6000000000001,
          1147.6000000000001,
          1147.6000000000001,
          1147.6000000000001,
          1600.8999999999971,
          1600.8999999999971
         ],
         "yaxis": "y"
        }
       ],
       "layout": {
        "annotations": [
         {
          "font": {},
          "showarrow": false,
          "text": "weights=Equal",
          "x": 0.5,
          "xanchor": "center",
          "xref": "paper",
          "y": 1,
          "yanchor": "bottom",
          "yref": "paper"
         }
        ],
        "barmode": "group",
        "legend": {
         "title": {
          "text": "perturber_class, Success"
         },
         "tracegroupgap": 0
        },
        "template": {
         "data": {
          "bar": [
           {
            "error_x": {
             "color": "#2a3f5f"
            },
            "error_y": {
             "color": "#2a3f5f"
            },
            "marker": {
             "line": {
              "color": "#E5ECF6",
              "width": 0.5
             },
             "pattern": {
              "fillmode": "overlay",
              "size": 10,
              "solidity": 0.2
             }
            },
            "type": "bar"
           }
          ],
          "barpolar": [
           {
            "marker": {
             "line": {
              "color": "#E5ECF6",
              "width": 0.5
             },
             "pattern": {
              "fillmode": "overlay",
              "size": 10,
              "solidity": 0.2
             }
            },
            "type": "barpolar"
           }
          ],
          "carpet": [
           {
            "aaxis": {
             "endlinecolor": "#2a3f5f",
             "gridcolor": "white",
             "linecolor": "white",
             "minorgridcolor": "white",
             "startlinecolor": "#2a3f5f"
            },
            "baxis": {
             "endlinecolor": "#2a3f5f",
             "gridcolor": "white",
             "linecolor": "white",
             "minorgridcolor": "white",
             "startlinecolor": "#2a3f5f"
            },
            "type": "carpet"
           }
          ],
          "choropleth": [
           {
            "colorbar": {
             "outlinewidth": 0,
             "ticks": ""
            },
            "type": "choropleth"
           }
          ],
          "contour": [
           {
            "colorbar": {
             "outlinewidth": 0,
             "ticks": ""
            },
            "colorscale": [
             [
              0,
              "#0d0887"
             ],
             [
              0.1111111111111111,
              "#46039f"
             ],
             [
              0.2222222222222222,
              "#7201a8"
             ],
             [
              0.3333333333333333,
              "#9c179e"
             ],
             [
              0.4444444444444444,
              "#bd3786"
             ],
             [
              0.5555555555555556,
              "#d8576b"
             ],
             [
              0.6666666666666666,
              "#ed7953"
             ],
             [
              0.7777777777777778,
              "#fb9f3a"
             ],
             [
              0.8888888888888888,
              "#fdca26"
             ],
             [
              1,
              "#f0f921"
             ]
            ],
            "type": "contour"
           }
          ],
          "contourcarpet": [
           {
            "colorbar": {
             "outlinewidth": 0,
             "ticks": ""
            },
            "type": "contourcarpet"
           }
          ],
          "heatmap": [
           {
            "colorbar": {
             "outlinewidth": 0,
             "ticks": ""
            },
            "colorscale": [
             [
              0,
              "#0d0887"
             ],
             [
              0.1111111111111111,
              "#46039f"
             ],
             [
              0.2222222222222222,
              "#7201a8"
             ],
             [
              0.3333333333333333,
              "#9c179e"
             ],
             [
              0.4444444444444444,
              "#bd3786"
             ],
             [
              0.5555555555555556,
              "#d8576b"
             ],
             [
              0.6666666666666666,
              "#ed7953"
             ],
             [
              0.7777777777777778,
              "#fb9f3a"
             ],
             [
              0.8888888888888888,
              "#fdca26"
             ],
             [
              1,
              "#f0f921"
             ]
            ],
            "type": "heatmap"
           }
          ],
          "heatmapgl": [
           {
            "colorbar": {
             "outlinewidth": 0,
             "ticks": ""
            },
            "colorscale": [
             [
              0,
              "#0d0887"
             ],
             [
              0.1111111111111111,
              "#46039f"
             ],
             [
              0.2222222222222222,
              "#7201a8"
             ],
             [
              0.3333333333333333,
              "#9c179e"
             ],
             [
              0.4444444444444444,
              "#bd3786"
             ],
             [
              0.5555555555555556,
              "#d8576b"
             ],
             [
              0.6666666666666666,
              "#ed7953"
             ],
             [
              0.7777777777777778,
              "#fb9f3a"
             ],
             [
              0.8888888888888888,
              "#fdca26"
             ],
             [
              1,
              "#f0f921"
             ]
            ],
            "type": "heatmapgl"
           }
          ],
          "histogram": [
           {
            "marker": {
             "pattern": {
              "fillmode": "overlay",
              "size": 10,
              "solidity": 0.2
             }
            },
            "type": "histogram"
           }
          ],
          "histogram2d": [
           {
            "colorbar": {
             "outlinewidth": 0,
             "ticks": ""
            },
            "colorscale": [
             [
              0,
              "#0d0887"
             ],
             [
              0.1111111111111111,
              "#46039f"
             ],
             [
              0.2222222222222222,
              "#7201a8"
             ],
             [
              0.3333333333333333,
              "#9c179e"
             ],
             [
              0.4444444444444444,
              "#bd3786"
             ],
             [
              0.5555555555555556,
              "#d8576b"
             ],
             [
              0.6666666666666666,
              "#ed7953"
             ],
             [
              0.7777777777777778,
              "#fb9f3a"
             ],
             [
              0.8888888888888888,
              "#fdca26"
             ],
             [
              1,
              "#f0f921"
             ]
            ],
            "type": "histogram2d"
           }
          ],
          "histogram2dcontour": [
           {
            "colorbar": {
             "outlinewidth": 0,
             "ticks": ""
            },
            "colorscale": [
             [
              0,
              "#0d0887"
             ],
             [
              0.1111111111111111,
              "#46039f"
             ],
             [
              0.2222222222222222,
              "#7201a8"
             ],
             [
              0.3333333333333333,
              "#9c179e"
             ],
             [
              0.4444444444444444,
              "#bd3786"
             ],
             [
              0.5555555555555556,
              "#d8576b"
             ],
             [
              0.6666666666666666,
              "#ed7953"
             ],
             [
              0.7777777777777778,
              "#fb9f3a"
             ],
             [
              0.8888888888888888,
              "#fdca26"
             ],
             [
              1,
              "#f0f921"
             ]
            ],
            "type": "histogram2dcontour"
           }
          ],
          "mesh3d": [
           {
            "colorbar": {
             "outlinewidth": 0,
             "ticks": ""
            },
            "type": "mesh3d"
           }
          ],
          "parcoords": [
           {
            "line": {
             "colorbar": {
              "outlinewidth": 0,
              "ticks": ""
             }
            },
            "type": "parcoords"
           }
          ],
          "pie": [
           {
            "automargin": true,
            "type": "pie"
           }
          ],
          "scatter": [
           {
            "fillpattern": {
             "fillmode": "overlay",
             "size": 10,
             "solidity": 0.2
            },
            "type": "scatter"
           }
          ],
          "scatter3d": [
           {
            "line": {
             "colorbar": {
              "outlinewidth": 0,
              "ticks": ""
             }
            },
            "marker": {
             "colorbar": {
              "outlinewidth": 0,
              "ticks": ""
             }
            },
            "type": "scatter3d"
           }
          ],
          "scattercarpet": [
           {
            "marker": {
             "colorbar": {
              "outlinewidth": 0,
              "ticks": ""
             }
            },
            "type": "scattercarpet"
           }
          ],
          "scattergeo": [
           {
            "marker": {
             "colorbar": {
              "outlinewidth": 0,
              "ticks": ""
             }
            },
            "type": "scattergeo"
           }
          ],
          "scattergl": [
           {
            "marker": {
             "colorbar": {
              "outlinewidth": 0,
              "ticks": ""
             }
            },
            "type": "scattergl"
           }
          ],
          "scattermapbox": [
           {
            "marker": {
             "colorbar": {
              "outlinewidth": 0,
              "ticks": ""
             }
            },
            "type": "scattermapbox"
           }
          ],
          "scatterpolar": [
           {
            "marker": {
             "colorbar": {
              "outlinewidth": 0,
              "ticks": ""
             }
            },
            "type": "scatterpolar"
           }
          ],
          "scatterpolargl": [
           {
            "marker": {
             "colorbar": {
              "outlinewidth": 0,
              "ticks": ""
             }
            },
            "type": "scatterpolargl"
           }
          ],
          "scatterternary": [
           {
            "marker": {
             "colorbar": {
              "outlinewidth": 0,
              "ticks": ""
             }
            },
            "type": "scatterternary"
           }
          ],
          "surface": [
           {
            "colorbar": {
             "outlinewidth": 0,
             "ticks": ""
            },
            "colorscale": [
             [
              0,
              "#0d0887"
             ],
             [
              0.1111111111111111,
              "#46039f"
             ],
             [
              0.2222222222222222,
              "#7201a8"
             ],
             [
              0.3333333333333333,
              "#9c179e"
             ],
             [
              0.4444444444444444,
              "#bd3786"
             ],
             [
              0.5555555555555556,
              "#d8576b"
             ],
             [
              0.6666666666666666,
              "#ed7953"
             ],
             [
              0.7777777777777778,
              "#fb9f3a"
             ],
             [
              0.8888888888888888,
              "#fdca26"
             ],
             [
              1,
              "#f0f921"
             ]
            ],
            "type": "surface"
           }
          ],
          "table": [
           {
            "cells": {
             "fill": {
              "color": "#EBF0F8"
             },
             "line": {
              "color": "white"
             }
            },
            "header": {
             "fill": {
              "color": "#C8D4E3"
             },
             "line": {
              "color": "white"
             }
            },
            "type": "table"
           }
          ]
         },
         "layout": {
          "annotationdefaults": {
           "arrowcolor": "#2a3f5f",
           "arrowhead": 0,
           "arrowwidth": 1
          },
          "autotypenumbers": "strict",
          "coloraxis": {
           "colorbar": {
            "outlinewidth": 0,
            "ticks": ""
           }
          },
          "colorscale": {
           "diverging": [
            [
             0,
             "#8e0152"
            ],
            [
             0.1,
             "#c51b7d"
            ],
            [
             0.2,
             "#de77ae"
            ],
            [
             0.3,
             "#f1b6da"
            ],
            [
             0.4,
             "#fde0ef"
            ],
            [
             0.5,
             "#f7f7f7"
            ],
            [
             0.6,
             "#e6f5d0"
            ],
            [
             0.7,
             "#b8e186"
            ],
            [
             0.8,
             "#7fbc41"
            ],
            [
             0.9,
             "#4d9221"
            ],
            [
             1,
             "#276419"
            ]
           ],
           "sequential": [
            [
             0,
             "#0d0887"
            ],
            [
             0.1111111111111111,
             "#46039f"
            ],
            [
             0.2222222222222222,
             "#7201a8"
            ],
            [
             0.3333333333333333,
             "#9c179e"
            ],
            [
             0.4444444444444444,
             "#bd3786"
            ],
            [
             0.5555555555555556,
             "#d8576b"
            ],
            [
             0.6666666666666666,
             "#ed7953"
            ],
            [
             0.7777777777777778,
             "#fb9f3a"
            ],
            [
             0.8888888888888888,
             "#fdca26"
            ],
            [
             1,
             "#f0f921"
            ]
           ],
           "sequentialminus": [
            [
             0,
             "#0d0887"
            ],
            [
             0.1111111111111111,
             "#46039f"
            ],
            [
             0.2222222222222222,
             "#7201a8"
            ],
            [
             0.3333333333333333,
             "#9c179e"
            ],
            [
             0.4444444444444444,
             "#bd3786"
            ],
            [
             0.5555555555555556,
             "#d8576b"
            ],
            [
             0.6666666666666666,
             "#ed7953"
            ],
            [
             0.7777777777777778,
             "#fb9f3a"
            ],
            [
             0.8888888888888888,
             "#fdca26"
            ],
            [
             1,
             "#f0f921"
            ]
           ]
          },
          "colorway": [
           "#636efa",
           "#EF553B",
           "#00cc96",
           "#ab63fa",
           "#FFA15A",
           "#19d3f3",
           "#FF6692",
           "#B6E880",
           "#FF97FF",
           "#FECB52"
          ],
          "font": {
           "color": "#2a3f5f"
          },
          "geo": {
           "bgcolor": "white",
           "lakecolor": "white",
           "landcolor": "#E5ECF6",
           "showlakes": true,
           "showland": true,
           "subunitcolor": "white"
          },
          "hoverlabel": {
           "align": "left"
          },
          "hovermode": "closest",
          "mapbox": {
           "style": "light"
          },
          "paper_bgcolor": "white",
          "plot_bgcolor": "#E5ECF6",
          "polar": {
           "angularaxis": {
            "gridcolor": "white",
            "linecolor": "white",
            "ticks": ""
           },
           "bgcolor": "#E5ECF6",
           "radialaxis": {
            "gridcolor": "white",
            "linecolor": "white",
            "ticks": ""
           }
          },
          "scene": {
           "xaxis": {
            "backgroundcolor": "#E5ECF6",
            "gridcolor": "white",
            "gridwidth": 2,
            "linecolor": "white",
            "showbackground": true,
            "ticks": "",
            "zerolinecolor": "white"
           },
           "yaxis": {
            "backgroundcolor": "#E5ECF6",
            "gridcolor": "white",
            "gridwidth": 2,
            "linecolor": "white",
            "showbackground": true,
            "ticks": "",
            "zerolinecolor": "white"
           },
           "zaxis": {
            "backgroundcolor": "#E5ECF6",
            "gridcolor": "white",
            "gridwidth": 2,
            "linecolor": "white",
            "showbackground": true,
            "ticks": "",
            "zerolinecolor": "white"
           }
          },
          "shapedefaults": {
           "line": {
            "color": "#2a3f5f"
           }
          },
          "ternary": {
           "aaxis": {
            "gridcolor": "white",
            "linecolor": "white",
            "ticks": ""
           },
           "baxis": {
            "gridcolor": "white",
            "linecolor": "white",
            "ticks": ""
           },
           "bgcolor": "#E5ECF6",
           "caxis": {
            "gridcolor": "white",
            "linecolor": "white",
            "ticks": ""
           }
          },
          "title": {
           "x": 0.05
          },
          "xaxis": {
           "automargin": true,
           "gridcolor": "white",
           "linecolor": "white",
           "ticks": "",
           "title": {
            "standoff": 15
           },
           "zerolinecolor": "white",
           "zerolinewidth": 2
          },
          "yaxis": {
           "automargin": true,
           "gridcolor": "white",
           "linecolor": "white",
           "ticks": "",
           "title": {
            "standoff": 15
           },
           "zerolinecolor": "white",
           "zerolinewidth": 2
          }
         }
        },
        "title": {
         "text": "Multiple Pairs Results"
        },
        "xaxis": {
         "anchor": "y",
         "domain": [
          0,
          1
         ],
         "title": {
          "text": "nodes"
         },
         "visible": false
        },
        "yaxis": {
         "anchor": "x",
         "domain": [
          0,
          1
         ],
         "title": {
          "text": "Total Perturbations"
         }
        }
       }
      }
     },
     "metadata": {},
     "output_type": "display_data"
    }
   ],
   "source": [
    "\n",
    "for experiment_type in [\"Single\", \"Sets\", \"Multiple Pairs\"]:\n",
    "    a = df[df[\"experiment_type\"] == experiment_type]\n",
    "    if a.empty: continue\n",
    "    fig = px.bar(a, \n",
    "                title=f\"{experiment_type} Results\",\n",
    "                x=\"nodes\", \n",
    "                y=\"Total Perturbations\", \n",
    "                barmode=\"group\", \n",
    "                color=\"perturber_class\", \n",
    "                facet_col=\"weights\", \n",
    "                # facet_row=\"weights\", \n",
    "                pattern_shape=\"Success\", \n",
    "                # height=1000,\n",
    "                hover_data=[\"top_k\", \"Average Add Time\", \"Average Perturb Time\", \"Original Distance\", \"Number of Paths\", \"Number of Edges\", \"Iterations\", \"Final Distance\", \"Status\"],\n",
    "                category_orders={\"experiment_type\": [\"Single\", \"Sets\", \"Multiple Pairs\"], \n",
    "                                \"Status\": [\"Success\"]+[s for s in df[\"Status\"].unique() if s != \"Success\"],\n",
    "                                \"Success\": [True, False]}\n",
    "                )\n",
    "    fig.update_xaxes(visible=False, matches=None)\n",
    "    fig.show()"
   ]
  }
 ],
 "metadata": {
  "kernelspec": {
   "display_name": "gurobi",
   "language": "python",
   "name": "python3"
  },
  "language_info": {
   "codemirror_mode": {
    "name": "ipython",
    "version": 3
   },
   "file_extension": ".py",
   "mimetype": "text/x-python",
   "name": "python",
   "nbconvert_exporter": "python",
   "pygments_lexer": "ipython3",
   "version": "3.10.8"
  },
  "orig_nbformat": 4,
  "vscode": {
   "interpreter": {
    "hash": "58767115bfc5442e8a9b964f11fbe5a0a1a5198c790ff96fb7618efb86a4a4a0"
   }
  }
 },
 "nbformat": 4,
 "nbformat_minor": 2
}
