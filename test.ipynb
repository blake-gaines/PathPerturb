{
 "cells": [
  {
   "cell_type": "code",
   "execution_count": null,
   "metadata": {},
   "outputs": [],
   "source": [
    "import networkx as nx\n",
    "import random\n",
    "from data import DataSets\n",
    "from utils import get_P_graph"
   ]
  },
  {
   "cell_type": "code",
   "execution_count": null,
   "metadata": {},
   "outputs": [],
   "source": [
    "G = DataSets.get_directed_networkx_graph(dataset=DataSets.FACEBOOK, lcc=False)\n",
    "G[\"weight\"] = 1\n",
    "s,t = 1,2\n",
    "P = get_P_graph(G)"
   ]
  },
  {
   "cell_type": "code",
   "execution_count": null,
   "metadata": {},
   "outputs": [],
   "source": [
    "c = nx.edge_betweenness_centrality_subset(P, sources={s}, targets={t}, normalized=True, weight=\"weight\")"
   ]
  }
 ],
 "metadata": {
  "kernelspec": {
   "display_name": "gurobi",
   "language": "python",
   "name": "python3"
  },
  "language_info": {
   "name": "python",
   "version": "3.10.8"
  },
  "orig_nbformat": 4,
  "vscode": {
   "interpreter": {
    "hash": "58767115bfc5442e8a9b964f11fbe5a0a1a5198c790ff96fb7618efb86a4a4a0"
   }
  }
 },
 "nbformat": 4,
 "nbformat_minor": 2
}
